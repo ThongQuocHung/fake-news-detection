{
  "nbformat": 4,
  "nbformat_minor": 0,
  "metadata": {
    "colab": {
      "provenance": [],
      "toc_visible": true
    },
    "kernelspec": {
      "name": "python3",
      "display_name": "Python 3"
    },
    "language_info": {
      "name": "python"
    }
  },
  "cells": [
    {
      "cell_type": "markdown",
      "source": [
        "# **Fake News Detection on UPFD dataset**"
      ],
      "metadata": {
        "id": "DwRMdI3yMBM-"
      }
    },
    {
      "cell_type": "markdown",
      "source": [
        "# Setup\n"
      ],
      "metadata": {
        "id": "fNsU9gSzsiOM"
      }
    },
    {
      "cell_type": "code",
      "source": [
        "from google.colab import drive\n",
        "drive.mount('/content/drive')"
      ],
      "metadata": {
        "colab": {
          "base_uri": "https://localhost:8080/"
        },
        "id": "7VMFggAT1nPr",
        "outputId": "d62bb717-673b-4345-96d8-74dba2f2a670"
      },
      "execution_count": null,
      "outputs": [
        {
          "output_type": "stream",
          "name": "stdout",
          "text": [
            "Mounted at /content/drive\n"
          ]
        }
      ]
    },
    {
      "cell_type": "code",
      "source": [
        "# Install torch geometric\n",
        "import os\n",
        "if 'IS_GRADESCOPE_ENV' not in os.environ:\n",
        "  !pip install torch-scatter -f https://pytorch-geometric.com/whl/torch-1.13.1+cu116.html\n",
        "  !pip install torch-sparse -f https://pytorch-geometric.com/whl/torch-1.13.1+cu116.html\n",
        "  !pip install torch-geometric\n",
        "  !pip install -q git+https://github.com/snap-stanford/deepsnap.git\n",
        "\n",
        "import torch_geometric\n",
        "torch_geometric.__version__"
      ],
      "metadata": {
        "id": "krMYyS_vr7cb",
        "colab": {
          "base_uri": "https://localhost:8080/",
          "height": 1000
        },
        "outputId": "3fe4dfbc-b71f-4a98-ca14-0d8dc3515a00"
      },
      "execution_count": null,
      "outputs": [
        {
          "output_type": "stream",
          "name": "stdout",
          "text": [
            "Looking in links: https://pytorch-geometric.com/whl/torch-1.13.1+cu116.html\n",
            "Collecting torch-scatter\n",
            "  Downloading torch_scatter-2.1.2.tar.gz (108 kB)\n",
            "\u001b[2K     \u001b[90m━━━━━━━━━━━━━━━━━━━━━━━━━━━━━━━━━━━━━━━━\u001b[0m \u001b[32m108.0/108.0 kB\u001b[0m \u001b[31m1.8 MB/s\u001b[0m eta \u001b[36m0:00:00\u001b[0m\n",
            "\u001b[?25h  Preparing metadata (setup.py) ... \u001b[?25l\u001b[?25hdone\n",
            "Building wheels for collected packages: torch-scatter\n",
            "  Building wheel for torch-scatter (setup.py) ... \u001b[?25l\u001b[?25hdone\n",
            "  Created wheel for torch-scatter: filename=torch_scatter-2.1.2-cp310-cp310-linux_x86_64.whl size=504020 sha256=9befd618a566de7cc6b7cf1ecaf3f9d8eeb6ffd1b40f81e83aadce3362c7eba9\n",
            "  Stored in directory: /root/.cache/pip/wheels/92/f1/2b/3b46d54b134259f58c8363568569053248040859b1a145b3ce\n",
            "Successfully built torch-scatter\n",
            "Installing collected packages: torch-scatter\n",
            "Successfully installed torch-scatter-2.1.2\n",
            "Looking in links: https://pytorch-geometric.com/whl/torch-1.13.1+cu116.html\n",
            "Collecting torch-sparse\n",
            "  Downloading torch_sparse-0.6.18.tar.gz (209 kB)\n",
            "\u001b[2K     \u001b[90m━━━━━━━━━━━━━━━━━━━━━━━━━━━━━━━━━━━━━━━━\u001b[0m \u001b[32m210.0/210.0 kB\u001b[0m \u001b[31m3.9 MB/s\u001b[0m eta \u001b[36m0:00:00\u001b[0m\n",
            "\u001b[?25h  Preparing metadata (setup.py) ... \u001b[?25l\u001b[?25hdone\n",
            "Requirement already satisfied: scipy in /usr/local/lib/python3.10/dist-packages (from torch-sparse) (1.11.4)\n",
            "Requirement already satisfied: numpy<1.28.0,>=1.21.6 in /usr/local/lib/python3.10/dist-packages (from scipy->torch-sparse) (1.25.2)\n",
            "Building wheels for collected packages: torch-sparse\n",
            "  Building wheel for torch-sparse (setup.py) ... \u001b[?25l\u001b[?25hdone\n",
            "  Created wheel for torch-sparse: filename=torch_sparse-0.6.18-cp310-cp310-linux_x86_64.whl size=1071448 sha256=ab99baf01ec23df0844eac6b8669bca289056c42d13345ff4a3aa3df50ce693b\n",
            "  Stored in directory: /root/.cache/pip/wheels/c9/dd/0f/a6a16f9f3b0236733d257b4b4ea91b548b984a341ed3b8f38c\n",
            "Successfully built torch-sparse\n",
            "Installing collected packages: torch-sparse\n",
            "Successfully installed torch-sparse-0.6.18\n",
            "Collecting torch-geometric\n",
            "  Downloading torch_geometric-2.5.1-py3-none-any.whl (1.1 MB)\n",
            "\u001b[2K     \u001b[90m━━━━━━━━━━━━━━━━━━━━━━━━━━━━━━━━━━━━━━━━\u001b[0m \u001b[32m1.1/1.1 MB\u001b[0m \u001b[31m12.0 MB/s\u001b[0m eta \u001b[36m0:00:00\u001b[0m\n",
            "\u001b[?25hRequirement already satisfied: tqdm in /usr/local/lib/python3.10/dist-packages (from torch-geometric) (4.66.2)\n",
            "Requirement already satisfied: numpy in /usr/local/lib/python3.10/dist-packages (from torch-geometric) (1.25.2)\n",
            "Requirement already satisfied: scipy in /usr/local/lib/python3.10/dist-packages (from torch-geometric) (1.11.4)\n",
            "Requirement already satisfied: fsspec in /usr/local/lib/python3.10/dist-packages (from torch-geometric) (2023.6.0)\n",
            "Requirement already satisfied: jinja2 in /usr/local/lib/python3.10/dist-packages (from torch-geometric) (3.1.3)\n",
            "Requirement already satisfied: aiohttp in /usr/local/lib/python3.10/dist-packages (from torch-geometric) (3.9.3)\n",
            "Requirement already satisfied: requests in /usr/local/lib/python3.10/dist-packages (from torch-geometric) (2.31.0)\n",
            "Requirement already satisfied: pyparsing in /usr/local/lib/python3.10/dist-packages (from torch-geometric) (3.1.2)\n",
            "Requirement already satisfied: scikit-learn in /usr/local/lib/python3.10/dist-packages (from torch-geometric) (1.2.2)\n",
            "Requirement already satisfied: psutil>=5.8.0 in /usr/local/lib/python3.10/dist-packages (from torch-geometric) (5.9.5)\n",
            "Requirement already satisfied: aiosignal>=1.1.2 in /usr/local/lib/python3.10/dist-packages (from aiohttp->torch-geometric) (1.3.1)\n",
            "Requirement already satisfied: attrs>=17.3.0 in /usr/local/lib/python3.10/dist-packages (from aiohttp->torch-geometric) (23.2.0)\n",
            "Requirement already satisfied: frozenlist>=1.1.1 in /usr/local/lib/python3.10/dist-packages (from aiohttp->torch-geometric) (1.4.1)\n",
            "Requirement already satisfied: multidict<7.0,>=4.5 in /usr/local/lib/python3.10/dist-packages (from aiohttp->torch-geometric) (6.0.5)\n",
            "Requirement already satisfied: yarl<2.0,>=1.0 in /usr/local/lib/python3.10/dist-packages (from aiohttp->torch-geometric) (1.9.4)\n",
            "Requirement already satisfied: async-timeout<5.0,>=4.0 in /usr/local/lib/python3.10/dist-packages (from aiohttp->torch-geometric) (4.0.3)\n",
            "Requirement already satisfied: MarkupSafe>=2.0 in /usr/local/lib/python3.10/dist-packages (from jinja2->torch-geometric) (2.1.5)\n",
            "Requirement already satisfied: charset-normalizer<4,>=2 in /usr/local/lib/python3.10/dist-packages (from requests->torch-geometric) (3.3.2)\n",
            "Requirement already satisfied: idna<4,>=2.5 in /usr/local/lib/python3.10/dist-packages (from requests->torch-geometric) (3.6)\n",
            "Requirement already satisfied: urllib3<3,>=1.21.1 in /usr/local/lib/python3.10/dist-packages (from requests->torch-geometric) (2.0.7)\n",
            "Requirement already satisfied: certifi>=2017.4.17 in /usr/local/lib/python3.10/dist-packages (from requests->torch-geometric) (2024.2.2)\n",
            "Requirement already satisfied: joblib>=1.1.1 in /usr/local/lib/python3.10/dist-packages (from scikit-learn->torch-geometric) (1.3.2)\n",
            "Requirement already satisfied: threadpoolctl>=2.0.0 in /usr/local/lib/python3.10/dist-packages (from scikit-learn->torch-geometric) (3.3.0)\n",
            "Installing collected packages: torch-geometric\n",
            "Successfully installed torch-geometric-2.5.1\n",
            "  Preparing metadata (setup.py) ... \u001b[?25l\u001b[?25hdone\n",
            "\u001b[2K     \u001b[90m━━━━━━━━━━━━━━━━━━━━━━━━━━━━━━━━━━━━━━━━\u001b[0m \u001b[32m23.7/23.7 MB\u001b[0m \u001b[31m32.4 MB/s\u001b[0m eta \u001b[36m0:00:00\u001b[0m\n",
            "\u001b[2K     \u001b[90m━━━━━━━━━━━━━━━━━━━━━━━━━━━━━━━━━━━━━━━━\u001b[0m \u001b[32m823.6/823.6 kB\u001b[0m \u001b[31m40.9 MB/s\u001b[0m eta \u001b[36m0:00:00\u001b[0m\n",
            "\u001b[2K     \u001b[90m━━━━━━━━━━━━━━━━━━━━━━━━━━━━━━━━━━━━━━━━\u001b[0m \u001b[32m14.1/14.1 MB\u001b[0m \u001b[31m44.8 MB/s\u001b[0m eta \u001b[36m0:00:00\u001b[0m\n",
            "\u001b[2K     \u001b[90m━━━━━━━━━━━━━━━━━━━━━━━━━━━━━━━━━━━━━━━━\u001b[0m \u001b[32m731.7/731.7 MB\u001b[0m \u001b[31m954.8 kB/s\u001b[0m eta \u001b[36m0:00:00\u001b[0m\n",
            "\u001b[2K     \u001b[90m━━━━━━━━━━━━━━━━━━━━━━━━━━━━━━━━━━━━━━━━\u001b[0m \u001b[32m410.6/410.6 MB\u001b[0m \u001b[31m2.3 MB/s\u001b[0m eta \u001b[36m0:00:00\u001b[0m\n",
            "\u001b[2K     \u001b[90m━━━━━━━━━━━━━━━━━━━━━━━━━━━━━━━━━━━━━━━━\u001b[0m \u001b[32m121.6/121.6 MB\u001b[0m \u001b[31m6.4 MB/s\u001b[0m eta \u001b[36m0:00:00\u001b[0m\n",
            "\u001b[2K     \u001b[90m━━━━━━━━━━━━━━━━━━━━━━━━━━━━━━━━━━━━━━━━\u001b[0m \u001b[32m56.5/56.5 MB\u001b[0m \u001b[31m8.0 MB/s\u001b[0m eta \u001b[36m0:00:00\u001b[0m\n",
            "\u001b[2K     \u001b[90m━━━━━━━━━━━━━━━━━━━━━━━━━━━━━━━━━━━━━━━━\u001b[0m \u001b[32m124.2/124.2 MB\u001b[0m \u001b[31m5.8 MB/s\u001b[0m eta \u001b[36m0:00:00\u001b[0m\n",
            "\u001b[2K     \u001b[90m━━━━━━━━━━━━━━━━━━━━━━━━━━━━━━━━━━━━━━━━\u001b[0m \u001b[32m196.0/196.0 MB\u001b[0m \u001b[31m3.3 MB/s\u001b[0m eta \u001b[36m0:00:00\u001b[0m\n",
            "\u001b[2K     \u001b[90m━━━━━━━━━━━━━━━━━━━━━━━━━━━━━━━━━━━━━━━━\u001b[0m \u001b[32m166.0/166.0 MB\u001b[0m \u001b[31m2.5 MB/s\u001b[0m eta \u001b[36m0:00:00\u001b[0m\n",
            "\u001b[2K     \u001b[90m━━━━━━━━━━━━━━━━━━━━━━━━━━━━━━━━━━━━━━━━\u001b[0m \u001b[32m99.1/99.1 kB\u001b[0m \u001b[31m9.0 MB/s\u001b[0m eta \u001b[36m0:00:00\u001b[0m\n",
            "\u001b[2K     \u001b[90m━━━━━━━━━━━━━━━━━━━━━━━━━━━━━━━━━━━━━━━━\u001b[0m \u001b[32m21.1/21.1 MB\u001b[0m \u001b[31m50.0 MB/s\u001b[0m eta \u001b[36m0:00:00\u001b[0m\n",
            "\u001b[?25h  Building wheel for deepsnap (setup.py) ... \u001b[?25l\u001b[?25hdone\n"
          ]
        },
        {
          "output_type": "execute_result",
          "data": {
            "text/plain": [
              "'2.5.1'"
            ],
            "application/vnd.google.colaboratory.intrinsic+json": {
              "type": "string"
            }
          },
          "metadata": {},
          "execution_count": 2
        }
      ]
    },
    {
      "cell_type": "code",
      "execution_count": null,
      "metadata": {
        "id": "wmMf4WhBrjDF"
      },
      "outputs": [],
      "source": [
        "import argparse\n",
        "import os.path as osp\n",
        "import numpy as np\n",
        "from math import ceil\n",
        "import pandas as pd\n",
        "import copy\n",
        "from tqdm import tqdm\n",
        "\n",
        "import torch\n",
        "import torch.nn.functional as F\n",
        "from torch.nn import Linear\n",
        "\n",
        "from torch_geometric.datasets import UPFD\n",
        "from torch_geometric.loader import DataLoader\n",
        "from torch_geometric.nn import GATConv, GCNConv, SAGEConv, global_max_pool, DenseSAGEConv\n",
        "from torch_geometric.transforms import ToUndirected\n",
        "from sklearn.metrics import f1_score, accuracy_score, roc_auc_score\n",
        "from torch_geometric.nn import global_mean_pool as gmp\n",
        "\n",
        "import torch.nn.functional as F\n",
        "from torch_geometric.data import DenseDataLoader\n",
        "import torch_geometric.transforms as T\n",
        "from torch_geometric.nn import DenseSAGEConv, dense_diff_pool\n",
        "from torch.utils.data import random_split\n",
        "import matplotlib.pyplot as plt\n",
        "import time\n",
        "from tqdm import tqdm"
      ]
    },
    {
      "cell_type": "markdown",
      "source": [
        "\n",
        "# Load Data"
      ],
      "metadata": {
        "id": "uhaorcPis4wg"
      }
    },
    {
      "cell_type": "code",
      "source": [
        "import os\n",
        "import os.path as osp\n",
        "import torch\n",
        "from typing import Callable, List, Optional\n",
        "\n",
        "import numpy as np\n",
        "import scipy.sparse as sp\n",
        "import torch\n",
        "\n",
        "from torch_geometric.data import (\n",
        "    Data,\n",
        "    InMemoryDataset,\n",
        "    download_url,\n",
        "    extract_zip,\n",
        ")\n",
        "from torch_geometric.io import read_txt_array\n",
        "from torch_geometric.utils import coalesce, cumsum\n",
        "\n",
        "\n",
        "class UPFD(InMemoryDataset):\n",
        "    url = 'https://drive.usercontent.google.com/download?id={}&export=download&authuser=5&confirm=t'\n",
        "\n",
        "    ids = {\n",
        "        'politifact': '1KOmSrlGcC50PjkvRVbyb_WoWHVql06J-',\n",
        "        'gossipcop': '10bEhVUnJQqsYI9-D9tmSMDHmjBki8lcX',\n",
        "    }\n",
        "\n",
        "    def __init__(\n",
        "        self,\n",
        "        root: str,\n",
        "        name: str,\n",
        "        feature: str,\n",
        "        split: str = \"train\",\n",
        "        transform: Optional[Callable] = None,\n",
        "        pre_transform: Optional[Callable] = None,\n",
        "        pre_filter: Optional[Callable] = None,\n",
        "    ) -> None:\n",
        "        self.root = root\n",
        "        self.name = name\n",
        "        self.feature = feature\n",
        "        super().__init__(root, transform, pre_transform, pre_filter)\n",
        "\n",
        "        assert split in ['train', 'val', 'test']\n",
        "        path = self.processed_paths[['train', 'val', 'test'].index(split)]\n",
        "        self.load(path)\n",
        "\n",
        "    @property\n",
        "    def raw_dir(self) -> str:\n",
        "        return osp.join(self.root, self.name, 'raw')\n",
        "\n",
        "    @property\n",
        "    def processed_dir(self) -> str:\n",
        "        return osp.join(self.root, self.name, 'processed', self.feature)\n",
        "\n",
        "    @property\n",
        "    def raw_file_names(self) -> List[str]:\n",
        "        return [\n",
        "            'node_graph_id.npy', 'graph_labels.npy', 'A.txt', 'train_idx.npy',\n",
        "            'val_idx.npy', 'test_idx.npy', f'new_{self.feature}_feature.npz'\n",
        "        ]\n",
        "\n",
        "    @property\n",
        "    def processed_file_names(self) -> List[str]:\n",
        "        return ['train.pt', 'val.pt', 'test.pt']\n",
        "\n",
        "    def download(self) -> None:\n",
        "        path = download_url(self.url.format(self.ids[self.name]),self.raw_dir)\n",
        "        extract_zip(path, self.raw_dir)\n",
        "        os.remove(path)\n",
        "\n",
        "    def process(self) -> None:\n",
        "        x = sp.load_npz(\n",
        "            osp.join(self.raw_dir, f'new_{self.feature}_feature.npz'))\n",
        "        x = torch.from_numpy(x.todense()).to(torch.float)\n",
        "\n",
        "        edge_index = read_txt_array(osp.join(self.raw_dir, 'A.txt'), sep=',',\n",
        "                                    dtype=torch.long).t()\n",
        "        edge_index = coalesce(edge_index, num_nodes=x.size(0))\n",
        "\n",
        "        y = np.load(osp.join(self.raw_dir, 'graph_labels.npy'))\n",
        "        y = torch.from_numpy(y).to(torch.long)\n",
        "        _, y = y.unique(sorted=True, return_inverse=True)\n",
        "\n",
        "        batch = np.load(osp.join(self.raw_dir, 'node_graph_id.npy'))\n",
        "        batch = torch.from_numpy(batch).to(torch.long)\n",
        "\n",
        "        node_slice = cumsum(batch.bincount())\n",
        "        edge_slice = cumsum(batch[edge_index[0]].bincount())\n",
        "        graph_slice = torch.arange(y.size(0) + 1)\n",
        "        self.slices = {\n",
        "            'x': node_slice,\n",
        "            'edge_index': edge_slice,\n",
        "            'y': graph_slice\n",
        "        }\n",
        "\n",
        "        edge_index -= node_slice[batch[edge_index[0]]].view(1, -1)\n",
        "        self.data = Data(x=x, edge_index=edge_index, y=y)\n",
        "\n",
        "        for path, split in zip(self.processed_paths, ['train', 'val', 'test']):\n",
        "            idx = np.load(osp.join(self.raw_dir, f'{split}_idx.npy')).tolist()\n",
        "            data_list = [self.get(i) for i in idx]\n",
        "            if self.pre_filter is not None:\n",
        "                data_list = [d for d in data_list if self.pre_filter(d)]\n",
        "            if self.pre_transform is not None:\n",
        "                data_list = [self.pre_transform(d) for d in data_list]\n",
        "            self.save(data_list, path)\n",
        "\n",
        "    def __repr__(self) -> str:\n",
        "        return (f'{self.__class__.__name__}({len(self)}, name={self.name}, '\n",
        "                f'feature={self.feature})')"
      ],
      "metadata": {
        "id": "uz-vkL2ETaTk"
      },
      "execution_count": null,
      "outputs": []
    },
    {
      "cell_type": "code",
      "source": [
        "def load_data(split):\n",
        "  data_profile =  UPFD('/content/drive/MyDrive', \"politifact\", \"profile\", split, ToUndirected())\n",
        "  data_bert =  UPFD('/content/drive/MyDrive', \"politifact\", \"bert\", split, ToUndirected())\n",
        "  data_profile.data.x = torch.cat((data_profile.data.x, data_bert.data.x),dim =1)\n",
        "\n",
        "  return data_profile"
      ],
      "metadata": {
        "id": "MwS27n4ms7jv"
      },
      "execution_count": null,
      "outputs": []
    },
    {
      "cell_type": "code",
      "source": [
        "# Retrieve data\n",
        "train_data = load_data('train')\n",
        "test_data = load_data('test')\n",
        "val_data = load_data('val')\n",
        "\n",
        "# Prepare data loader for GNN\n",
        "train_loader = DataLoader(train_data, batch_size=128, shuffle=True)\n",
        "val_loader = DataLoader(val_data, batch_size=128, shuffle=False)\n",
        "test_loader = DataLoader(test_data, batch_size=128, shuffle=False)"
      ],
      "metadata": {
        "id": "YV9G0q8Cug9K",
        "colab": {
          "base_uri": "https://localhost:8080/"
        },
        "outputId": "92a03e04-42a9-47fa-faba-0ad329810953"
      },
      "execution_count": null,
      "outputs": [
        {
          "output_type": "stream",
          "name": "stderr",
          "text": [
            "Processing...\n",
            "Done!\n",
            "/usr/local/lib/python3.10/dist-packages/torch_geometric/data/in_memory_dataset.py:300: UserWarning: It is not recommended to directly access the internal storage format `data` of an 'InMemoryDataset'. If you are absolutely certain what you are doing, access the internal storage via `InMemoryDataset._data` instead to suppress this warning. Alternatively, you can access stacked individual attributes of every graph via `dataset.{attr_name}`.\n",
            "  warnings.warn(msg)\n"
          ]
        }
      ]
    },
    {
      "cell_type": "markdown",
      "source": [
        "# **Bi_GCN**"
      ],
      "metadata": {
        "id": "3uA4N1lM4lYj"
      }
    },
    {
      "cell_type": "code",
      "source": [
        "!pip install utils"
      ],
      "metadata": {
        "colab": {
          "base_uri": "https://localhost:8080/"
        },
        "id": "VmDhzz-jXBuI",
        "outputId": "6eaec8f9-84dd-4811-e7b7-78e67aa16c51"
      },
      "execution_count": null,
      "outputs": [
        {
          "output_type": "stream",
          "name": "stdout",
          "text": [
            "Collecting utils\n",
            "  Downloading utils-1.0.2.tar.gz (13 kB)\n",
            "  Preparing metadata (setup.py) ... \u001b[?25l\u001b[?25hdone\n",
            "Building wheels for collected packages: utils\n",
            "  Building wheel for utils (setup.py) ... \u001b[?25l\u001b[?25hdone\n",
            "  Created wheel for utils: filename=utils-1.0.2-py2.py3-none-any.whl size=13906 sha256=6d29d1913171e77cf18ac6cfd817dca1adc417f5fa1d0126f851e305270fc877\n",
            "  Stored in directory: /root/.cache/pip/wheels/b8/39/f5/9d0ca31dba85773ececf0a7f5469f18810e1c8a8ed9da28ca7\n",
            "Successfully built utils\n",
            "Installing collected packages: utils\n",
            "Successfully installed utils-1.0.2\n"
          ]
        }
      ]
    },
    {
      "cell_type": "code",
      "source": [
        "!pip install keras\n",
        "!pip install scikit-learn\n",
        "!pip install tqdm\n",
        "!pip install numpy\n",
        "!pip install scipy"
      ],
      "metadata": {
        "colab": {
          "base_uri": "https://localhost:8080/"
        },
        "id": "iCFjsWaZXXr0",
        "outputId": "91939b20-f553-444e-bbf2-db236af21de8"
      },
      "execution_count": null,
      "outputs": [
        {
          "output_type": "stream",
          "name": "stdout",
          "text": [
            "Requirement already satisfied: keras in /usr/local/lib/python3.10/dist-packages (2.15.0)\n",
            "Requirement already satisfied: scikit-learn in /usr/local/lib/python3.10/dist-packages (1.2.2)\n",
            "Requirement already satisfied: numpy>=1.17.3 in /usr/local/lib/python3.10/dist-packages (from scikit-learn) (1.25.2)\n",
            "Requirement already satisfied: scipy>=1.3.2 in /usr/local/lib/python3.10/dist-packages (from scikit-learn) (1.11.4)\n",
            "Requirement already satisfied: joblib>=1.1.1 in /usr/local/lib/python3.10/dist-packages (from scikit-learn) (1.3.2)\n",
            "Requirement already satisfied: threadpoolctl>=2.0.0 in /usr/local/lib/python3.10/dist-packages (from scikit-learn) (3.3.0)\n",
            "Requirement already satisfied: tqdm in /usr/local/lib/python3.10/dist-packages (4.66.2)\n",
            "Requirement already satisfied: numpy in /usr/local/lib/python3.10/dist-packages (1.25.2)\n",
            "Requirement already satisfied: scipy in /usr/local/lib/python3.10/dist-packages (1.11.4)\n",
            "Requirement already satisfied: numpy<1.28.0,>=1.21.6 in /usr/local/lib/python3.10/dist-packages (from scipy) (1.25.2)\n"
          ]
        }
      ]
    },
    {
      "cell_type": "code",
      "source": [
        "import os\n",
        "import sys\n",
        "sys.path.append(os.getcwd())\n",
        "import argparse\n",
        "from tqdm import tqdm\n",
        "import copy as cp\n",
        "\n",
        "import torch\n",
        "from torch.utils.data import random_split\n",
        "from torch_scatter import scatter_mean\n",
        "import torch.nn.functional as F\n",
        "from torch_geometric.nn import GCNConv\n",
        "from torch_geometric.data import DataLoader, DataListLoader\n",
        "from torch_geometric.nn import DataParallel\n",
        "\n",
        "\n",
        "import sys\n",
        "sys.path.append('/content/drive/MyDrive/')\n",
        "from data_loader import *\n",
        "from eval_helper import *"
      ],
      "metadata": {
        "id": "u8RuFMqjWskF"
      },
      "execution_count": null,
      "outputs": []
    },
    {
      "cell_type": "code",
      "source": [
        "import os\n",
        "import sys\n",
        "sys.path.append(os.getcwd())\n",
        "import argparse\n",
        "from tqdm import tqdm\n",
        "import copy as cp\n",
        "\n",
        "import torch\n",
        "from torch.utils.data import random_split\n",
        "from torch_scatter import scatter_mean\n",
        "import torch.nn.functional as F\n",
        "from torch_geometric.nn import GCNConv\n",
        "from torch_geometric.data import DataLoader, DataListLoader\n",
        "from torch_geometric.nn import DataParallel\n",
        "\n",
        "\n",
        "class TDrumorGCN(torch.nn.Module):\n",
        "\tdef __init__(self, in_feats, hid_feats, out_feats):\n",
        "\t\tsuper(TDrumorGCN, self).__init__()\n",
        "\t\tself.conv1 = GCNConv(in_feats, hid_feats)\n",
        "\t\tself.conv2 = GCNConv(hid_feats+in_feats, out_feats)\n",
        "\n",
        "\tdef forward(self, data):\n",
        "\t\tx, edge_index = data.x, data.edge_index\n",
        "\t\tx1 = cp.copy(x.float())\n",
        "\t\tx = self.conv1(x, edge_index)\n",
        "\t\tx2 = cp.copy(x)\n",
        "\t\trootindex = data.root_index\n",
        "\t\troot_extend = torch.zeros(len(data.batch), x1.size(1)).to(rootindex.device)\n",
        "\t\tbatch_size = max(data.batch) + 1\n",
        "\n",
        "\t\tfor num_batch in range(batch_size):\n",
        "\t\t\tindex = (torch.eq(data.batch, num_batch))\n",
        "\t\t\troot_extend[index] = x1[rootindex[num_batch]]\n",
        "\t\tx = torch.cat((x, root_extend), 1)\n",
        "\n",
        "\t\tx = F.relu(x)\n",
        "\t\tx = F.dropout(x, training=self.training)\n",
        "\t\tx = self.conv2(x, edge_index)\n",
        "\t\tx = F.relu(x)\n",
        "\t\troot_extend = torch.zeros(len(data.batch), x2.size(1)).to(rootindex.device)\n",
        "\t\tfor num_batch in range(batch_size):\n",
        "\t\t\tindex = (torch.eq(data.batch, num_batch))\n",
        "\t\t\troot_extend[index] = x2[rootindex[num_batch]]\n",
        "\t\tx = torch.cat((x, root_extend), 1)\n",
        "\t\tx = scatter_mean(x, data.batch, dim=0)\n",
        "\n",
        "\t\treturn x\n",
        "\n",
        "\n",
        "class BUrumorGCN(torch.nn.Module):\n",
        "\tdef __init__(self, in_feats, hid_feats, out_feats):\n",
        "\t\tsuper(BUrumorGCN, self).__init__()\n",
        "\t\tself.conv1 = GCNConv(in_feats, hid_feats)\n",
        "\t\tself.conv2 = GCNConv(hid_feats+in_feats, out_feats)\n",
        "\n",
        "\tdef forward(self, data):\n",
        "\t\tx, edge_index = data.x, data.BU_edge_index\n",
        "\t\tx1 = cp.copy(x.float())\n",
        "\t\tx = self.conv1(x, edge_index)\n",
        "\t\tx2 = cp.copy(x)\n",
        "\n",
        "\t\trootindex = data.root_index\n",
        "\t\troot_extend = torch.zeros(len(data.batch), x1.size(1)).to(rootindex.device)\n",
        "\t\tbatch_size = max(data.batch) + 1\n",
        "\t\tfor num_batch in range(batch_size):\n",
        "\t\t\tindex = (torch.eq(data.batch, num_batch))\n",
        "\t\t\troot_extend[index] = x1[rootindex[num_batch]]\n",
        "\t\tx = torch.cat((x, root_extend), 1)\n",
        "\n",
        "\t\tx = F.relu(x)\n",
        "\t\tx = F.dropout(x, training=self.training)\n",
        "\t\tx = self.conv2(x, edge_index)\n",
        "\t\tx = F.relu(x)\n",
        "\t\troot_extend = torch.zeros(len(data.batch), x2.size(1)).to(rootindex.device)\n",
        "\t\tfor num_batch in range(batch_size):\n",
        "\t\t\tindex = (torch.eq(data.batch, num_batch))\n",
        "\t\t\troot_extend[index] = x2[rootindex[num_batch]]\n",
        "\t\tx = torch.cat((x, root_extend), 1)\n",
        "\n",
        "\t\tx = scatter_mean(x, data.batch, dim=0)\n",
        "\t\treturn x\n",
        "\n",
        "\n",
        "class Net(torch.nn.Module):\n",
        "\tdef __init__(self, in_feats, hid_feats, out_feats):\n",
        "\t\tsuper(Net, self).__init__()\n",
        "\t\tself.TDrumorGCN = TDrumorGCN(in_feats, hid_feats, out_feats)\n",
        "\t\tself.BUrumorGCN = BUrumorGCN(in_feats, hid_feats, out_feats)\n",
        "\t\tself.fc = torch.nn.Linear((out_feats+hid_feats) * 2, 2)\n",
        "\n",
        "\tdef forward(self, data):\n",
        "\t\tTD_x = self.TDrumorGCN(data)\n",
        "\t\tBU_x = self.BUrumorGCN(data)\n",
        "\t\tx = torch.cat((TD_x, BU_x), 1)\n",
        "\t\tx = self.fc(x)\n",
        "\t\tx = F.log_softmax(x, dim=1)\n",
        "\t\treturn x\n",
        "\n",
        "\n",
        "def compute_test(loader, verbose=False):\n",
        "\tmodel.eval()\n",
        "\tloss_test = 0.0\n",
        "\tout_log = []\n",
        "\twith torch.no_grad():\n",
        "\t\tfor data in loader:\n",
        "\t\t\tif not args.multi_gpu:\n",
        "\t\t\t\tdata = data.to(args.device)\n",
        "\t\t\tout = model(data)\n",
        "\t\t\tif args.multi_gpu:\n",
        "\t\t\t\ty = torch.cat([d.y for d in data]).to(out.device)\n",
        "\t\t\telse:\n",
        "\t\t\t\ty = data.y\n",
        "\t\t\tif verbose:\n",
        "\t\t\t\tprint(F.softmax(out, dim=1).cpu().numpy())\n",
        "\t\t\tout_log.append([F.softmax(out, dim=1), y])\n",
        "\t\t\tloss_test += F.nll_loss(out, y).item()\n",
        "\treturn eval_deep(out_log, loader), loss_test"
      ],
      "metadata": {
        "id": "fQBOYq38NyEp"
      },
      "execution_count": null,
      "outputs": []
    },
    {
      "cell_type": "markdown",
      "source": [
        "## **Bi_GCN Model Performance**"
      ],
      "metadata": {
        "id": "7UqNYwhHX6Kx"
      }
    },
    {
      "cell_type": "code",
      "source": [
        "parser = argparse.ArgumentParser()\n",
        "\n",
        "parser.add_argument('--seed', type=int, default=777, help='random seed')\n",
        "parser.add_argument('--device', type=str, default='cpu', help='specify cuda devices')\n",
        "# hyper-parameters\n",
        "parser.add_argument('--dataset', type=str, default='politifact', help='[politifact, gossipcop]')\n",
        "parser.add_argument('--batch_size', type=int, default=128, help='batch size')\n",
        "parser.add_argument('--lr', type=float, default=0.001, help='learning rate')\n",
        "parser.add_argument('--weight_decay', type=float, default=0.001, help='weight decay')\n",
        "parser.add_argument('--nhid', type=int, default=128, help='hidden size')\n",
        "parser.add_argument('--TDdroprate', type=float, default=0.2, help='dropout ratio')\n",
        "parser.add_argument('--BUdroprate', type=float, default=0.2, help='dropout ratio')\n",
        "parser.add_argument('--epochs', type=int, default=50, help='maximum number of epochs')\n",
        "parser.add_argument('--multi_gpu', type=bool, default=False, help='multi-gpu mode')\n",
        "parser.add_argument('--feature', type=str, default='bert', help='feature type, [profile, spacy, bert, content]')\n",
        "\n",
        "# args = parser.parse_args()\n",
        "args, _ = parser.parse_known_args()\n",
        "torch.manual_seed(args.seed)\n",
        "if torch.cuda.is_available():\n",
        "\ttorch.cuda.manual_seed(args.seed)\n",
        "\n",
        "dataset = FNNDataset(root='/content/drive/MyDrive', feature=args.feature, empty=False, name=args.dataset,\n",
        "\t\t\t\t\t transform=DropEdge(args.TDdroprate, args.BUdroprate))\n",
        "\n",
        "args.num_classes = dataset.num_classes\n",
        "args.num_features = dataset.num_features\n",
        "\n",
        "\n",
        "num_training = int(len(dataset) * 0.2)\n",
        "num_val = int(len(dataset) * 0.1)\n",
        "num_test = len(dataset) - (num_training + num_val)\n",
        "training_set, validation_set, test_set = random_split(dataset, [num_training, num_val, num_test])\n",
        "\n",
        "if args.multi_gpu:\n",
        "\tloader = DataListLoader\n",
        "else:\n",
        "\tloader = DataLoader\n",
        "\n",
        "train_loader = loader(training_set, batch_size=args.batch_size, shuffle=True)\n",
        "val_loader = loader(validation_set, batch_size=args.batch_size, shuffle=False)\n",
        "test_loader = loader(test_set, batch_size=args.batch_size, shuffle=False)\n",
        "\n",
        "model = Net(args.num_features, args.nhid, args.nhid)\n",
        "if args.multi_gpu:\n",
        "\tmodel = DataParallel(model)\n",
        "model = model.to(args.device)\n",
        "\n",
        "if not args.multi_gpu:\n",
        "\tBU_params = list(map(id, model.BUrumorGCN.conv1.parameters()))\n",
        "\tBU_params += list(map(id, model.BUrumorGCN.conv2.parameters()))\n",
        "\tbase_params = filter(lambda p: id(p) not in BU_params, model.parameters())\n",
        "\toptimizer = torch.optim.Adam([\n",
        "\t\t{'params': base_params},\n",
        "\t\t{'params': model.BUrumorGCN.conv1.parameters(), 'lr': args.lr / 5},\n",
        "\t\t{'params': model.BUrumorGCN.conv2.parameters(), 'lr': args.lr / 5}\n",
        "\t], lr=args.lr, weight_decay=args.weight_decay)\n",
        "else:\n",
        "\tBU_params = list(map(id, model.module.BUrumorGCN.conv1.parameters()))\n",
        "\tBU_params += list(map(id, model.module.BUrumorGCN.conv2.parameters()))\n",
        "\tbase_params = filter(lambda p: id(p) not in BU_params, model.parameters())\n",
        "\toptimizer = torch.optim.Adam([\n",
        "\t\t{'params': base_params},\n",
        "\t\t{'params': model.module.BUrumorGCN.conv1.parameters(), 'lr': args.lr / 5},\n",
        "\t\t{'params': model.module.BUrumorGCN.conv2.parameters(), 'lr': args.lr / 5}\n",
        "\t], lr=args.lr, weight_decay=args.weight_decay)\n",
        "\n"
      ],
      "metadata": {
        "id": "z6odF2GaXwpV",
        "colab": {
          "base_uri": "https://localhost:8080/"
        },
        "outputId": "b708c357-0825-41ea-cf75-1bdd1138bf66"
      },
      "execution_count": null,
      "outputs": [
        {
          "output_type": "stream",
          "name": "stderr",
          "text": [
            "Processing...\n",
            "Done!\n",
            "/usr/local/lib/python3.10/dist-packages/torch_geometric/deprecation.py:26: UserWarning: 'data.DataLoader' is deprecated, use 'loader.DataLoader' instead\n",
            "  warnings.warn(out)\n"
          ]
        }
      ]
    },
    {
      "cell_type": "markdown",
      "source": [
        "## **Bi_GCN Run Model**"
      ],
      "metadata": {
        "id": "cymzBHdHX0k8"
      }
    },
    {
      "cell_type": "code",
      "source": [
        "if __name__ == \"__main__\":\n",
        "\n",
        "\tmodel.train()\n",
        "\tfor epoch in tqdm(range(args.epochs)):\n",
        "\t\tout_log = []\n",
        "\t\tloss_train = 0.0\n",
        "\t\tfor i, data in enumerate(train_loader):\n",
        "\t\t\toptimizer.zero_grad()\n",
        "\t\t\tif not args.multi_gpu:\n",
        "\t\t\t\tdata = data.to(args.device)\n",
        "\t\t\tout = model(data)\n",
        "\t\t\tif args.multi_gpu:\n",
        "\t\t\t\ty = torch.cat([d.y for d in data]).to(out.device)\n",
        "\t\t\telse:\n",
        "\t\t\t\ty = data.y\n",
        "\t\t\tloss = F.nll_loss(out, y)\n",
        "\t\t\tloss.backward()\n",
        "\t\t\toptimizer.step()\n",
        "\t\t\tloss_train += loss.item()\n",
        "\t\t\tout_log.append([F.softmax(out, dim=1), y])\n",
        "\t\tacc_train, _, _, _, recall_train, auc_train, _ = eval_deep(out_log, train_loader)\n",
        "\t\t[acc_val, _, _, _, recall_val, auc_val, _], loss_val = compute_test(val_loader)\n",
        "\t\tprint(f'loss_train: {loss_train:.4f}, acc_train: {acc_train:.4f},'\n",
        "\t\t\t  f' recall_train: {recall_train:.4f}, auc_train: {auc_train:.4f},'\n",
        "\t\t\t  f' loss_val: {loss_val:.4f}, acc_val: {acc_val:.4f},'\n",
        "\t\t\t  f' recall_val: {recall_val:.4f}, auc_val: {auc_val:.4f}')\n",
        "\n",
        "\t[acc, f1_macro, f1_micro, precision, recall, auc, ap], test_loss = compute_test(test_loader, verbose=False)\n",
        "\tprint(f'Test set results: acc: {acc:.4f}, f1_macro: {f1_macro:.4f}, f1_micro: {f1_micro:.4f},'\n",
        "\t\t  f'precision: {precision:.4f}, recall: {recall:.4f}, auc: {auc:.4f}, ap: {ap:.4f}')\n",
        "acc_BiGCN = acc\n",
        "f1_BiGCN = f1_macro\n",
        "auc_BiGCN = auc"
      ],
      "metadata": {
        "id": "hoAXXBBvXz4z",
        "colab": {
          "base_uri": "https://localhost:8080/"
        },
        "outputId": "6b26f368-7e18-4076-9c32-bf0a834378ec"
      },
      "execution_count": null,
      "outputs": [
        {
          "output_type": "stream",
          "name": "stderr",
          "text": [
            "  2%|▏         | 1/50 [00:02<02:22,  2.92s/it]"
          ]
        },
        {
          "output_type": "stream",
          "name": "stdout",
          "text": [
            "loss_train: 0.7047, acc_train: 0.5161, recall_train: 0.5000, auc_train: 0.4915, loss_val: 1.3378, acc_val: 0.4194, recall_val: 0.0000, auc_val: 0.3889\n"
          ]
        },
        {
          "output_type": "stream",
          "name": "stderr",
          "text": [
            "\r  4%|▍         | 2/50 [00:04<01:44,  2.17s/it]"
          ]
        },
        {
          "output_type": "stream",
          "name": "stdout",
          "text": [
            "loss_train: 0.9370, acc_train: 0.5806, recall_train: 0.0000, auc_train: 0.5032, loss_val: 0.8809, acc_val: 0.4194, recall_val: 0.0000, auc_val: 0.4530\n"
          ]
        },
        {
          "output_type": "stream",
          "name": "stderr",
          "text": [
            "\r  6%|▌         | 3/50 [00:06<01:35,  2.03s/it]"
          ]
        },
        {
          "output_type": "stream",
          "name": "stdout",
          "text": [
            "loss_train: 0.6984, acc_train: 0.5806, recall_train: 0.0000, auc_train: 0.6635, loss_val: 0.6645, acc_val: 0.5806, recall_val: 0.8333, auc_val: 0.6026\n"
          ]
        },
        {
          "output_type": "stream",
          "name": "stderr",
          "text": [
            "\r  8%|▊         | 4/50 [00:11<02:31,  3.30s/it]"
          ]
        },
        {
          "output_type": "stream",
          "name": "stdout",
          "text": [
            "loss_train: 0.6862, acc_train: 0.5323, recall_train: 0.8846, auc_train: 0.6859, loss_val: 0.6802, acc_val: 0.6129, recall_val: 0.9444, auc_val: 0.6325\n"
          ]
        },
        {
          "output_type": "stream",
          "name": "stderr",
          "text": [
            "\r 10%|█         | 5/50 [00:15<02:29,  3.31s/it]"
          ]
        },
        {
          "output_type": "stream",
          "name": "stdout",
          "text": [
            "loss_train: 0.7555, acc_train: 0.4516, recall_train: 1.0000, auc_train: 0.6880, loss_val: 0.6571, acc_val: 0.5806, recall_val: 0.8333, auc_val: 0.6239\n"
          ]
        },
        {
          "output_type": "stream",
          "name": "stderr",
          "text": [
            "\r 12%|█▏        | 6/50 [00:18<02:23,  3.25s/it]"
          ]
        },
        {
          "output_type": "stream",
          "name": "stdout",
          "text": [
            "loss_train: 0.6725, acc_train: 0.5968, recall_train: 1.0000, auc_train: 0.7585, loss_val: 0.6876, acc_val: 0.5806, recall_val: 0.3333, auc_val: 0.6410\n"
          ]
        },
        {
          "output_type": "stream",
          "name": "stderr",
          "text": [
            "\r 14%|█▍        | 7/50 [00:22<02:32,  3.54s/it]"
          ]
        },
        {
          "output_type": "stream",
          "name": "stdout",
          "text": [
            "loss_train: 0.5983, acc_train: 0.6935, recall_train: 0.3077, auc_train: 0.9177, loss_val: 0.8242, acc_val: 0.4194, recall_val: 0.0000, auc_val: 0.6966\n"
          ]
        },
        {
          "output_type": "stream",
          "name": "stderr",
          "text": [
            "\r 16%|█▌        | 8/50 [00:26<02:40,  3.83s/it]"
          ]
        },
        {
          "output_type": "stream",
          "name": "stdout",
          "text": [
            "loss_train: 0.6211, acc_train: 0.5806, recall_train: 0.0000, auc_train: 0.9306, loss_val: 0.9032, acc_val: 0.4194, recall_val: 0.0000, auc_val: 0.6154\n"
          ]
        },
        {
          "output_type": "stream",
          "name": "stderr",
          "text": [
            "\r 18%|█▊        | 9/50 [00:30<02:40,  3.91s/it]"
          ]
        },
        {
          "output_type": "stream",
          "name": "stdout",
          "text": [
            "loss_train: 0.6420, acc_train: 0.5806, recall_train: 0.0000, auc_train: 0.9038, loss_val: 0.8374, acc_val: 0.4194, recall_val: 0.0000, auc_val: 0.7350\n"
          ]
        },
        {
          "output_type": "stream",
          "name": "stderr",
          "text": [
            "\r 20%|██        | 10/50 [00:34<02:32,  3.80s/it]"
          ]
        },
        {
          "output_type": "stream",
          "name": "stdout",
          "text": [
            "loss_train: 0.6035, acc_train: 0.5806, recall_train: 0.0000, auc_train: 0.9487, loss_val: 0.7109, acc_val: 0.4194, recall_val: 0.0000, auc_val: 0.7692\n"
          ]
        },
        {
          "output_type": "stream",
          "name": "stderr",
          "text": [
            "\r 22%|██▏       | 11/50 [00:38<02:36,  4.01s/it]"
          ]
        },
        {
          "output_type": "stream",
          "name": "stdout",
          "text": [
            "loss_train: 0.5486, acc_train: 0.6613, recall_train: 0.1923, auc_train: 0.9818, loss_val: 0.6313, acc_val: 0.6774, recall_val: 0.7222, auc_val: 0.7179\n"
          ]
        },
        {
          "output_type": "stream",
          "name": "stderr",
          "text": [
            "\r 24%|██▍       | 12/50 [00:42<02:32,  4.02s/it]"
          ]
        },
        {
          "output_type": "stream",
          "name": "stdout",
          "text": [
            "loss_train: 0.5321, acc_train: 0.8710, recall_train: 0.9231, auc_train: 0.9669, loss_val: 0.6182, acc_val: 0.6774, recall_val: 0.8889, auc_val: 0.6752\n"
          ]
        },
        {
          "output_type": "stream",
          "name": "stderr",
          "text": [
            "\r 26%|██▌       | 13/50 [00:47<02:32,  4.12s/it]"
          ]
        },
        {
          "output_type": "stream",
          "name": "stdout",
          "text": [
            "loss_train: 0.5443, acc_train: 0.7742, recall_train: 1.0000, auc_train: 0.9434, loss_val: 0.6085, acc_val: 0.6774, recall_val: 0.8889, auc_val: 0.7051\n"
          ]
        },
        {
          "output_type": "stream",
          "name": "stderr",
          "text": [
            "\r 28%|██▊       | 14/50 [00:49<02:11,  3.66s/it]"
          ]
        },
        {
          "output_type": "stream",
          "name": "stdout",
          "text": [
            "loss_train: 0.5235, acc_train: 0.7903, recall_train: 1.0000, auc_train: 0.9562, loss_val: 0.6058, acc_val: 0.6774, recall_val: 0.7222, auc_val: 0.7393\n"
          ]
        },
        {
          "output_type": "stream",
          "name": "stderr",
          "text": [
            "\r 30%|███       | 15/50 [00:52<01:53,  3.24s/it]"
          ]
        },
        {
          "output_type": "stream",
          "name": "stdout",
          "text": [
            "loss_train: 0.4777, acc_train: 0.9355, recall_train: 1.0000, auc_train: 0.9829, loss_val: 0.6536, acc_val: 0.6452, recall_val: 0.4444, auc_val: 0.7692\n"
          ]
        },
        {
          "output_type": "stream",
          "name": "stderr",
          "text": [
            "\r 32%|███▏      | 16/50 [00:54<01:39,  2.91s/it]"
          ]
        },
        {
          "output_type": "stream",
          "name": "stdout",
          "text": [
            "loss_train: 0.4513, acc_train: 0.8548, recall_train: 0.6538, auc_train: 0.9936, loss_val: 0.7150, acc_val: 0.5806, recall_val: 0.2778, auc_val: 0.7863\n"
          ]
        },
        {
          "output_type": "stream",
          "name": "stderr",
          "text": [
            "\r 34%|███▍      | 17/50 [00:55<01:22,  2.49s/it]"
          ]
        },
        {
          "output_type": "stream",
          "name": "stdout",
          "text": [
            "loss_train: 0.4538, acc_train: 0.7097, recall_train: 0.3077, auc_train: 0.9925, loss_val: 0.7125, acc_val: 0.5806, recall_val: 0.2778, auc_val: 0.8077\n"
          ]
        },
        {
          "output_type": "stream",
          "name": "stderr",
          "text": [
            "\r 36%|███▌      | 18/50 [00:57<01:10,  2.22s/it]"
          ]
        },
        {
          "output_type": "stream",
          "name": "stdout",
          "text": [
            "loss_train: 0.4369, acc_train: 0.7097, recall_train: 0.3077, auc_train: 0.9968, loss_val: 0.6548, acc_val: 0.6774, recall_val: 0.5000, auc_val: 0.7991\n"
          ]
        },
        {
          "output_type": "stream",
          "name": "stderr",
          "text": [
            "\r 38%|███▊      | 19/50 [00:58<01:02,  2.01s/it]"
          ]
        },
        {
          "output_type": "stream",
          "name": "stdout",
          "text": [
            "loss_train: 0.3994, acc_train: 0.9032, recall_train: 0.7692, auc_train: 0.9957, loss_val: 0.5950, acc_val: 0.7419, recall_val: 0.7222, auc_val: 0.7863\n"
          ]
        },
        {
          "output_type": "stream",
          "name": "stderr",
          "text": [
            "\r 40%|████      | 20/50 [01:00<00:57,  1.93s/it]"
          ]
        },
        {
          "output_type": "stream",
          "name": "stdout",
          "text": [
            "loss_train: 0.3726, acc_train: 0.9677, recall_train: 1.0000, auc_train: 0.9968, loss_val: 0.5728, acc_val: 0.7097, recall_val: 0.8333, auc_val: 0.7821\n"
          ]
        },
        {
          "output_type": "stream",
          "name": "stderr",
          "text": [
            "\r 42%|████▏     | 21/50 [01:02<00:51,  1.78s/it]"
          ]
        },
        {
          "output_type": "stream",
          "name": "stdout",
          "text": [
            "loss_train: 0.3648, acc_train: 0.9355, recall_train: 1.0000, auc_train: 0.9968, loss_val: 0.5651, acc_val: 0.7097, recall_val: 0.8333, auc_val: 0.7906\n"
          ]
        },
        {
          "output_type": "stream",
          "name": "stderr",
          "text": [
            "\r 44%|████▍     | 22/50 [01:03<00:48,  1.75s/it]"
          ]
        },
        {
          "output_type": "stream",
          "name": "stdout",
          "text": [
            "loss_train: 0.3476, acc_train: 0.9355, recall_train: 1.0000, auc_train: 0.9968, loss_val: 0.5737, acc_val: 0.7097, recall_val: 0.7222, auc_val: 0.7949\n"
          ]
        },
        {
          "output_type": "stream",
          "name": "stderr",
          "text": [
            "\r 46%|████▌     | 23/50 [01:06<00:53,  1.97s/it]"
          ]
        },
        {
          "output_type": "stream",
          "name": "stdout",
          "text": [
            "loss_train: 0.3138, acc_train: 0.9516, recall_train: 1.0000, auc_train: 1.0000, loss_val: 0.6008, acc_val: 0.7419, recall_val: 0.6667, auc_val: 0.8248\n"
          ]
        },
        {
          "output_type": "stream",
          "name": "stderr",
          "text": [
            "\r 48%|████▊     | 24/50 [01:08<00:51,  1.99s/it]"
          ]
        },
        {
          "output_type": "stream",
          "name": "stdout",
          "text": [
            "loss_train: 0.2937, acc_train: 0.9839, recall_train: 0.9615, auc_train: 1.0000, loss_val: 0.6264, acc_val: 0.7419, recall_val: 0.6111, auc_val: 0.8376\n"
          ]
        },
        {
          "output_type": "stream",
          "name": "stderr",
          "text": [
            "\r 50%|█████     | 25/50 [01:09<00:46,  1.84s/it]"
          ]
        },
        {
          "output_type": "stream",
          "name": "stdout",
          "text": [
            "loss_train: 0.2838, acc_train: 0.9355, recall_train: 0.8462, auc_train: 1.0000, loss_val: 0.6113, acc_val: 0.7419, recall_val: 0.6111, auc_val: 0.8504\n"
          ]
        },
        {
          "output_type": "stream",
          "name": "stderr",
          "text": [
            "\r 52%|█████▏    | 26/50 [01:11<00:42,  1.77s/it]"
          ]
        },
        {
          "output_type": "stream",
          "name": "stdout",
          "text": [
            "loss_train: 0.2634, acc_train: 0.9677, recall_train: 0.9231, auc_train: 1.0000, loss_val: 0.5699, acc_val: 0.7742, recall_val: 0.7222, auc_val: 0.8376\n"
          ]
        },
        {
          "output_type": "stream",
          "name": "stderr",
          "text": [
            "\r 54%|█████▍    | 27/50 [01:13<00:40,  1.75s/it]"
          ]
        },
        {
          "output_type": "stream",
          "name": "stdout",
          "text": [
            "loss_train: 0.2361, acc_train: 1.0000, recall_train: 1.0000, auc_train: 1.0000, loss_val: 0.5448, acc_val: 0.7419, recall_val: 0.7222, auc_val: 0.8462\n"
          ]
        },
        {
          "output_type": "stream",
          "name": "stderr",
          "text": [
            "\r 56%|█████▌    | 28/50 [01:14<00:36,  1.68s/it]"
          ]
        },
        {
          "output_type": "stream",
          "name": "stdout",
          "text": [
            "loss_train: 0.2226, acc_train: 0.9677, recall_train: 1.0000, auc_train: 1.0000, loss_val: 0.5380, acc_val: 0.7419, recall_val: 0.7222, auc_val: 0.8504\n"
          ]
        },
        {
          "output_type": "stream",
          "name": "stderr",
          "text": [
            "\r 58%|█████▊    | 29/50 [01:16<00:35,  1.70s/it]"
          ]
        },
        {
          "output_type": "stream",
          "name": "stdout",
          "text": [
            "loss_train: 0.2112, acc_train: 0.9516, recall_train: 1.0000, auc_train: 1.0000, loss_val: 0.5361, acc_val: 0.7419, recall_val: 0.7222, auc_val: 0.8590\n"
          ]
        },
        {
          "output_type": "stream",
          "name": "stderr",
          "text": [
            "\r 60%|██████    | 30/50 [01:18<00:34,  1.71s/it]"
          ]
        },
        {
          "output_type": "stream",
          "name": "stdout",
          "text": [
            "loss_train: 0.1883, acc_train: 0.9839, recall_train: 1.0000, auc_train: 1.0000, loss_val: 0.5649, acc_val: 0.7742, recall_val: 0.7222, auc_val: 0.8547\n"
          ]
        },
        {
          "output_type": "stream",
          "name": "stderr",
          "text": [
            "\r 62%|██████▏   | 31/50 [01:20<00:36,  1.91s/it]"
          ]
        },
        {
          "output_type": "stream",
          "name": "stdout",
          "text": [
            "loss_train: 0.1711, acc_train: 1.0000, recall_train: 1.0000, auc_train: 1.0000, loss_val: 0.5847, acc_val: 0.7742, recall_val: 0.6667, auc_val: 0.8632\n"
          ]
        },
        {
          "output_type": "stream",
          "name": "stderr",
          "text": [
            "\r 64%|██████▍   | 32/50 [01:22<00:34,  1.91s/it]"
          ]
        },
        {
          "output_type": "stream",
          "name": "stdout",
          "text": [
            "loss_train: 0.1623, acc_train: 1.0000, recall_train: 1.0000, auc_train: 1.0000, loss_val: 0.5760, acc_val: 0.7419, recall_val: 0.6667, auc_val: 0.8675\n"
          ]
        },
        {
          "output_type": "stream",
          "name": "stderr",
          "text": [
            "\r 66%|██████▌   | 33/50 [01:23<00:30,  1.78s/it]"
          ]
        },
        {
          "output_type": "stream",
          "name": "stdout",
          "text": [
            "loss_train: 0.1482, acc_train: 1.0000, recall_train: 1.0000, auc_train: 1.0000, loss_val: 0.5410, acc_val: 0.7742, recall_val: 0.7222, auc_val: 0.8889\n"
          ]
        },
        {
          "output_type": "stream",
          "name": "stderr",
          "text": [
            "\r 68%|██████▊   | 34/50 [01:25<00:26,  1.68s/it]"
          ]
        },
        {
          "output_type": "stream",
          "name": "stdout",
          "text": [
            "loss_train: 0.1328, acc_train: 1.0000, recall_train: 1.0000, auc_train: 1.0000, loss_val: 0.5248, acc_val: 0.7742, recall_val: 0.7778, auc_val: 0.8846\n"
          ]
        },
        {
          "output_type": "stream",
          "name": "stderr",
          "text": [
            "\r 70%|███████   | 35/50 [01:26<00:24,  1.66s/it]"
          ]
        },
        {
          "output_type": "stream",
          "name": "stdout",
          "text": [
            "loss_train: 0.1216, acc_train: 1.0000, recall_train: 1.0000, auc_train: 1.0000, loss_val: 0.5205, acc_val: 0.7742, recall_val: 0.7778, auc_val: 0.8846\n"
          ]
        },
        {
          "output_type": "stream",
          "name": "stderr",
          "text": [
            "\r 72%|███████▏  | 36/50 [01:28<00:22,  1.63s/it]"
          ]
        },
        {
          "output_type": "stream",
          "name": "stdout",
          "text": [
            "loss_train: 0.1117, acc_train: 1.0000, recall_train: 1.0000, auc_train: 1.0000, loss_val: 0.5402, acc_val: 0.7742, recall_val: 0.7222, auc_val: 0.8846\n"
          ]
        },
        {
          "output_type": "stream",
          "name": "stderr",
          "text": [
            "\r 74%|███████▍  | 37/50 [01:30<00:21,  1.62s/it]"
          ]
        },
        {
          "output_type": "stream",
          "name": "stdout",
          "text": [
            "loss_train: 0.1000, acc_train: 1.0000, recall_train: 1.0000, auc_train: 1.0000, loss_val: 0.5564, acc_val: 0.7742, recall_val: 0.7222, auc_val: 0.8932\n"
          ]
        },
        {
          "output_type": "stream",
          "name": "stderr",
          "text": [
            "\r 76%|███████▌  | 38/50 [01:32<00:21,  1.82s/it]"
          ]
        },
        {
          "output_type": "stream",
          "name": "stdout",
          "text": [
            "loss_train: 0.0879, acc_train: 1.0000, recall_train: 1.0000, auc_train: 1.0000, loss_val: 0.5777, acc_val: 0.7742, recall_val: 0.6667, auc_val: 0.8889\n"
          ]
        },
        {
          "output_type": "stream",
          "name": "stderr",
          "text": [
            "\r 78%|███████▊  | 39/50 [01:34<00:21,  1.95s/it]"
          ]
        },
        {
          "output_type": "stream",
          "name": "stdout",
          "text": [
            "loss_train: 0.0826, acc_train: 1.0000, recall_train: 1.0000, auc_train: 1.0000, loss_val: 0.5760, acc_val: 0.7742, recall_val: 0.6667, auc_val: 0.8889\n"
          ]
        },
        {
          "output_type": "stream",
          "name": "stderr",
          "text": [
            "\r 80%|████████  | 40/50 [01:36<00:18,  1.82s/it]"
          ]
        },
        {
          "output_type": "stream",
          "name": "stdout",
          "text": [
            "loss_train: 0.0745, acc_train: 1.0000, recall_train: 1.0000, auc_train: 1.0000, loss_val: 0.5509, acc_val: 0.8065, recall_val: 0.7778, auc_val: 0.8889\n"
          ]
        },
        {
          "output_type": "stream",
          "name": "stderr",
          "text": [
            "\r 82%|████████▏ | 41/50 [01:37<00:15,  1.72s/it]"
          ]
        },
        {
          "output_type": "stream",
          "name": "stdout",
          "text": [
            "loss_train: 0.0643, acc_train: 1.0000, recall_train: 1.0000, auc_train: 1.0000, loss_val: 0.5513, acc_val: 0.8065, recall_val: 0.7778, auc_val: 0.8974\n"
          ]
        },
        {
          "output_type": "stream",
          "name": "stderr",
          "text": [
            "\r 84%|████████▍ | 42/50 [01:39<00:13,  1.69s/it]"
          ]
        },
        {
          "output_type": "stream",
          "name": "stdout",
          "text": [
            "loss_train: 0.0601, acc_train: 1.0000, recall_train: 1.0000, auc_train: 1.0000, loss_val: 0.5501, acc_val: 0.8065, recall_val: 0.7778, auc_val: 0.8974\n"
          ]
        },
        {
          "output_type": "stream",
          "name": "stderr",
          "text": [
            "\r 86%|████████▌ | 43/50 [01:40<00:11,  1.65s/it]"
          ]
        },
        {
          "output_type": "stream",
          "name": "stdout",
          "text": [
            "loss_train: 0.0540, acc_train: 1.0000, recall_train: 1.0000, auc_train: 1.0000, loss_val: 0.5657, acc_val: 0.8065, recall_val: 0.7778, auc_val: 0.9060\n"
          ]
        },
        {
          "output_type": "stream",
          "name": "stderr",
          "text": [
            "\r 88%|████████▊ | 44/50 [01:42<00:10,  1.78s/it]"
          ]
        },
        {
          "output_type": "stream",
          "name": "stdout",
          "text": [
            "loss_train: 0.0471, acc_train: 1.0000, recall_train: 1.0000, auc_train: 1.0000, loss_val: 0.5949, acc_val: 0.7742, recall_val: 0.6667, auc_val: 0.9017\n"
          ]
        },
        {
          "output_type": "stream",
          "name": "stderr",
          "text": [
            "\r 90%|█████████ | 45/50 [01:44<00:08,  1.70s/it]"
          ]
        },
        {
          "output_type": "stream",
          "name": "stdout",
          "text": [
            "loss_train: 0.0432, acc_train: 1.0000, recall_train: 1.0000, auc_train: 1.0000, loss_val: 0.5925, acc_val: 0.7742, recall_val: 0.6667, auc_val: 0.9060\n"
          ]
        },
        {
          "output_type": "stream",
          "name": "stderr",
          "text": [
            "\r 92%|█████████▏| 46/50 [01:46<00:07,  1.90s/it]"
          ]
        },
        {
          "output_type": "stream",
          "name": "stdout",
          "text": [
            "loss_train: 0.0390, acc_train: 1.0000, recall_train: 1.0000, auc_train: 1.0000, loss_val: 0.5965, acc_val: 0.8387, recall_val: 0.7778, auc_val: 0.9103\n"
          ]
        },
        {
          "output_type": "stream",
          "name": "stderr",
          "text": [
            "\r 94%|█████████▍| 47/50 [01:48<00:05,  1.95s/it]"
          ]
        },
        {
          "output_type": "stream",
          "name": "stdout",
          "text": [
            "loss_train: 0.0341, acc_train: 1.0000, recall_train: 1.0000, auc_train: 1.0000, loss_val: 0.5845, acc_val: 0.8387, recall_val: 0.7778, auc_val: 0.9103\n"
          ]
        },
        {
          "output_type": "stream",
          "name": "stderr",
          "text": [
            "\r 96%|█████████▌| 48/50 [01:50<00:03,  1.86s/it]"
          ]
        },
        {
          "output_type": "stream",
          "name": "stdout",
          "text": [
            "loss_train: 0.0310, acc_train: 1.0000, recall_train: 1.0000, auc_train: 1.0000, loss_val: 0.5746, acc_val: 0.8387, recall_val: 0.7778, auc_val: 0.9103\n"
          ]
        },
        {
          "output_type": "stream",
          "name": "stderr",
          "text": [
            "\r 98%|█████████▊| 49/50 [01:51<00:01,  1.76s/it]"
          ]
        },
        {
          "output_type": "stream",
          "name": "stdout",
          "text": [
            "loss_train: 0.0297, acc_train: 1.0000, recall_train: 1.0000, auc_train: 1.0000, loss_val: 0.5812, acc_val: 0.8710, recall_val: 0.8333, auc_val: 0.9103\n"
          ]
        },
        {
          "output_type": "stream",
          "name": "stderr",
          "text": [
            "100%|██████████| 50/50 [01:53<00:00,  2.28s/it]"
          ]
        },
        {
          "output_type": "stream",
          "name": "stdout",
          "text": [
            "loss_train: 0.0268, acc_train: 1.0000, recall_train: 1.0000, auc_train: 1.0000, loss_val: 0.5962, acc_val: 0.8387, recall_val: 0.7778, auc_val: 0.9103\n"
          ]
        },
        {
          "output_type": "stream",
          "name": "stderr",
          "text": [
            "\n"
          ]
        },
        {
          "output_type": "stream",
          "name": "stdout",
          "text": [
            "Test set results: acc: 0.8326, f1_macro: 0.8318, f1_micro: 0.8326,precision: 0.8715, recall: 0.7867, auc: 0.8782, ap: 0.8828\n"
          ]
        }
      ]
    },
    {
      "cell_type": "markdown",
      "source": [
        "# **GraphSAGE**"
      ],
      "metadata": {
        "id": "-EqAH6kK4-k8"
      }
    },
    {
      "cell_type": "markdown",
      "source": [
        "## **GNN Architecture**"
      ],
      "metadata": {
        "id": "-1-EseOx-VeI"
      }
    },
    {
      "cell_type": "code",
      "source": [
        "import argparse\n",
        "import time\n",
        "from tqdm import tqdm\n",
        "import copy as cp\n",
        "\n",
        "import torch\n",
        "import torch.nn.functional as F\n",
        "from torch_geometric.nn import global_max_pool as gmp\n",
        "from torch_geometric.nn import GCNConv, SAGEConv, GATConv, DataParallel\n",
        "from torch.utils.data import random_split\n",
        "from torch_geometric.data import DataLoader, DataListLoader\n",
        "\n",
        "\"\"\"\n",
        "\n",
        "The GCN, GAT, and GraphSAGE implementation\n",
        "\n",
        "\"\"\"\n",
        "\n",
        "class Model(torch.nn.Module):\n",
        "\tdef __init__(self, args, concat=False):\n",
        "\t\tsuper(Model, self).__init__()\n",
        "\t\tself.args = args\n",
        "\t\tself.num_features = args.num_features\n",
        "\t\tself.nhid = args.nhid\n",
        "\t\tself.num_classes = args.num_classes\n",
        "\t\tself.dropout_ratio = args.dropout_ratio\n",
        "\t\tself.model = args.model\n",
        "\t\tself.concat = concat\n",
        "\n",
        "\t\tif self.model == 'gcn':\n",
        "\t\t\tself.conv1 = GCNConv(self.num_features, self.nhid)\n",
        "\t\telif self.model == 'sage':\n",
        "\t\t\tself.conv1 = SAGEConv(self.num_features, self.nhid)\n",
        "\t\telif self.model == 'gat':\n",
        "\t\t\tself.conv1 = GATConv(self.num_features, self.nhid)\n",
        "\n",
        "\t\tif self.concat:\n",
        "\t\t\tself.lin0 = torch.nn.Linear(self.num_features, self.nhid)\n",
        "\t\t\tself.lin1 = torch.nn.Linear(self.nhid * 2, self.nhid)\n",
        "\n",
        "\t\tself.lin2 = torch.nn.Linear(self.nhid, self.num_classes)\n",
        "\n",
        "\tdef forward(self, data):\n",
        "\n",
        "\t\tx, edge_index, batch = data.x, data.edge_index, data.batch\n",
        "\n",
        "\t\tedge_attr = None\n",
        "\n",
        "\t\tx = F.relu(self.conv1(x, edge_index, edge_attr))\n",
        "\t\tx = gmp(x, batch)\n",
        "\n",
        "\t\tif self.concat:\n",
        "\t\t\tnews = torch.stack([data.x[(data.batch == idx).nonzero().squeeze()[0]] for idx in range(data.num_graphs)])\n",
        "\t\t\tnews = F.relu(self.lin0(news))\n",
        "\t\t\tx = torch.cat([x, news], dim=1)\n",
        "\t\t\tx = F.relu(self.lin1(x))\n",
        "\n",
        "\t\tx = F.log_softmax(self.lin2(x), dim=-1)\n",
        "\n",
        "\t\treturn x"
      ],
      "metadata": {
        "id": "_xrOic-kn50c"
      },
      "execution_count": null,
      "outputs": []
    },
    {
      "cell_type": "markdown",
      "source": [
        "## *GNN Model Performance*"
      ],
      "metadata": {
        "id": "_Eb_hgBV-xI9"
      }
    },
    {
      "cell_type": "code",
      "source": [
        "@torch.no_grad()\n",
        "def compute_test(loader, verbose=False):\n",
        "\tmodel.eval()\n",
        "\tloss_test = 0.0\n",
        "\tout_log = []\n",
        "\tfor data in loader:\n",
        "\t\tif not args.multi_gpu:\n",
        "\t\t\tdata = data.to(args.device)\n",
        "\t\tout = model(data)\n",
        "\t\tif args.multi_gpu:\n",
        "\t\t\ty = torch.cat([d.y.unsqueeze(0) for d in data]).squeeze().to(out.device)\n",
        "\t\telse:\n",
        "\t\t\ty = data.y\n",
        "\t\tif verbose:\n",
        "\t\t\tprint(F.softmax(out, dim=1).cpu().numpy())\n",
        "\t\tout_log.append([F.softmax(out, dim=1), y])\n",
        "\t\tloss_test += F.nll_loss(out, y).item()\n",
        "\treturn eval_deep(out_log, loader), loss_test"
      ],
      "metadata": {
        "id": "25_V2saz-cIf"
      },
      "execution_count": null,
      "outputs": []
    },
    {
      "cell_type": "markdown",
      "source": [
        "## **GNN Run Model**"
      ],
      "metadata": {
        "id": "8JNcfsS2-o8-"
      }
    },
    {
      "cell_type": "code",
      "source": [
        "parser = argparse.ArgumentParser()\n",
        "\n",
        "parser.add_argument('--seed', type=int, default=777, help='random seed')\n",
        "parser.add_argument('--device', type=str, default='cpu', help='specify cuda devices')\n",
        "\n",
        "# hyper-parameters\n",
        "parser.add_argument('--dataset', type=str, default='politifact', help='[politifact, gossipcop]')\n",
        "parser.add_argument('--batch_size', type=int, default=128, help='batch size')\n",
        "parser.add_argument('--lr', type=float, default=0.01, help='learning rate')\n",
        "parser.add_argument('--weight_decay', type=float, default=0.01, help='weight decay')\n",
        "parser.add_argument('--nhid', type=int, default=128, help='hidden size')\n",
        "parser.add_argument('--dropout_ratio', type=float, default=0.0, help='dropout ratio')\n",
        "parser.add_argument('--epochs', type=int, default=45, help='maximum number of epochs')\n",
        "parser.add_argument('--concat', type=bool, default=True, help='whether concat news embedding and graph embedding')\n",
        "parser.add_argument('--multi_gpu', type=bool, default=False, help='multi-gpu mode')\n",
        "parser.add_argument('--feature', type=str, default='spacy', help='feature type, [profile, spacy, bert, content]')\n",
        "parser.add_argument('--model', type=str, default='sage', help='model type, [gcn, gat, sage]')\n",
        "\n",
        "# args = parser.parse_args()\n",
        "args, _ = parser.parse_known_args()\n",
        "torch.manual_seed(args.seed)\n",
        "if torch.cuda.is_available():\n",
        "\ttorch.cuda.manual_seed(args.seed)\n",
        "\n",
        "dataset = FNNDataset(root='/content/drive/MyDrive', feature=args.feature, empty=False, name=args.dataset, transform=ToUndirected())\n",
        "\n",
        "args.num_classes = dataset.num_classes\n",
        "args.num_features = dataset.num_features\n",
        "\n",
        "print(args)\n",
        "\n",
        "num_training = int(len(dataset) * 0.2)\n",
        "num_val = int(len(dataset) * 0.1)\n",
        "num_test = len(dataset) - (num_training + num_val)\n",
        "training_set, validation_set, test_set = random_split(dataset, [num_training, num_val, num_test])\n",
        "\n",
        "if args.multi_gpu:\n",
        "\tloader = DataListLoader\n",
        "else:\n",
        "\tloader = DataLoader\n",
        "\n",
        "train_loader = loader(training_set, batch_size=args.batch_size, shuffle=True)\n",
        "val_loader = loader(validation_set, batch_size=args.batch_size, shuffle=False)\n",
        "test_loader = loader(test_set, batch_size=args.batch_size, shuffle=False)\n",
        "\n",
        "model = Model(args, concat=args.concat)\n",
        "if args.multi_gpu:\n",
        "\tmodel = DataParallel(model)\n",
        "model = model.to(args.device)\n",
        "optimizer = torch.optim.Adam(model.parameters(), lr=args.lr, weight_decay=args.weight_decay)\n"
      ],
      "metadata": {
        "colab": {
          "base_uri": "https://localhost:8080/"
        },
        "id": "KVe9jkBr-cD4",
        "outputId": "6ad95cd0-3a70-4ebe-aa06-fe9c37c4e910"
      },
      "execution_count": null,
      "outputs": [
        {
          "output_type": "stream",
          "name": "stdout",
          "text": [
            "Namespace(seed=777, device='cpu', dataset='politifact', batch_size=128, lr=0.01, weight_decay=0.01, nhid=128, dropout_ratio=0.0, epochs=45, concat=True, multi_gpu=False, feature='spacy', model='sage', num_classes=2, num_features=300)\n"
          ]
        },
        {
          "output_type": "stream",
          "name": "stderr",
          "text": [
            "/usr/local/lib/python3.10/dist-packages/torch_geometric/deprecation.py:26: UserWarning: 'data.DataLoader' is deprecated, use 'loader.DataLoader' instead\n",
            "  warnings.warn(out)\n"
          ]
        }
      ]
    },
    {
      "cell_type": "code",
      "source": [
        "# Model training\n",
        "min_loss = 1e10\n",
        "val_loss_values = []\n",
        "best_epoch = 0\n",
        "\n",
        "t = time.time()\n",
        "model.train()\n",
        "for epoch in tqdm(range(args.epochs)):\n",
        "\tloss_train = 0.0\n",
        "\tout_log = []\n",
        "\tfor i, data in enumerate(train_loader):\n",
        "\t\toptimizer.zero_grad()\n",
        "\t\tif not args.multi_gpu:\n",
        "\t\t\tdata = data.to(args.device)\n",
        "\t\tout = model(data)\n",
        "\t\tif args.multi_gpu:\n",
        "\t\t\ty = torch.cat([d.y.unsqueeze(0) for d in data]).squeeze().to(out.device)\n",
        "\t\telse:\n",
        "\t\t\ty = data.y\n",
        "\t\tloss = F.nll_loss(out, y)\n",
        "\t\tloss.backward()\n",
        "\t\toptimizer.step()\n",
        "\t\tloss_train += loss.item()\n",
        "\t\tout_log.append([F.softmax(out, dim=1), y])\n",
        "\tacc_train, _, _, _, recall_train, auc_train, _ = eval_deep(out_log, train_loader)\n",
        "\t[acc_val, _, _, _, recall_val, auc_val, _], loss_val = compute_test(val_loader)\n",
        "\tprint(f'loss_train: {loss_train:.4f}, acc_train: {acc_train:.4f},'\n",
        "\t\t\t  f' recall_train: {recall_train:.4f}, auc_train: {auc_train:.4f},'\n",
        "\t\t\t  f' loss_val: {loss_val:.4f}, acc_val: {acc_val:.4f},'\n",
        "\t\t\t  f' recall_val: {recall_val:.4f}, auc_val: {auc_val:.4f}')\n",
        "\n",
        "[acc, f1_macro, f1_micro, precision, recall, auc, ap], test_loss = compute_test(test_loader, verbose=False)\n",
        "print(f'Test set results: acc: {acc:.4f}, f1_macro: {f1_macro:.4f}, f1_micro: {f1_micro:.4f}, '\n",
        "\t\t  f'precision: {precision:.4f}, recall: {recall:.4f}, auc: {auc:.4f}, ap: {ap:.4f}')\n",
        "acc_GraphSAGE = acc\n",
        "f1_GraphSAGE = f1_macro\n",
        "auc_GraphSAGE = auc"
      ],
      "metadata": {
        "colab": {
          "base_uri": "https://localhost:8080/"
        },
        "id": "a_5hN8e1-b_j",
        "outputId": "060eb1fc-cf61-45c9-ec6f-eac5ffafa79c"
      },
      "execution_count": null,
      "outputs": [
        {
          "output_type": "stream",
          "name": "stderr",
          "text": [
            "  4%|▍         | 2/45 [00:00<00:08,  4.94it/s]"
          ]
        },
        {
          "output_type": "stream",
          "name": "stdout",
          "text": [
            "loss_train: 0.6896, acc_train: 0.5806, recall_train: 0.0000, auc_train: 0.5459, loss_val: 0.7806, acc_val: 0.4194, recall_val: 0.0000, auc_val: 0.6667\n",
            "loss_train: 0.6808, acc_train: 0.5806, recall_train: 0.0000, auc_train: 0.7350, loss_val: 0.7113, acc_val: 0.4194, recall_val: 0.0000, auc_val: 0.8675\n"
          ]
        },
        {
          "output_type": "stream",
          "name": "stderr",
          "text": [
            "  9%|▉         | 4/45 [00:00<00:07,  5.25it/s]"
          ]
        },
        {
          "output_type": "stream",
          "name": "stdout",
          "text": [
            "loss_train: 0.6681, acc_train: 0.5806, recall_train: 0.0000, auc_train: 0.9017, loss_val: 0.6998, acc_val: 0.4194, recall_val: 0.0000, auc_val: 0.8547\n",
            "loss_train: 0.6599, acc_train: 0.5806, recall_train: 0.0000, auc_train: 0.9391, loss_val: 0.7115, acc_val: 0.4194, recall_val: 0.0000, auc_val: 0.8462\n"
          ]
        },
        {
          "output_type": "stream",
          "name": "stderr",
          "text": [
            " 13%|█▎        | 6/45 [00:01<00:07,  5.38it/s]"
          ]
        },
        {
          "output_type": "stream",
          "name": "stdout",
          "text": [
            "loss_train: 0.6384, acc_train: 0.5806, recall_train: 0.0000, auc_train: 0.9338, loss_val: 0.7134, acc_val: 0.4194, recall_val: 0.0000, auc_val: 0.8462\n",
            "loss_train: 0.6068, acc_train: 0.5806, recall_train: 0.0000, auc_train: 0.9423, loss_val: 0.6433, acc_val: 0.5484, recall_val: 0.3333, auc_val: 0.8205\n"
          ]
        },
        {
          "output_type": "stream",
          "name": "stderr",
          "text": [
            " 18%|█▊        | 8/45 [00:01<00:06,  5.49it/s]"
          ]
        },
        {
          "output_type": "stream",
          "name": "stdout",
          "text": [
            "loss_train: 0.5599, acc_train: 0.7903, recall_train: 0.5385, auc_train: 0.9573, loss_val: 0.7346, acc_val: 0.4194, recall_val: 0.0000, auc_val: 0.8376\n",
            "loss_train: 0.5290, acc_train: 0.5968, recall_train: 0.0385, auc_train: 0.9562, loss_val: 0.5803, acc_val: 0.7742, recall_val: 0.8333, auc_val: 0.8291\n"
          ]
        },
        {
          "output_type": "stream",
          "name": "stderr",
          "text": [
            " 22%|██▏       | 10/45 [00:01<00:06,  5.44it/s]"
          ]
        },
        {
          "output_type": "stream",
          "name": "stdout",
          "text": [
            "loss_train: 0.4803, acc_train: 0.9032, recall_train: 0.9615, auc_train: 0.9701, loss_val: 0.5923, acc_val: 0.6452, recall_val: 0.5000, auc_val: 0.8291\n",
            "loss_train: 0.3936, acc_train: 0.9032, recall_train: 0.8077, auc_train: 0.9733, loss_val: 0.6725, acc_val: 0.5806, recall_val: 0.3333, auc_val: 0.8504\n"
          ]
        },
        {
          "output_type": "stream",
          "name": "stderr",
          "text": [
            " 27%|██▋       | 12/45 [00:02<00:06,  5.32it/s]"
          ]
        },
        {
          "output_type": "stream",
          "name": "stdout",
          "text": [
            "loss_train: 0.3677, acc_train: 0.8065, recall_train: 0.5769, auc_train: 0.9690, loss_val: 0.4968, acc_val: 0.8387, recall_val: 0.9444, auc_val: 0.8034\n",
            "loss_train: 0.3716, acc_train: 0.8548, recall_train: 1.0000, auc_train: 0.9904, loss_val: 0.5337, acc_val: 0.7097, recall_val: 0.6111, auc_val: 0.8462\n"
          ]
        },
        {
          "output_type": "stream",
          "name": "stderr",
          "text": [
            " 31%|███       | 14/45 [00:02<00:05,  5.42it/s]"
          ]
        },
        {
          "output_type": "stream",
          "name": "stdout",
          "text": [
            "loss_train: 0.2408, acc_train: 0.9516, recall_train: 0.9615, auc_train: 0.9840, loss_val: 0.7551, acc_val: 0.6129, recall_val: 0.3889, auc_val: 0.8504\n",
            "loss_train: 0.2746, acc_train: 0.8065, recall_train: 0.5769, auc_train: 0.9818, loss_val: 0.4670, acc_val: 0.8065, recall_val: 0.8889, auc_val: 0.8162\n"
          ]
        },
        {
          "output_type": "stream",
          "name": "stderr",
          "text": [
            " 36%|███▌      | 16/45 [00:03<00:05,  5.37it/s]"
          ]
        },
        {
          "output_type": "stream",
          "name": "stdout",
          "text": [
            "loss_train: 0.2337, acc_train: 0.9194, recall_train: 1.0000, auc_train: 0.9957, loss_val: 0.4641, acc_val: 0.7742, recall_val: 0.7778, auc_val: 0.8632\n",
            "loss_train: 0.1573, acc_train: 0.9677, recall_train: 1.0000, auc_train: 0.9936, loss_val: 0.7832, acc_val: 0.6129, recall_val: 0.3889, auc_val: 0.8761\n"
          ]
        },
        {
          "output_type": "stream",
          "name": "stderr",
          "text": [
            " 40%|████      | 18/45 [00:03<00:04,  5.48it/s]"
          ]
        },
        {
          "output_type": "stream",
          "name": "stdout",
          "text": [
            "loss_train: 0.1861, acc_train: 0.9194, recall_train: 0.8462, auc_train: 0.9872, loss_val: 0.5034, acc_val: 0.7419, recall_val: 0.7222, auc_val: 0.8803\n",
            "loss_train: 0.1103, acc_train: 0.9839, recall_train: 1.0000, auc_train: 0.9904, loss_val: 0.4546, acc_val: 0.8065, recall_val: 0.8333, auc_val: 0.8632\n"
          ]
        },
        {
          "output_type": "stream",
          "name": "stderr",
          "text": [
            " 44%|████▍     | 20/45 [00:03<00:04,  5.35it/s]"
          ]
        },
        {
          "output_type": "stream",
          "name": "stdout",
          "text": [
            "loss_train: 0.1396, acc_train: 0.9839, recall_train: 1.0000, auc_train: 1.0000, loss_val: 0.5128, acc_val: 0.7742, recall_val: 0.7222, auc_val: 0.8803\n",
            "loss_train: 0.0854, acc_train: 0.9839, recall_train: 1.0000, auc_train: 0.9957, loss_val: 0.8429, acc_val: 0.6129, recall_val: 0.3889, auc_val: 0.8846\n"
          ]
        },
        {
          "output_type": "stream",
          "name": "stderr",
          "text": [
            " 49%|████▉     | 22/45 [00:04<00:04,  5.16it/s]"
          ]
        },
        {
          "output_type": "stream",
          "name": "stdout",
          "text": [
            "loss_train: 0.1284, acc_train: 0.9677, recall_train: 0.9615, auc_train: 0.9989, loss_val: 0.4627, acc_val: 0.7742, recall_val: 0.7778, auc_val: 0.8803\n",
            "loss_train: 0.0761, acc_train: 0.9839, recall_train: 1.0000, auc_train: 1.0000, loss_val: 0.4475, acc_val: 0.8065, recall_val: 0.8333, auc_val: 0.8675\n"
          ]
        },
        {
          "output_type": "stream",
          "name": "stderr",
          "text": [
            " 53%|█████▎    | 24/45 [00:04<00:04,  5.18it/s]"
          ]
        },
        {
          "output_type": "stream",
          "name": "stdout",
          "text": [
            "loss_train: 0.1018, acc_train: 0.9839, recall_train: 1.0000, auc_train: 1.0000, loss_val: 0.6221, acc_val: 0.7097, recall_val: 0.5556, auc_val: 0.8803\n",
            "loss_train: 0.0594, acc_train: 1.0000, recall_train: 1.0000, auc_train: 1.0000, loss_val: 0.7884, acc_val: 0.6774, recall_val: 0.5000, auc_val: 0.8889\n"
          ]
        },
        {
          "output_type": "stream",
          "name": "stderr",
          "text": [
            " 58%|█████▊    | 26/45 [00:04<00:03,  5.23it/s]"
          ]
        },
        {
          "output_type": "stream",
          "name": "stdout",
          "text": [
            "loss_train: 0.0855, acc_train: 1.0000, recall_train: 1.0000, auc_train: 1.0000, loss_val: 0.4313, acc_val: 0.8065, recall_val: 0.8333, auc_val: 0.8803\n",
            "loss_train: 0.0718, acc_train: 0.9839, recall_train: 1.0000, auc_train: 1.0000, loss_val: 0.4273, acc_val: 0.8065, recall_val: 0.8333, auc_val: 0.8761\n"
          ]
        },
        {
          "output_type": "stream",
          "name": "stderr",
          "text": [
            " 62%|██████▏   | 28/45 [00:05<00:03,  5.23it/s]"
          ]
        },
        {
          "output_type": "stream",
          "name": "stdout",
          "text": [
            "loss_train: 0.0642, acc_train: 0.9839, recall_train: 1.0000, auc_train: 1.0000, loss_val: 0.7299, acc_val: 0.6774, recall_val: 0.5000, auc_val: 0.8889\n",
            "loss_train: 0.0619, acc_train: 1.0000, recall_train: 1.0000, auc_train: 1.0000, loss_val: 0.6148, acc_val: 0.7097, recall_val: 0.5556, auc_val: 0.8803\n"
          ]
        },
        {
          "output_type": "stream",
          "name": "stderr",
          "text": [
            " 67%|██████▋   | 30/45 [00:05<00:02,  5.36it/s]"
          ]
        },
        {
          "output_type": "stream",
          "name": "stdout",
          "text": [
            "loss_train: 0.0418, acc_train: 1.0000, recall_train: 1.0000, auc_train: 1.0000, loss_val: 0.4251, acc_val: 0.8065, recall_val: 0.8333, auc_val: 0.8803\n",
            "loss_train: 0.0533, acc_train: 0.9839, recall_train: 1.0000, auc_train: 1.0000, loss_val: 0.4486, acc_val: 0.8065, recall_val: 0.7778, auc_val: 0.8803\n"
          ]
        },
        {
          "output_type": "stream",
          "name": "stderr",
          "text": [
            " 71%|███████   | 32/45 [00:06<00:02,  5.39it/s]"
          ]
        },
        {
          "output_type": "stream",
          "name": "stdout",
          "text": [
            "loss_train: 0.0369, acc_train: 1.0000, recall_train: 1.0000, auc_train: 1.0000, loss_val: 0.6986, acc_val: 0.6452, recall_val: 0.4444, auc_val: 0.8761\n",
            "loss_train: 0.0485, acc_train: 1.0000, recall_train: 1.0000, auc_train: 1.0000, loss_val: 0.5292, acc_val: 0.7419, recall_val: 0.6667, auc_val: 0.8761\n"
          ]
        },
        {
          "output_type": "stream",
          "name": "stderr",
          "text": [
            " 76%|███████▌  | 34/45 [00:06<00:02,  5.48it/s]"
          ]
        },
        {
          "output_type": "stream",
          "name": "stdout",
          "text": [
            "loss_train: 0.0310, acc_train: 1.0000, recall_train: 1.0000, auc_train: 1.0000, loss_val: 0.4272, acc_val: 0.7742, recall_val: 0.7778, auc_val: 0.8761\n",
            "loss_train: 0.0462, acc_train: 1.0000, recall_train: 1.0000, auc_train: 1.0000, loss_val: 0.5232, acc_val: 0.7419, recall_val: 0.6667, auc_val: 0.8803\n"
          ]
        },
        {
          "output_type": "stream",
          "name": "stderr",
          "text": [
            " 80%|████████  | 36/45 [00:06<00:01,  5.53it/s]"
          ]
        },
        {
          "output_type": "stream",
          "name": "stdout",
          "text": [
            "loss_train: 0.0309, acc_train: 1.0000, recall_train: 1.0000, auc_train: 1.0000, loss_val: 0.6560, acc_val: 0.6774, recall_val: 0.5000, auc_val: 0.8803\n",
            "loss_train: 0.0433, acc_train: 1.0000, recall_train: 1.0000, auc_train: 1.0000, loss_val: 0.4333, acc_val: 0.8065, recall_val: 0.7778, auc_val: 0.8846\n"
          ]
        },
        {
          "output_type": "stream",
          "name": "stderr",
          "text": [
            " 84%|████████▍ | 38/45 [00:07<00:01,  5.44it/s]"
          ]
        },
        {
          "output_type": "stream",
          "name": "stdout",
          "text": [
            "loss_train: 0.0381, acc_train: 1.0000, recall_train: 1.0000, auc_train: 1.0000, loss_val: 0.4435, acc_val: 0.8065, recall_val: 0.7778, auc_val: 0.8846\n",
            "loss_train: 0.0350, acc_train: 1.0000, recall_train: 1.0000, auc_train: 1.0000, loss_val: 0.6389, acc_val: 0.7097, recall_val: 0.5556, auc_val: 0.8846\n"
          ]
        },
        {
          "output_type": "stream",
          "name": "stderr",
          "text": [
            " 89%|████████▉ | 40/45 [00:07<00:00,  5.47it/s]"
          ]
        },
        {
          "output_type": "stream",
          "name": "stdout",
          "text": [
            "loss_train: 0.0443, acc_train: 1.0000, recall_train: 1.0000, auc_train: 1.0000, loss_val: 0.4511, acc_val: 0.7742, recall_val: 0.7222, auc_val: 0.8846\n",
            "loss_train: 0.0337, acc_train: 1.0000, recall_train: 1.0000, auc_train: 1.0000, loss_val: 0.4277, acc_val: 0.8065, recall_val: 0.7778, auc_val: 0.8889\n"
          ]
        },
        {
          "output_type": "stream",
          "name": "stderr",
          "text": [
            " 93%|█████████▎| 42/45 [00:07<00:00,  5.46it/s]"
          ]
        },
        {
          "output_type": "stream",
          "name": "stdout",
          "text": [
            "loss_train: 0.0379, acc_train: 1.0000, recall_train: 1.0000, auc_train: 1.0000, loss_val: 0.6127, acc_val: 0.7097, recall_val: 0.5556, auc_val: 0.8846\n",
            "loss_train: 0.0425, acc_train: 1.0000, recall_train: 1.0000, auc_train: 1.0000, loss_val: 0.4543, acc_val: 0.7742, recall_val: 0.7222, auc_val: 0.8889\n"
          ]
        },
        {
          "output_type": "stream",
          "name": "stderr",
          "text": [
            " 98%|█████████▊| 44/45 [00:08<00:00,  5.50it/s]"
          ]
        },
        {
          "output_type": "stream",
          "name": "stdout",
          "text": [
            "loss_train: 0.0333, acc_train: 1.0000, recall_train: 1.0000, auc_train: 1.0000, loss_val: 0.4334, acc_val: 0.8065, recall_val: 0.7778, auc_val: 0.8846\n",
            "loss_train: 0.0364, acc_train: 1.0000, recall_train: 1.0000, auc_train: 1.0000, loss_val: 0.6054, acc_val: 0.7419, recall_val: 0.6111, auc_val: 0.8889\n"
          ]
        },
        {
          "output_type": "stream",
          "name": "stderr",
          "text": [
            "100%|██████████| 45/45 [00:08<00:00,  5.36it/s]\n"
          ]
        },
        {
          "output_type": "stream",
          "name": "stdout",
          "text": [
            "loss_train: 0.0402, acc_train: 1.0000, recall_train: 1.0000, auc_train: 1.0000, loss_val: 0.4541, acc_val: 0.7742, recall_val: 0.7222, auc_val: 0.8846\n",
            "Test set results: acc: 0.8054, f1_macro: 0.8041, f1_micro: 0.8054, precision: 0.8154, recall: 0.7928, auc: 0.8743, ap: 0.8762\n"
          ]
        }
      ]
    },
    {
      "cell_type": "markdown",
      "source": [
        "# **GAT**"
      ],
      "metadata": {
        "id": "PHVdqU7wnBPH"
      }
    },
    {
      "cell_type": "markdown",
      "source": [
        "## **GAT Architecture**"
      ],
      "metadata": {
        "id": "hSgD4ymXYWOC"
      }
    },
    {
      "cell_type": "code",
      "source": [
        "import argparse\n",
        "import time\n",
        "from tqdm import tqdm\n",
        "import copy as cp\n",
        "\n",
        "import torch\n",
        "import torch.nn.functional as F\n",
        "from torch_geometric.nn import global_max_pool as gmp\n",
        "from torch_geometric.nn import GCNConv, SAGEConv, GATConv, DataParallel\n",
        "from torch.utils.data import random_split\n",
        "from torch_geometric.data import DataLoader, DataListLoader\n",
        "\n",
        "\"\"\"\n",
        "\n",
        "The GCN, GAT, and GraphSAGE implementation\n",
        "\n",
        "\"\"\"\n",
        "\n",
        "class Model(torch.nn.Module):\n",
        "\tdef __init__(self, args, concat=False):\n",
        "\t\tsuper(Model, self).__init__()\n",
        "\t\tself.args = args\n",
        "\t\tself.num_features = args.num_features\n",
        "\t\tself.nhid = args.nhid\n",
        "\t\tself.num_classes = args.num_classes\n",
        "\t\tself.dropout_ratio = args.dropout_ratio\n",
        "\t\tself.model = args.model\n",
        "\t\tself.concat = concat\n",
        "\n",
        "\t\tif self.model == 'gcn':\n",
        "\t\t\tself.conv1 = GCNConv(self.num_features, self.nhid)\n",
        "\t\telif self.model == 'sage':\n",
        "\t\t\tself.conv1 = SAGEConv(self.num_features, self.nhid)\n",
        "\t\telif self.model == 'gat':\n",
        "\t\t\tself.conv1 = GATConv(self.num_features, self.nhid)\n",
        "\n",
        "\t\tif self.concat:\n",
        "\t\t\tself.lin0 = torch.nn.Linear(self.num_features, self.nhid)\n",
        "\t\t\tself.lin1 = torch.nn.Linear(self.nhid * 2, self.nhid)\n",
        "\n",
        "\t\tself.lin2 = torch.nn.Linear(self.nhid, self.num_classes)\n",
        "\n",
        "\tdef forward(self, data):\n",
        "\n",
        "\t\tx, edge_index, batch = data.x, data.edge_index, data.batch\n",
        "\n",
        "\t\tedge_attr = None\n",
        "\n",
        "\t\tx = F.relu(self.conv1(x, edge_index, edge_attr))\n",
        "\t\tx = gmp(x, batch)\n",
        "\n",
        "\t\tif self.concat:\n",
        "\t\t\tnews = torch.stack([data.x[(data.batch == idx).nonzero().squeeze()[0]] for idx in range(data.num_graphs)])\n",
        "\t\t\tnews = F.relu(self.lin0(news))\n",
        "\t\t\tx = torch.cat([x, news], dim=1)\n",
        "\t\t\tx = F.relu(self.lin1(x))\n",
        "\n",
        "\t\tx = F.log_softmax(self.lin2(x), dim=-1)\n",
        "\n",
        "\t\treturn x"
      ],
      "metadata": {
        "id": "ULCw62GLnGJb"
      },
      "execution_count": null,
      "outputs": []
    },
    {
      "cell_type": "code",
      "source": [
        "@torch.no_grad()\n",
        "def compute_test(loader, verbose=False):\n",
        "\tmodel.eval()\n",
        "\tloss_test = 0.0\n",
        "\tout_log = []\n",
        "\tfor data in loader:\n",
        "\t\tif not args.multi_gpu:\n",
        "\t\t\tdata = data.to(args.device)\n",
        "\t\tout = model(data)\n",
        "\t\tif args.multi_gpu:\n",
        "\t\t\ty = torch.cat([d.y.unsqueeze(0) for d in data]).squeeze().to(out.device)\n",
        "\t\telse:\n",
        "\t\t\ty = data.y\n",
        "\t\tif verbose:\n",
        "\t\t\tprint(F.softmax(out, dim=1).cpu().numpy())\n",
        "\t\tout_log.append([F.softmax(out, dim=1), y])\n",
        "\t\tloss_test += F.nll_loss(out, y).item()\n",
        "\treturn eval_deep(out_log, loader), loss_test"
      ],
      "metadata": {
        "id": "GERCiKmno_kx"
      },
      "execution_count": null,
      "outputs": []
    },
    {
      "cell_type": "markdown",
      "source": [
        "## **GAT Model Performance**"
      ],
      "metadata": {
        "id": "dpq2S187Yaow"
      }
    },
    {
      "cell_type": "code",
      "source": [
        "parser = argparse.ArgumentParser()\n",
        "\n",
        "parser.add_argument('--seed', type=int, default=777, help='random seed')\n",
        "parser.add_argument('--device', type=str, default='cpu', help='specify cuda devices')\n",
        "\n",
        "# hyper-parameters\n",
        "parser.add_argument('--dataset', type=str, default='politifact', help='[politifact, gossipcop]')\n",
        "parser.add_argument('--batch_size', type=int, default=128, help='batch size')\n",
        "parser.add_argument('--lr', type=float, default=0.001, help='learning rate')\n",
        "parser.add_argument('--weight_decay', type=float, default=0.01, help='weight decay')\n",
        "parser.add_argument('--nhid', type=int, default=128, help='hidden size')\n",
        "parser.add_argument('--dropout_ratio', type=float, default=0.0, help='dropout ratio')\n",
        "parser.add_argument('--epochs', type=int, default=50, help='maximum number of epochs')\n",
        "parser.add_argument('--concat', type=bool, default=True, help='whether concat news embedding and graph embedding')\n",
        "parser.add_argument('--multi_gpu', type=bool, default=False, help='multi-gpu mode')\n",
        "parser.add_argument('--feature', type=str, default='bert', help='feature type, [profile, spacy, bert, content]')\n",
        "parser.add_argument('--model', type=str, default='gat', help='model type, [gcn, gat, sage]')\n",
        "\n",
        "# args = parser.parse_args()\n",
        "args, _ = parser.parse_known_args()\n",
        "torch.manual_seed(args.seed)\n",
        "if torch.cuda.is_available():\n",
        "\ttorch.cuda.manual_seed(args.seed)\n",
        "\n",
        "dataset = FNNDataset(root='/content/drive/MyDrive', feature=args.feature, empty=False, name=args.dataset, transform=ToUndirected())\n",
        "\n",
        "args.num_classes = dataset.num_classes\n",
        "args.num_features = dataset.num_features\n",
        "\n",
        "print(args)\n",
        "\n",
        "num_training = int(len(dataset) * 0.2)\n",
        "num_val = int(len(dataset) * 0.1)\n",
        "num_test = len(dataset) - (num_training + num_val)\n",
        "training_set, validation_set, test_set = random_split(dataset, [num_training, num_val, num_test])\n",
        "\n",
        "if args.multi_gpu:\n",
        "\tloader = DataListLoader\n",
        "else:\n",
        "\tloader = DataLoader\n",
        "\n",
        "train_loader = loader(training_set, batch_size=args.batch_size, shuffle=True)\n",
        "val_loader = loader(validation_set, batch_size=args.batch_size, shuffle=False)\n",
        "test_loader = loader(test_set, batch_size=args.batch_size, shuffle=False)\n",
        "\n",
        "model = Model(args, concat=args.concat)\n",
        "if args.multi_gpu:\n",
        "\tmodel = DataParallel(model)\n",
        "model = model.to(args.device)\n",
        "optimizer = torch.optim.Adam(model.parameters(), lr=args.lr, weight_decay=args.weight_decay)\n"
      ],
      "metadata": {
        "colab": {
          "base_uri": "https://localhost:8080/"
        },
        "id": "jcBS74TCnkyn",
        "outputId": "320e40f4-5192-4704-e975-9787672e121e"
      },
      "execution_count": null,
      "outputs": [
        {
          "output_type": "stream",
          "name": "stdout",
          "text": [
            "Namespace(seed=777, device='cpu', dataset='politifact', batch_size=128, lr=0.001, weight_decay=0.01, nhid=128, dropout_ratio=0.0, epochs=50, concat=True, multi_gpu=False, feature='bert', model='gat', num_classes=2, num_features=768)\n"
          ]
        },
        {
          "output_type": "stream",
          "name": "stderr",
          "text": [
            "/usr/local/lib/python3.10/dist-packages/torch_geometric/deprecation.py:26: UserWarning: 'data.DataLoader' is deprecated, use 'loader.DataLoader' instead\n",
            "  warnings.warn(out)\n"
          ]
        }
      ]
    },
    {
      "cell_type": "markdown",
      "source": [
        "## **GAT Run Model**"
      ],
      "metadata": {
        "id": "uzcI0ZleYeZ2"
      }
    },
    {
      "cell_type": "code",
      "source": [
        "# Model training\n",
        "min_loss = 1e10\n",
        "val_loss_values = []\n",
        "best_epoch = 0\n",
        "\n",
        "t = time.time()\n",
        "model.train()\n",
        "for epoch in tqdm(range(args.epochs)):\n",
        "\tloss_train = 0.0\n",
        "\tout_log = []\n",
        "\tfor i, data in enumerate(train_loader):\n",
        "\t\toptimizer.zero_grad()\n",
        "\t\tif not args.multi_gpu:\n",
        "\t\t\tdata = data.to(args.device)\n",
        "\t\tout = model(data)\n",
        "\t\tif args.multi_gpu:\n",
        "\t\t\ty = torch.cat([d.y.unsqueeze(0) for d in data]).squeeze().to(out.device)\n",
        "\t\telse:\n",
        "\t\t\ty = data.y\n",
        "\t\tloss = F.nll_loss(out, y)\n",
        "\t\tloss.backward()\n",
        "\t\toptimizer.step()\n",
        "\t\tloss_train += loss.item()\n",
        "\t\tout_log.append([F.softmax(out, dim=1), y])\n",
        "\tacc_train, _, _, _, recall_train, auc_train, _ = eval_deep(out_log, train_loader)\n",
        "\t[acc_val, _, _, _, recall_val, auc_val, _], loss_val = compute_test(val_loader)\n",
        "\tprint(f'loss_train: {loss_train:.4f}, acc_train: {acc_train:.4f},'\n",
        "\t\t\t  f' recall_train: {recall_train:.4f}, auc_train: {auc_train:.4f},'\n",
        "\t\t\t  f' loss_val: {loss_val:.4f}, acc_val: {acc_val:.4f},'\n",
        "\t\t\t  f' recall_val: {recall_val:.4f}, auc_val: {auc_val:.4f}')\n",
        "\n",
        "[acc, f1_macro, f1_micro, precision, recall, auc, ap], test_loss = compute_test(test_loader, verbose=False)\n",
        "print(f'Test set results: acc: {acc:.4f}, f1_macro: {f1_macro:.4f}, f1_micro: {f1_micro:.4f}, '\n",
        "\t\t  f'precision: {precision:.4f}, recall: {recall:.4f}, auc: {auc:.4f}, ap: {ap:.4f}')\n",
        "acc_GAT = acc\n",
        "f1_GAT = f1_macro\n",
        "auc_GAT = auc"
      ],
      "metadata": {
        "colab": {
          "base_uri": "https://localhost:8080/"
        },
        "id": "2MVtlTAQnr0i",
        "outputId": "a5535b51-8123-463e-ba32-063d96e2eea9"
      },
      "execution_count": null,
      "outputs": [
        {
          "output_type": "stream",
          "name": "stderr",
          "text": [
            "  2%|▏         | 1/50 [00:00<00:12,  3.99it/s]"
          ]
        },
        {
          "output_type": "stream",
          "name": "stdout",
          "text": [
            "loss_train: 0.6845, acc_train: 0.5645, recall_train: 0.0000, auc_train: 0.5737, loss_val: 0.7791, acc_val: 0.4194, recall_val: 0.0000, auc_val: 0.7350\n"
          ]
        },
        {
          "output_type": "stream",
          "name": "stderr",
          "text": [
            "\r  4%|▍         | 2/50 [00:00<00:14,  3.33it/s]"
          ]
        },
        {
          "output_type": "stream",
          "name": "stdout",
          "text": [
            "loss_train: 0.6788, acc_train: 0.5806, recall_train: 0.0000, auc_train: 0.8472, loss_val: 0.7559, acc_val: 0.4194, recall_val: 0.0000, auc_val: 0.8162\n"
          ]
        },
        {
          "output_type": "stream",
          "name": "stderr",
          "text": [
            "\r  6%|▌         | 3/50 [00:00<00:15,  3.05it/s]"
          ]
        },
        {
          "output_type": "stream",
          "name": "stdout",
          "text": [
            "loss_train: 0.6653, acc_train: 0.5806, recall_train: 0.0000, auc_train: 0.9615, loss_val: 0.7151, acc_val: 0.4194, recall_val: 0.0000, auc_val: 0.7863\n"
          ]
        },
        {
          "output_type": "stream",
          "name": "stderr",
          "text": [
            "\r  8%|▊         | 4/50 [00:01<00:14,  3.15it/s]"
          ]
        },
        {
          "output_type": "stream",
          "name": "stdout",
          "text": [
            "loss_train: 0.6519, acc_train: 0.5806, recall_train: 0.0000, auc_train: 0.9850, loss_val: 0.6903, acc_val: 0.4194, recall_val: 0.0000, auc_val: 0.7778\n"
          ]
        },
        {
          "output_type": "stream",
          "name": "stderr",
          "text": [
            "\r 10%|█         | 5/50 [00:01<00:14,  3.17it/s]"
          ]
        },
        {
          "output_type": "stream",
          "name": "stdout",
          "text": [
            "loss_train: 0.6448, acc_train: 0.5968, recall_train: 0.0385, auc_train: 0.9829, loss_val: 0.6829, acc_val: 0.4194, recall_val: 0.0000, auc_val: 0.7863\n"
          ]
        },
        {
          "output_type": "stream",
          "name": "stderr",
          "text": [
            "\r 12%|█▏        | 6/50 [00:01<00:14,  3.08it/s]"
          ]
        },
        {
          "output_type": "stream",
          "name": "stdout",
          "text": [
            "loss_train: 0.6334, acc_train: 0.6613, recall_train: 0.1923, auc_train: 0.9840, loss_val: 0.6875, acc_val: 0.4194, recall_val: 0.0000, auc_val: 0.7991\n"
          ]
        },
        {
          "output_type": "stream",
          "name": "stderr",
          "text": [
            "\r 14%|█▍        | 7/50 [00:02<00:13,  3.14it/s]"
          ]
        },
        {
          "output_type": "stream",
          "name": "stdout",
          "text": [
            "loss_train: 0.6173, acc_train: 0.6129, recall_train: 0.0769, auc_train: 0.9882, loss_val: 0.6983, acc_val: 0.4194, recall_val: 0.0000, auc_val: 0.8205\n"
          ]
        },
        {
          "output_type": "stream",
          "name": "stderr",
          "text": [
            "\r 16%|█▌        | 8/50 [00:02<00:13,  3.20it/s]"
          ]
        },
        {
          "output_type": "stream",
          "name": "stdout",
          "text": [
            "loss_train: 0.6017, acc_train: 0.5968, recall_train: 0.0385, auc_train: 0.9882, loss_val: 0.7015, acc_val: 0.4194, recall_val: 0.0000, auc_val: 0.8205\n"
          ]
        },
        {
          "output_type": "stream",
          "name": "stderr",
          "text": [
            "\r 18%|█▊        | 9/50 [00:02<00:12,  3.26it/s]"
          ]
        },
        {
          "output_type": "stream",
          "name": "stdout",
          "text": [
            "loss_train: 0.5855, acc_train: 0.5968, recall_train: 0.0385, auc_train: 0.9882, loss_val: 0.6869, acc_val: 0.4516, recall_val: 0.0556, auc_val: 0.8205\n"
          ]
        },
        {
          "output_type": "stream",
          "name": "stderr",
          "text": [
            "\r 20%|██        | 10/50 [00:03<00:12,  3.17it/s]"
          ]
        },
        {
          "output_type": "stream",
          "name": "stdout",
          "text": [
            "loss_train: 0.5643, acc_train: 0.6613, recall_train: 0.1923, auc_train: 0.9882, loss_val: 0.6599, acc_val: 0.6129, recall_val: 0.3333, auc_val: 0.8120\n"
          ]
        },
        {
          "output_type": "stream",
          "name": "stderr",
          "text": [
            "\r 22%|██▏       | 11/50 [00:03<00:12,  3.18it/s]"
          ]
        },
        {
          "output_type": "stream",
          "name": "stdout",
          "text": [
            "loss_train: 0.5400, acc_train: 0.7903, recall_train: 0.5000, auc_train: 0.9840, loss_val: 0.6352, acc_val: 0.7419, recall_val: 0.6111, auc_val: 0.8120\n"
          ]
        },
        {
          "output_type": "stream",
          "name": "stderr",
          "text": [
            "\r 24%|██▍       | 12/50 [00:03<00:12,  3.13it/s]"
          ]
        },
        {
          "output_type": "stream",
          "name": "stdout",
          "text": [
            "loss_train: 0.5149, acc_train: 0.9032, recall_train: 0.8077, auc_train: 0.9840, loss_val: 0.6214, acc_val: 0.7097, recall_val: 0.6111, auc_val: 0.8162\n"
          ]
        },
        {
          "output_type": "stream",
          "name": "stderr",
          "text": [
            "\r 26%|██▌       | 13/50 [00:04<00:11,  3.26it/s]"
          ]
        },
        {
          "output_type": "stream",
          "name": "stdout",
          "text": [
            "loss_train: 0.4870, acc_train: 0.9194, recall_train: 0.8462, auc_train: 0.9893, loss_val: 0.6169, acc_val: 0.7419, recall_val: 0.6111, auc_val: 0.8205\n"
          ]
        },
        {
          "output_type": "stream",
          "name": "stderr",
          "text": [
            "\r 28%|██▊       | 14/50 [00:04<00:10,  3.56it/s]"
          ]
        },
        {
          "output_type": "stream",
          "name": "stdout",
          "text": [
            "loss_train: 0.4565, acc_train: 0.9032, recall_train: 0.8077, auc_train: 0.9893, loss_val: 0.6130, acc_val: 0.7419, recall_val: 0.6111, auc_val: 0.8248\n"
          ]
        },
        {
          "output_type": "stream",
          "name": "stderr",
          "text": [
            "\r 30%|███       | 15/50 [00:04<00:09,  3.82it/s]"
          ]
        },
        {
          "output_type": "stream",
          "name": "stdout",
          "text": [
            "loss_train: 0.4256, acc_train: 0.8871, recall_train: 0.7692, auc_train: 0.9925, loss_val: 0.5968, acc_val: 0.7419, recall_val: 0.6111, auc_val: 0.8248\n"
          ]
        },
        {
          "output_type": "stream",
          "name": "stderr",
          "text": [
            "\r 32%|███▏      | 16/50 [00:04<00:08,  3.99it/s]"
          ]
        },
        {
          "output_type": "stream",
          "name": "stdout",
          "text": [
            "loss_train: 0.3924, acc_train: 0.9194, recall_train: 0.8462, auc_train: 0.9936, loss_val: 0.5714, acc_val: 0.7419, recall_val: 0.6667, auc_val: 0.8333\n"
          ]
        },
        {
          "output_type": "stream",
          "name": "stderr",
          "text": [
            "\r 34%|███▍      | 17/50 [00:04<00:08,  4.11it/s]"
          ]
        },
        {
          "output_type": "stream",
          "name": "stdout",
          "text": [
            "loss_train: 0.3581, acc_train: 0.9677, recall_train: 0.9615, auc_train: 0.9957, loss_val: 0.5526, acc_val: 0.7742, recall_val: 0.7222, auc_val: 0.8419\n"
          ]
        },
        {
          "output_type": "stream",
          "name": "stderr",
          "text": [
            "\r 36%|███▌      | 18/50 [00:05<00:07,  4.24it/s]"
          ]
        },
        {
          "output_type": "stream",
          "name": "stdout",
          "text": [
            "loss_train: 0.3242, acc_train: 0.9839, recall_train: 1.0000, auc_train: 0.9968, loss_val: 0.5461, acc_val: 0.7419, recall_val: 0.6667, auc_val: 0.8462\n"
          ]
        },
        {
          "output_type": "stream",
          "name": "stderr",
          "text": [
            "\r 38%|███▊      | 19/50 [00:05<00:07,  4.32it/s]"
          ]
        },
        {
          "output_type": "stream",
          "name": "stdout",
          "text": [
            "loss_train: 0.2895, acc_train: 0.9839, recall_train: 1.0000, auc_train: 0.9979, loss_val: 0.5429, acc_val: 0.7419, recall_val: 0.6667, auc_val: 0.8590\n"
          ]
        },
        {
          "output_type": "stream",
          "name": "stderr",
          "text": [
            "\r 40%|████      | 20/50 [00:05<00:06,  4.37it/s]"
          ]
        },
        {
          "output_type": "stream",
          "name": "stdout",
          "text": [
            "loss_train: 0.2567, acc_train: 0.9839, recall_train: 1.0000, auc_train: 0.9989, loss_val: 0.5282, acc_val: 0.7742, recall_val: 0.7222, auc_val: 0.8632\n"
          ]
        },
        {
          "output_type": "stream",
          "name": "stderr",
          "text": [
            "\r 42%|████▏     | 21/50 [00:05<00:06,  4.42it/s]"
          ]
        },
        {
          "output_type": "stream",
          "name": "stdout",
          "text": [
            "loss_train: 0.2244, acc_train: 0.9839, recall_train: 1.0000, auc_train: 1.0000, loss_val: 0.5108, acc_val: 0.7742, recall_val: 0.7222, auc_val: 0.8632\n"
          ]
        },
        {
          "output_type": "stream",
          "name": "stderr",
          "text": [
            "\r 44%|████▍     | 22/50 [00:06<00:06,  4.22it/s]"
          ]
        },
        {
          "output_type": "stream",
          "name": "stdout",
          "text": [
            "loss_train: 0.1946, acc_train: 0.9839, recall_train: 1.0000, auc_train: 1.0000, loss_val: 0.5070, acc_val: 0.7742, recall_val: 0.7222, auc_val: 0.8718\n"
          ]
        },
        {
          "output_type": "stream",
          "name": "stderr",
          "text": [
            "\r 46%|████▌     | 23/50 [00:06<00:06,  4.19it/s]"
          ]
        },
        {
          "output_type": "stream",
          "name": "stdout",
          "text": [
            "loss_train: 0.1668, acc_train: 0.9839, recall_train: 1.0000, auc_train: 1.0000, loss_val: 0.5137, acc_val: 0.8065, recall_val: 0.7222, auc_val: 0.8718\n"
          ]
        },
        {
          "output_type": "stream",
          "name": "stderr",
          "text": [
            "\r 48%|████▊     | 24/50 [00:06<00:06,  4.23it/s]"
          ]
        },
        {
          "output_type": "stream",
          "name": "stdout",
          "text": [
            "loss_train: 0.1420, acc_train: 1.0000, recall_train: 1.0000, auc_train: 1.0000, loss_val: 0.5116, acc_val: 0.8387, recall_val: 0.7778, auc_val: 0.8761\n"
          ]
        },
        {
          "output_type": "stream",
          "name": "stderr",
          "text": [
            "\r 50%|█████     | 25/50 [00:06<00:06,  4.13it/s]"
          ]
        },
        {
          "output_type": "stream",
          "name": "stdout",
          "text": [
            "loss_train: 0.1197, acc_train: 1.0000, recall_train: 1.0000, auc_train: 1.0000, loss_val: 0.5026, acc_val: 0.8387, recall_val: 0.7778, auc_val: 0.8803\n"
          ]
        },
        {
          "output_type": "stream",
          "name": "stderr",
          "text": [
            "\r 52%|█████▏    | 26/50 [00:07<00:05,  4.10it/s]"
          ]
        },
        {
          "output_type": "stream",
          "name": "stdout",
          "text": [
            "loss_train: 0.1002, acc_train: 1.0000, recall_train: 1.0000, auc_train: 1.0000, loss_val: 0.5052, acc_val: 0.8387, recall_val: 0.7778, auc_val: 0.8889\n"
          ]
        },
        {
          "output_type": "stream",
          "name": "stderr",
          "text": [
            "\r 54%|█████▍    | 27/50 [00:07<00:05,  4.16it/s]"
          ]
        },
        {
          "output_type": "stream",
          "name": "stdout",
          "text": [
            "loss_train: 0.0833, acc_train: 1.0000, recall_train: 1.0000, auc_train: 1.0000, loss_val: 0.5188, acc_val: 0.8387, recall_val: 0.7778, auc_val: 0.8889\n"
          ]
        },
        {
          "output_type": "stream",
          "name": "stderr",
          "text": [
            "\r 56%|█████▌    | 28/50 [00:07<00:05,  4.28it/s]"
          ]
        },
        {
          "output_type": "stream",
          "name": "stdout",
          "text": [
            "loss_train: 0.0687, acc_train: 1.0000, recall_train: 1.0000, auc_train: 1.0000, loss_val: 0.5257, acc_val: 0.8387, recall_val: 0.7778, auc_val: 0.8932\n"
          ]
        },
        {
          "output_type": "stream",
          "name": "stderr",
          "text": [
            "\r 58%|█████▊    | 29/50 [00:07<00:04,  4.29it/s]"
          ]
        },
        {
          "output_type": "stream",
          "name": "stdout",
          "text": [
            "loss_train: 0.0565, acc_train: 1.0000, recall_train: 1.0000, auc_train: 1.0000, loss_val: 0.5234, acc_val: 0.8387, recall_val: 0.7778, auc_val: 0.8974\n"
          ]
        },
        {
          "output_type": "stream",
          "name": "stderr",
          "text": [
            "\r 60%|██████    | 30/50 [00:07<00:04,  4.31it/s]"
          ]
        },
        {
          "output_type": "stream",
          "name": "stdout",
          "text": [
            "loss_train: 0.0462, acc_train: 1.0000, recall_train: 1.0000, auc_train: 1.0000, loss_val: 0.5271, acc_val: 0.8387, recall_val: 0.7778, auc_val: 0.8974\n"
          ]
        },
        {
          "output_type": "stream",
          "name": "stderr",
          "text": [
            "\r 62%|██████▏   | 31/50 [00:08<00:04,  4.30it/s]"
          ]
        },
        {
          "output_type": "stream",
          "name": "stdout",
          "text": [
            "loss_train: 0.0379, acc_train: 1.0000, recall_train: 1.0000, auc_train: 1.0000, loss_val: 0.5408, acc_val: 0.8387, recall_val: 0.7778, auc_val: 0.8974\n"
          ]
        },
        {
          "output_type": "stream",
          "name": "stderr",
          "text": [
            "\r 64%|██████▍   | 32/50 [00:08<00:04,  4.38it/s]"
          ]
        },
        {
          "output_type": "stream",
          "name": "stdout",
          "text": [
            "loss_train: 0.0310, acc_train: 1.0000, recall_train: 1.0000, auc_train: 1.0000, loss_val: 0.5555, acc_val: 0.8387, recall_val: 0.7778, auc_val: 0.8974\n"
          ]
        },
        {
          "output_type": "stream",
          "name": "stderr",
          "text": [
            "\r 66%|██████▌   | 33/50 [00:08<00:03,  4.43it/s]"
          ]
        },
        {
          "output_type": "stream",
          "name": "stdout",
          "text": [
            "loss_train: 0.0257, acc_train: 1.0000, recall_train: 1.0000, auc_train: 1.0000, loss_val: 0.5618, acc_val: 0.8387, recall_val: 0.7778, auc_val: 0.8974\n"
          ]
        },
        {
          "output_type": "stream",
          "name": "stderr",
          "text": [
            "\r 68%|██████▊   | 34/50 [00:08<00:03,  4.38it/s]"
          ]
        },
        {
          "output_type": "stream",
          "name": "stdout",
          "text": [
            "loss_train: 0.0215, acc_train: 1.0000, recall_train: 1.0000, auc_train: 1.0000, loss_val: 0.5629, acc_val: 0.8710, recall_val: 0.8333, auc_val: 0.9017\n"
          ]
        },
        {
          "output_type": "stream",
          "name": "stderr",
          "text": [
            "\r 70%|███████   | 35/50 [00:09<00:03,  4.31it/s]"
          ]
        },
        {
          "output_type": "stream",
          "name": "stdout",
          "text": [
            "loss_train: 0.0182, acc_train: 1.0000, recall_train: 1.0000, auc_train: 1.0000, loss_val: 0.5667, acc_val: 0.8710, recall_val: 0.8333, auc_val: 0.8932\n"
          ]
        },
        {
          "output_type": "stream",
          "name": "stderr",
          "text": [
            "\r 72%|███████▏  | 36/50 [00:09<00:03,  4.40it/s]"
          ]
        },
        {
          "output_type": "stream",
          "name": "stdout",
          "text": [
            "loss_train: 0.0157, acc_train: 1.0000, recall_train: 1.0000, auc_train: 1.0000, loss_val: 0.5755, acc_val: 0.8710, recall_val: 0.8333, auc_val: 0.8889\n"
          ]
        },
        {
          "output_type": "stream",
          "name": "stderr",
          "text": [
            "\r 74%|███████▍  | 37/50 [00:09<00:02,  4.48it/s]"
          ]
        },
        {
          "output_type": "stream",
          "name": "stdout",
          "text": [
            "loss_train: 0.0137, acc_train: 1.0000, recall_train: 1.0000, auc_train: 1.0000, loss_val: 0.5865, acc_val: 0.8710, recall_val: 0.8333, auc_val: 0.8889\n"
          ]
        },
        {
          "output_type": "stream",
          "name": "stderr",
          "text": [
            "\r 76%|███████▌  | 38/50 [00:09<00:02,  4.50it/s]"
          ]
        },
        {
          "output_type": "stream",
          "name": "stdout",
          "text": [
            "loss_train: 0.0122, acc_train: 1.0000, recall_train: 1.0000, auc_train: 1.0000, loss_val: 0.5939, acc_val: 0.8710, recall_val: 0.8333, auc_val: 0.8889\n"
          ]
        },
        {
          "output_type": "stream",
          "name": "stderr",
          "text": [
            "\r 78%|███████▊  | 39/50 [00:10<00:02,  4.49it/s]"
          ]
        },
        {
          "output_type": "stream",
          "name": "stdout",
          "text": [
            "loss_train: 0.0111, acc_train: 1.0000, recall_train: 1.0000, auc_train: 1.0000, loss_val: 0.5948, acc_val: 0.8710, recall_val: 0.8333, auc_val: 0.8889\n"
          ]
        },
        {
          "output_type": "stream",
          "name": "stderr",
          "text": [
            "\r 80%|████████  | 40/50 [00:10<00:02,  4.38it/s]"
          ]
        },
        {
          "output_type": "stream",
          "name": "stdout",
          "text": [
            "loss_train: 0.0102, acc_train: 1.0000, recall_train: 1.0000, auc_train: 1.0000, loss_val: 0.5918, acc_val: 0.8710, recall_val: 0.8333, auc_val: 0.8889\n"
          ]
        },
        {
          "output_type": "stream",
          "name": "stderr",
          "text": [
            "\r 82%|████████▏ | 41/50 [00:10<00:02,  4.37it/s]"
          ]
        },
        {
          "output_type": "stream",
          "name": "stdout",
          "text": [
            "loss_train: 0.0096, acc_train: 1.0000, recall_train: 1.0000, auc_train: 1.0000, loss_val: 0.5893, acc_val: 0.8710, recall_val: 0.8333, auc_val: 0.8889\n"
          ]
        },
        {
          "output_type": "stream",
          "name": "stderr",
          "text": [
            "\r 84%|████████▍ | 42/50 [00:10<00:01,  4.40it/s]"
          ]
        },
        {
          "output_type": "stream",
          "name": "stdout",
          "text": [
            "loss_train: 0.0091, acc_train: 1.0000, recall_train: 1.0000, auc_train: 1.0000, loss_val: 0.5898, acc_val: 0.8710, recall_val: 0.8333, auc_val: 0.8889\n"
          ]
        },
        {
          "output_type": "stream",
          "name": "stderr",
          "text": [
            "\r 86%|████████▌ | 43/50 [00:10<00:01,  4.33it/s]"
          ]
        },
        {
          "output_type": "stream",
          "name": "stdout",
          "text": [
            "loss_train: 0.0088, acc_train: 1.0000, recall_train: 1.0000, auc_train: 1.0000, loss_val: 0.5928, acc_val: 0.8710, recall_val: 0.8333, auc_val: 0.8932\n"
          ]
        },
        {
          "output_type": "stream",
          "name": "stderr",
          "text": [
            "\r 88%|████████▊ | 44/50 [00:11<00:01,  4.20it/s]"
          ]
        },
        {
          "output_type": "stream",
          "name": "stdout",
          "text": [
            "loss_train: 0.0086, acc_train: 1.0000, recall_train: 1.0000, auc_train: 1.0000, loss_val: 0.5947, acc_val: 0.8710, recall_val: 0.8333, auc_val: 0.8932\n"
          ]
        },
        {
          "output_type": "stream",
          "name": "stderr",
          "text": [
            "\r 90%|█████████ | 45/50 [00:11<00:01,  4.19it/s]"
          ]
        },
        {
          "output_type": "stream",
          "name": "stdout",
          "text": [
            "loss_train: 0.0086, acc_train: 1.0000, recall_train: 1.0000, auc_train: 1.0000, loss_val: 0.5917, acc_val: 0.8710, recall_val: 0.8333, auc_val: 0.8932\n"
          ]
        },
        {
          "output_type": "stream",
          "name": "stderr",
          "text": [
            "\r 92%|█████████▏| 46/50 [00:11<00:00,  4.14it/s]"
          ]
        },
        {
          "output_type": "stream",
          "name": "stdout",
          "text": [
            "loss_train: 0.0086, acc_train: 1.0000, recall_train: 1.0000, auc_train: 1.0000, loss_val: 0.5845, acc_val: 0.8710, recall_val: 0.8333, auc_val: 0.8889\n"
          ]
        },
        {
          "output_type": "stream",
          "name": "stderr",
          "text": [
            "\r 94%|█████████▍| 47/50 [00:11<00:00,  4.01it/s]"
          ]
        },
        {
          "output_type": "stream",
          "name": "stdout",
          "text": [
            "loss_train: 0.0087, acc_train: 1.0000, recall_train: 1.0000, auc_train: 1.0000, loss_val: 0.5770, acc_val: 0.8710, recall_val: 0.8333, auc_val: 0.8889\n"
          ]
        },
        {
          "output_type": "stream",
          "name": "stderr",
          "text": [
            "\r 96%|█████████▌| 48/50 [00:12<00:00,  3.88it/s]"
          ]
        },
        {
          "output_type": "stream",
          "name": "stdout",
          "text": [
            "loss_train: 0.0089, acc_train: 1.0000, recall_train: 1.0000, auc_train: 1.0000, loss_val: 0.5729, acc_val: 0.8710, recall_val: 0.8333, auc_val: 0.8932\n"
          ]
        },
        {
          "output_type": "stream",
          "name": "stderr",
          "text": [
            "\r 98%|█████████▊| 49/50 [00:12<00:00,  3.95it/s]"
          ]
        },
        {
          "output_type": "stream",
          "name": "stdout",
          "text": [
            "loss_train: 0.0092, acc_train: 1.0000, recall_train: 1.0000, auc_train: 1.0000, loss_val: 0.5722, acc_val: 0.8710, recall_val: 0.8333, auc_val: 0.8932\n"
          ]
        },
        {
          "output_type": "stream",
          "name": "stderr",
          "text": [
            "100%|██████████| 50/50 [00:12<00:00,  3.93it/s]"
          ]
        },
        {
          "output_type": "stream",
          "name": "stdout",
          "text": [
            "loss_train: 0.0096, acc_train: 1.0000, recall_train: 1.0000, auc_train: 1.0000, loss_val: 0.5709, acc_val: 0.8710, recall_val: 0.8333, auc_val: 0.8974\n"
          ]
        },
        {
          "output_type": "stream",
          "name": "stderr",
          "text": [
            "\n"
          ]
        },
        {
          "output_type": "stream",
          "name": "stdout",
          "text": [
            "Test set results: acc: 0.8281, f1_macro: 0.8269, f1_micro: 0.8281, precision: 0.8852, recall: 0.7598, auc: 0.8912, ap: 0.8906\n"
          ]
        }
      ]
    },
    {
      "cell_type": "markdown",
      "source": [
        "# **GCN**"
      ],
      "metadata": {
        "id": "0t2RkbuVuDOT"
      }
    },
    {
      "cell_type": "markdown",
      "source": [
        "## **GCN Architecture**"
      ],
      "metadata": {
        "id": "7O2eGYyvYjCF"
      }
    },
    {
      "cell_type": "code",
      "source": [
        "import argparse\n",
        "import time\n",
        "from tqdm import tqdm\n",
        "import copy as cp\n",
        "\n",
        "import torch\n",
        "import torch.nn.functional as F\n",
        "from torch_geometric.nn import global_max_pool as gmp\n",
        "from torch_geometric.nn import GCNConv, SAGEConv, GATConv, DataParallel\n",
        "from torch.utils.data import random_split\n",
        "from torch_geometric.data import DataLoader, DataListLoader\n",
        "\n",
        "\"\"\"\n",
        "\n",
        "The GCN, GAT, and GraphSAGE implementation\n",
        "\n",
        "\"\"\"\n",
        "\n",
        "class Model(torch.nn.Module):\n",
        "\tdef __init__(self, args, concat=False):\n",
        "\t\tsuper(Model, self).__init__()\n",
        "\t\tself.args = args\n",
        "\t\tself.num_features = args.num_features\n",
        "\t\tself.nhid = args.nhid\n",
        "\t\tself.num_classes = args.num_classes\n",
        "\t\tself.dropout_ratio = args.dropout_ratio\n",
        "\t\tself.model = args.model\n",
        "\t\tself.concat = concat\n",
        "\n",
        "\t\tif self.model == 'gcn':\n",
        "\t\t\tself.conv1 = GCNConv(self.num_features, self.nhid)\n",
        "\t\telif self.model == 'sage':\n",
        "\t\t\tself.conv1 = SAGEConv(self.num_features, self.nhid)\n",
        "\t\telif self.model == 'gat':\n",
        "\t\t\tself.conv1 = GATConv(self.num_features, self.nhid)\n",
        "\n",
        "\t\tif self.concat:\n",
        "\t\t\tself.lin0 = torch.nn.Linear(self.num_features, self.nhid)\n",
        "\t\t\tself.lin1 = torch.nn.Linear(self.nhid * 2, self.nhid)\n",
        "\n",
        "\t\tself.lin2 = torch.nn.Linear(self.nhid, self.num_classes)\n",
        "\n",
        "\tdef forward(self, data):\n",
        "\n",
        "\t\tx, edge_index, batch = data.x, data.edge_index, data.batch\n",
        "\n",
        "\t\tedge_attr = None\n",
        "\n",
        "\t\tx = F.relu(self.conv1(x, edge_index, edge_attr))\n",
        "\t\tx = gmp(x, batch)\n",
        "\n",
        "\t\tif self.concat:\n",
        "\t\t\tnews = torch.stack([data.x[(data.batch == idx).nonzero().squeeze()[0]] for idx in range(data.num_graphs)])\n",
        "\t\t\tnews = F.relu(self.lin0(news))\n",
        "\t\t\tx = torch.cat([x, news], dim=1)\n",
        "\t\t\tx = F.relu(self.lin1(x))\n",
        "\n",
        "\t\tx = F.log_softmax(self.lin2(x), dim=-1)\n",
        "\n",
        "\t\treturn x"
      ],
      "metadata": {
        "id": "rTV27xvmuF2n"
      },
      "execution_count": null,
      "outputs": []
    },
    {
      "cell_type": "code",
      "source": [
        "@torch.no_grad()\n",
        "def compute_test(loader, verbose=False):\n",
        "\tmodel.eval()\n",
        "\tloss_test = 0.0\n",
        "\tout_log = []\n",
        "\tfor data in loader:\n",
        "\t\tif not args.multi_gpu:\n",
        "\t\t\tdata = data.to(args.device)\n",
        "\t\tout = model(data)\n",
        "\t\tif args.multi_gpu:\n",
        "\t\t\ty = torch.cat([d.y.unsqueeze(0) for d in data]).squeeze().to(out.device)\n",
        "\t\telse:\n",
        "\t\t\ty = data.y\n",
        "\t\tif verbose:\n",
        "\t\t\tprint(F.softmax(out, dim=1).cpu().numpy())\n",
        "\t\tout_log.append([F.softmax(out, dim=1), y])\n",
        "\t\tloss_test += F.nll_loss(out, y).item()\n",
        "\treturn eval_deep(out_log, loader), loss_test"
      ],
      "metadata": {
        "id": "Tsu6MnaEuLRg"
      },
      "execution_count": null,
      "outputs": []
    },
    {
      "cell_type": "markdown",
      "source": [
        "## **GCN Model Performance**"
      ],
      "metadata": {
        "id": "cmwpv755YmmP"
      }
    },
    {
      "cell_type": "code",
      "source": [
        "parser = argparse.ArgumentParser()\n",
        "\n",
        "parser.add_argument('--seed', type=int, default=777, help='random seed')\n",
        "parser.add_argument('--device', type=str, default='cpu', help='specify cuda devices')\n",
        "\n",
        "# hyper-parameters\n",
        "parser.add_argument('--dataset', type=str, default='politifact', help='[politifact, gossipcop]')\n",
        "parser.add_argument('--batch_size', type=int, default=128, help='batch size')\n",
        "parser.add_argument('--lr', type=float, default=0.001, help='learning rate')\n",
        "parser.add_argument('--weight_decay', type=float, default=0.01, help='weight decay')\n",
        "parser.add_argument('--nhid', type=int, default=128, help='hidden size')\n",
        "parser.add_argument('--dropout_ratio', type=float, default=0.0, help='dropout ratio')\n",
        "parser.add_argument('--epochs', type=int, default=60, help='maximum number of epochs')\n",
        "parser.add_argument('--concat', type=bool, default=True, help='whether concat news embedding and graph embedding')\n",
        "parser.add_argument('--multi_gpu', type=bool, default=False, help='multi-gpu mode')\n",
        "parser.add_argument('--feature', type=str, default='spacy', help='feature type, [profile, spacy, bert, content]')\n",
        "parser.add_argument('--model', type=str, default='gcn', help='model type, [gcn, gat, sage]')\n",
        "\n",
        "# args = parser.parse_args()\n",
        "args, _ = parser.parse_known_args()\n",
        "torch.manual_seed(args.seed)\n",
        "if torch.cuda.is_available():\n",
        "\ttorch.cuda.manual_seed(args.seed)\n",
        "\n",
        "dataset = FNNDataset(root='/content/drive/MyDrive', feature=args.feature, empty=False, name=args.dataset, transform=ToUndirected())\n",
        "\n",
        "args.num_classes = dataset.num_classes\n",
        "args.num_features = dataset.num_features\n",
        "\n",
        "print(args)\n",
        "\n",
        "num_training = int(len(dataset) * 0.2)\n",
        "num_val = int(len(dataset) * 0.1)\n",
        "num_test = len(dataset) - (num_training + num_val)\n",
        "training_set, validation_set, test_set = random_split(dataset, [num_training, num_val, num_test])\n",
        "\n",
        "if args.multi_gpu:\n",
        "\tloader = DataListLoader\n",
        "else:\n",
        "\tloader = DataLoader\n",
        "\n",
        "train_loader = loader(training_set, batch_size=args.batch_size, shuffle=True)\n",
        "val_loader = loader(validation_set, batch_size=args.batch_size, shuffle=False)\n",
        "test_loader = loader(test_set, batch_size=args.batch_size, shuffle=False)\n",
        "\n",
        "model = Model(args, concat=args.concat)\n",
        "if args.multi_gpu:\n",
        "\tmodel = DataParallel(model)\n",
        "model = model.to(args.device)\n",
        "optimizer = torch.optim.Adam(model.parameters(), lr=args.lr, weight_decay=args.weight_decay)"
      ],
      "metadata": {
        "colab": {
          "base_uri": "https://localhost:8080/"
        },
        "id": "1UtSL6O-uOcE",
        "outputId": "6508ce11-3b79-47a9-ba5c-05e78b58ace9"
      },
      "execution_count": null,
      "outputs": [
        {
          "output_type": "stream",
          "name": "stdout",
          "text": [
            "Namespace(seed=777, device='cpu', dataset='politifact', batch_size=128, lr=0.001, weight_decay=0.01, nhid=128, dropout_ratio=0.0, epochs=60, concat=True, multi_gpu=False, feature='spacy', model='gcn', num_classes=2, num_features=300)\n"
          ]
        },
        {
          "output_type": "stream",
          "name": "stderr",
          "text": [
            "/usr/local/lib/python3.10/dist-packages/torch_geometric/deprecation.py:26: UserWarning: 'data.DataLoader' is deprecated, use 'loader.DataLoader' instead\n",
            "  warnings.warn(out)\n"
          ]
        }
      ]
    },
    {
      "cell_type": "markdown",
      "source": [
        "## **GCN Run Model**"
      ],
      "metadata": {
        "id": "CGcpKy4ZYqEe"
      }
    },
    {
      "cell_type": "code",
      "source": [
        "# Model training\n",
        "min_loss = 1e10\n",
        "val_loss_values = []\n",
        "best_epoch = 0\n",
        "\n",
        "t = time.time()\n",
        "model.train()\n",
        "for epoch in tqdm(range(args.epochs)):\n",
        "\tloss_train = 0.0\n",
        "\tout_log = []\n",
        "\tfor i, data in enumerate(train_loader):\n",
        "\t\toptimizer.zero_grad()\n",
        "\t\tif not args.multi_gpu:\n",
        "\t\t\tdata = data.to(args.device)\n",
        "\t\tout = model(data)\n",
        "\t\tif args.multi_gpu:\n",
        "\t\t\ty = torch.cat([d.y.unsqueeze(0) for d in data]).squeeze().to(out.device)\n",
        "\t\telse:\n",
        "\t\t\ty = data.y\n",
        "\t\tloss = F.nll_loss(out, y)\n",
        "\t\tloss.backward()\n",
        "\t\toptimizer.step()\n",
        "\t\tloss_train += loss.item()\n",
        "\t\tout_log.append([F.softmax(out, dim=1), y])\n",
        "\tacc_train, _, _, _, recall_train, auc_train, _ = eval_deep(out_log, train_loader)\n",
        "\t[acc_val, _, _, _, recall_val, auc_val, _], loss_val = compute_test(val_loader)\n",
        "\tprint(f'loss_train: {loss_train:.4f}, acc_train: {acc_train:.4f},'\n",
        "\t\t\t  f' recall_train: {recall_train:.4f}, auc_train: {auc_train:.4f},'\n",
        "\t\t\t  f' loss_val: {loss_val:.4f}, acc_val: {acc_val:.4f},'\n",
        "\t\t\t  f' recall_val: {recall_val:.4f}, auc_val: {auc_val:.4f}')\n",
        "\n",
        "[acc, f1_macro, f1_micro, precision, recall, auc, ap], test_loss = compute_test(test_loader, verbose=False)\n",
        "print(f'Test set results: acc: {acc:.4f}, f1_macro: {f1_macro:.4f}, f1_micro: {f1_micro:.4f}, '\n",
        "\t\t  f'precision: {precision:.4f}, recall: {recall:.4f}, auc: {auc:.4f}, ap: {ap:.4f}')\n",
        "acc_GCN = acc\n",
        "f1_GCN = f1_macro\n",
        "auc_GCN = auc"
      ],
      "metadata": {
        "colab": {
          "base_uri": "https://localhost:8080/"
        },
        "id": "Ck8dpLiBuORr",
        "outputId": "db0ce8d2-2b72-4d56-9aad-f4dbf471abcf"
      },
      "execution_count": null,
      "outputs": [
        {
          "output_type": "stream",
          "name": "stderr",
          "text": [
            "  2%|▏         | 1/60 [00:00<00:15,  3.69it/s]"
          ]
        },
        {
          "output_type": "stream",
          "name": "stdout",
          "text": [
            "loss_train: 0.6917, acc_train: 0.5323, recall_train: 0.1923, auc_train: 0.4808, loss_val: 0.7294, acc_val: 0.4194, recall_val: 0.0000, auc_val: 0.3803\n"
          ]
        },
        {
          "output_type": "stream",
          "name": "stderr",
          "text": [
            "\r  3%|▎         | 2/60 [00:00<00:16,  3.51it/s]"
          ]
        },
        {
          "output_type": "stream",
          "name": "stdout",
          "text": [
            "loss_train: 0.6823, acc_train: 0.5806, recall_train: 0.0000, auc_train: 0.5160, loss_val: 0.7564, acc_val: 0.4194, recall_val: 0.0000, auc_val: 0.3718\n"
          ]
        },
        {
          "output_type": "stream",
          "name": "stderr",
          "text": [
            "\r  5%|▌         | 3/60 [00:00<00:14,  3.83it/s]"
          ]
        },
        {
          "output_type": "stream",
          "name": "stdout",
          "text": [
            "loss_train: 0.6792, acc_train: 0.5806, recall_train: 0.0000, auc_train: 0.5246, loss_val: 0.7726, acc_val: 0.4194, recall_val: 0.0000, auc_val: 0.3718\n"
          ]
        },
        {
          "output_type": "stream",
          "name": "stderr",
          "text": [
            "\r  7%|▋         | 4/60 [00:01<00:14,  3.87it/s]"
          ]
        },
        {
          "output_type": "stream",
          "name": "stdout",
          "text": [
            "loss_train: 0.6781, acc_train: 0.5806, recall_train: 0.0000, auc_train: 0.5342, loss_val: 0.7735, acc_val: 0.4194, recall_val: 0.0000, auc_val: 0.3846\n"
          ]
        },
        {
          "output_type": "stream",
          "name": "stderr",
          "text": [
            "\r  8%|▊         | 5/60 [00:01<00:14,  3.84it/s]"
          ]
        },
        {
          "output_type": "stream",
          "name": "stdout",
          "text": [
            "loss_train: 0.6763, acc_train: 0.5806, recall_train: 0.0000, auc_train: 0.5524, loss_val: 0.7644, acc_val: 0.4194, recall_val: 0.0000, auc_val: 0.3932\n"
          ]
        },
        {
          "output_type": "stream",
          "name": "stderr",
          "text": [
            "\r 10%|█         | 6/60 [00:01<00:14,  3.85it/s]"
          ]
        },
        {
          "output_type": "stream",
          "name": "stdout",
          "text": [
            "loss_train: 0.6737, acc_train: 0.5806, recall_train: 0.0000, auc_train: 0.5726, loss_val: 0.7514, acc_val: 0.4194, recall_val: 0.0000, auc_val: 0.4060\n"
          ]
        },
        {
          "output_type": "stream",
          "name": "stderr",
          "text": [
            "\r 12%|█▏        | 7/60 [00:01<00:13,  3.95it/s]"
          ]
        },
        {
          "output_type": "stream",
          "name": "stdout",
          "text": [
            "loss_train: 0.6712, acc_train: 0.5806, recall_train: 0.0000, auc_train: 0.5983, loss_val: 0.7388, acc_val: 0.4194, recall_val: 0.0000, auc_val: 0.4231\n"
          ]
        },
        {
          "output_type": "stream",
          "name": "stderr",
          "text": [
            "\r 13%|█▎        | 8/60 [00:02<00:12,  4.06it/s]"
          ]
        },
        {
          "output_type": "stream",
          "name": "stdout",
          "text": [
            "loss_train: 0.6689, acc_train: 0.5806, recall_train: 0.0000, auc_train: 0.6335, loss_val: 0.7285, acc_val: 0.4194, recall_val: 0.0000, auc_val: 0.4444\n"
          ]
        },
        {
          "output_type": "stream",
          "name": "stderr",
          "text": [
            "\r 15%|█▌        | 9/60 [00:02<00:14,  3.55it/s]"
          ]
        },
        {
          "output_type": "stream",
          "name": "stdout",
          "text": [
            "loss_train: 0.6669, acc_train: 0.5806, recall_train: 0.0000, auc_train: 0.6763, loss_val: 0.7214, acc_val: 0.4194, recall_val: 0.0000, auc_val: 0.4744\n"
          ]
        },
        {
          "output_type": "stream",
          "name": "stderr",
          "text": [
            "\r 17%|█▋        | 10/60 [00:03<00:25,  1.94it/s]"
          ]
        },
        {
          "output_type": "stream",
          "name": "stdout",
          "text": [
            "loss_train: 0.6649, acc_train: 0.5806, recall_train: 0.0000, auc_train: 0.7030, loss_val: 0.7179, acc_val: 0.4194, recall_val: 0.0000, auc_val: 0.4915\n"
          ]
        },
        {
          "output_type": "stream",
          "name": "stderr",
          "text": [
            "\r 18%|█▊        | 11/60 [00:03<00:23,  2.09it/s]"
          ]
        },
        {
          "output_type": "stream",
          "name": "stdout",
          "text": [
            "loss_train: 0.6626, acc_train: 0.5806, recall_train: 0.0000, auc_train: 0.7297, loss_val: 0.7176, acc_val: 0.4194, recall_val: 0.0000, auc_val: 0.5043\n"
          ]
        },
        {
          "output_type": "stream",
          "name": "stderr",
          "text": [
            "\r 20%|██        | 12/60 [00:04<00:24,  1.95it/s]"
          ]
        },
        {
          "output_type": "stream",
          "name": "stdout",
          "text": [
            "loss_train: 0.6598, acc_train: 0.5806, recall_train: 0.0000, auc_train: 0.7468, loss_val: 0.7193, acc_val: 0.4194, recall_val: 0.0000, auc_val: 0.5299\n"
          ]
        },
        {
          "output_type": "stream",
          "name": "stderr",
          "text": [
            " 23%|██▎       | 14/60 [00:05<00:18,  2.43it/s]"
          ]
        },
        {
          "output_type": "stream",
          "name": "stdout",
          "text": [
            "loss_train: 0.6566, acc_train: 0.5806, recall_train: 0.0000, auc_train: 0.7553, loss_val: 0.7223, acc_val: 0.4194, recall_val: 0.0000, auc_val: 0.5470\n",
            "loss_train: 0.6532, acc_train: 0.5806, recall_train: 0.0000, auc_train: 0.7596, loss_val: 0.7245, acc_val: 0.4194, recall_val: 0.0000, auc_val: 0.5684\n"
          ]
        },
        {
          "output_type": "stream",
          "name": "stderr",
          "text": [
            "\r 25%|██▌       | 15/60 [00:05<00:15,  2.98it/s]"
          ]
        },
        {
          "output_type": "stream",
          "name": "stdout",
          "text": [
            "loss_train: 0.6495, acc_train: 0.5806, recall_train: 0.0000, auc_train: 0.7735, loss_val: 0.7238, acc_val: 0.4194, recall_val: 0.0000, auc_val: 0.5812\n"
          ]
        },
        {
          "output_type": "stream",
          "name": "stderr",
          "text": [
            "\r 27%|██▋       | 16/60 [00:05<00:13,  3.36it/s]"
          ]
        },
        {
          "output_type": "stream",
          "name": "stdout",
          "text": [
            "loss_train: 0.6454, acc_train: 0.5806, recall_train: 0.0000, auc_train: 0.7895, loss_val: 0.7193, acc_val: 0.4194, recall_val: 0.0000, auc_val: 0.6111\n"
          ]
        },
        {
          "output_type": "stream",
          "name": "stderr",
          "text": [
            "\r 28%|██▊       | 17/60 [00:06<00:16,  2.53it/s]"
          ]
        },
        {
          "output_type": "stream",
          "name": "stdout",
          "text": [
            "loss_train: 0.6406, acc_train: 0.5968, recall_train: 0.0385, auc_train: 0.8194, loss_val: 0.7114, acc_val: 0.4194, recall_val: 0.0000, auc_val: 0.6795\n"
          ]
        },
        {
          "output_type": "stream",
          "name": "stderr",
          "text": [
            " 32%|███▏      | 19/60 [00:06<00:12,  3.33it/s]"
          ]
        },
        {
          "output_type": "stream",
          "name": "stdout",
          "text": [
            "loss_train: 0.6354, acc_train: 0.5968, recall_train: 0.0385, auc_train: 0.8515, loss_val: 0.7013, acc_val: 0.4194, recall_val: 0.0000, auc_val: 0.7436\n",
            "loss_train: 0.6295, acc_train: 0.5968, recall_train: 0.0385, auc_train: 0.8793, loss_val: 0.6912, acc_val: 0.4194, recall_val: 0.0000, auc_val: 0.7821\n"
          ]
        },
        {
          "output_type": "stream",
          "name": "stderr",
          "text": [
            " 35%|███▌      | 21/60 [00:06<00:08,  4.36it/s]"
          ]
        },
        {
          "output_type": "stream",
          "name": "stdout",
          "text": [
            "loss_train: 0.6231, acc_train: 0.5968, recall_train: 0.0385, auc_train: 0.9135, loss_val: 0.6828, acc_val: 0.4516, recall_val: 0.0556, auc_val: 0.8162\n",
            "loss_train: 0.6159, acc_train: 0.6129, recall_train: 0.0769, auc_train: 0.9306, loss_val: 0.6774, acc_val: 0.4516, recall_val: 0.0556, auc_val: 0.8291\n"
          ]
        },
        {
          "output_type": "stream",
          "name": "stderr",
          "text": [
            " 38%|███▊      | 23/60 [00:07<00:07,  5.18it/s]"
          ]
        },
        {
          "output_type": "stream",
          "name": "stdout",
          "text": [
            "loss_train: 0.6078, acc_train: 0.6613, recall_train: 0.1923, auc_train: 0.9359, loss_val: 0.6743, acc_val: 0.4516, recall_val: 0.0556, auc_val: 0.8291\n",
            "loss_train: 0.5989, acc_train: 0.7097, recall_train: 0.3077, auc_train: 0.9391, loss_val: 0.6710, acc_val: 0.4839, recall_val: 0.1111, auc_val: 0.8248\n"
          ]
        },
        {
          "output_type": "stream",
          "name": "stderr",
          "text": [
            " 42%|████▏     | 25/60 [00:07<00:06,  5.74it/s]"
          ]
        },
        {
          "output_type": "stream",
          "name": "stdout",
          "text": [
            "loss_train: 0.5891, acc_train: 0.7097, recall_train: 0.3077, auc_train: 0.9402, loss_val: 0.6643, acc_val: 0.5161, recall_val: 0.1667, auc_val: 0.8333\n",
            "loss_train: 0.5785, acc_train: 0.7419, recall_train: 0.3846, auc_train: 0.9487, loss_val: 0.6523, acc_val: 0.5806, recall_val: 0.2778, auc_val: 0.8419\n"
          ]
        },
        {
          "output_type": "stream",
          "name": "stderr",
          "text": [
            " 45%|████▌     | 27/60 [00:07<00:05,  6.00it/s]"
          ]
        },
        {
          "output_type": "stream",
          "name": "stdout",
          "text": [
            "loss_train: 0.5668, acc_train: 0.8065, recall_train: 0.5385, auc_train: 0.9573, loss_val: 0.6370, acc_val: 0.5806, recall_val: 0.3333, auc_val: 0.8462\n",
            "loss_train: 0.5540, acc_train: 0.8065, recall_train: 0.5769, auc_train: 0.9626, loss_val: 0.6231, acc_val: 0.5806, recall_val: 0.3333, auc_val: 0.8462\n"
          ]
        },
        {
          "output_type": "stream",
          "name": "stderr",
          "text": [
            " 48%|████▊     | 29/60 [00:08<00:05,  6.11it/s]"
          ]
        },
        {
          "output_type": "stream",
          "name": "stdout",
          "text": [
            "loss_train: 0.5404, acc_train: 0.8548, recall_train: 0.6923, auc_train: 0.9637, loss_val: 0.6137, acc_val: 0.6452, recall_val: 0.4444, auc_val: 0.8462\n",
            "loss_train: 0.5258, acc_train: 0.8710, recall_train: 0.7308, auc_train: 0.9647, loss_val: 0.6071, acc_val: 0.6774, recall_val: 0.5000, auc_val: 0.8419\n"
          ]
        },
        {
          "output_type": "stream",
          "name": "stderr",
          "text": [
            " 52%|█████▏    | 31/60 [00:08<00:04,  6.20it/s]"
          ]
        },
        {
          "output_type": "stream",
          "name": "stdout",
          "text": [
            "loss_train: 0.5103, acc_train: 0.8710, recall_train: 0.7308, auc_train: 0.9647, loss_val: 0.5964, acc_val: 0.6452, recall_val: 0.5000, auc_val: 0.8419\n",
            "loss_train: 0.4941, acc_train: 0.8710, recall_train: 0.7308, auc_train: 0.9658, loss_val: 0.5792, acc_val: 0.7097, recall_val: 0.6667, auc_val: 0.8419\n"
          ]
        },
        {
          "output_type": "stream",
          "name": "stderr",
          "text": [
            " 55%|█████▌    | 33/60 [00:08<00:04,  6.25it/s]"
          ]
        },
        {
          "output_type": "stream",
          "name": "stdout",
          "text": [
            "loss_train: 0.4771, acc_train: 0.9032, recall_train: 0.8077, auc_train: 0.9701, loss_val: 0.5626, acc_val: 0.7419, recall_val: 0.7222, auc_val: 0.8504\n",
            "loss_train: 0.4598, acc_train: 0.9194, recall_train: 0.8846, auc_train: 0.9690, loss_val: 0.5529, acc_val: 0.7419, recall_val: 0.7222, auc_val: 0.8504\n"
          ]
        },
        {
          "output_type": "stream",
          "name": "stderr",
          "text": [
            " 58%|█████▊    | 35/60 [00:09<00:04,  6.12it/s]"
          ]
        },
        {
          "output_type": "stream",
          "name": "stdout",
          "text": [
            "loss_train: 0.4419, acc_train: 0.9194, recall_train: 0.8846, auc_train: 0.9712, loss_val: 0.5433, acc_val: 0.7419, recall_val: 0.7222, auc_val: 0.8547\n",
            "loss_train: 0.4241, acc_train: 0.9194, recall_train: 0.8846, auc_train: 0.9733, loss_val: 0.5256, acc_val: 0.7419, recall_val: 0.7222, auc_val: 0.8547\n"
          ]
        },
        {
          "output_type": "stream",
          "name": "stderr",
          "text": [
            " 62%|██████▏   | 37/60 [00:09<00:03,  6.11it/s]"
          ]
        },
        {
          "output_type": "stream",
          "name": "stdout",
          "text": [
            "loss_train: 0.4061, acc_train: 0.9194, recall_train: 0.8846, auc_train: 0.9722, loss_val: 0.5092, acc_val: 0.7419, recall_val: 0.7222, auc_val: 0.8590\n",
            "loss_train: 0.3882, acc_train: 0.9194, recall_train: 0.8846, auc_train: 0.9733, loss_val: 0.5014, acc_val: 0.7419, recall_val: 0.7222, auc_val: 0.8632\n"
          ]
        },
        {
          "output_type": "stream",
          "name": "stderr",
          "text": [
            " 65%|██████▌   | 39/60 [00:09<00:03,  6.23it/s]"
          ]
        },
        {
          "output_type": "stream",
          "name": "stdout",
          "text": [
            "loss_train: 0.3706, acc_train: 0.9194, recall_train: 0.8846, auc_train: 0.9733, loss_val: 0.4895, acc_val: 0.7419, recall_val: 0.7222, auc_val: 0.8590\n",
            "loss_train: 0.3533, acc_train: 0.9194, recall_train: 0.8846, auc_train: 0.9744, loss_val: 0.4733, acc_val: 0.7742, recall_val: 0.7778, auc_val: 0.8504\n"
          ]
        },
        {
          "output_type": "stream",
          "name": "stderr",
          "text": [
            " 68%|██████▊   | 41/60 [00:10<00:03,  5.83it/s]"
          ]
        },
        {
          "output_type": "stream",
          "name": "stdout",
          "text": [
            "loss_train: 0.3366, acc_train: 0.9194, recall_train: 0.8846, auc_train: 0.9754, loss_val: 0.4670, acc_val: 0.7742, recall_val: 0.7778, auc_val: 0.8547\n",
            "loss_train: 0.3204, acc_train: 0.9194, recall_train: 0.8846, auc_train: 0.9765, loss_val: 0.4569, acc_val: 0.7742, recall_val: 0.7778, auc_val: 0.8547\n"
          ]
        },
        {
          "output_type": "stream",
          "name": "stderr",
          "text": [
            " 72%|███████▏  | 43/60 [00:10<00:02,  5.74it/s]"
          ]
        },
        {
          "output_type": "stream",
          "name": "stdout",
          "text": [
            "loss_train: 0.3048, acc_train: 0.9355, recall_train: 0.9231, auc_train: 0.9765, loss_val: 0.4451, acc_val: 0.8065, recall_val: 0.8333, auc_val: 0.8590\n",
            "loss_train: 0.2899, acc_train: 0.9355, recall_train: 0.9231, auc_train: 0.9797, loss_val: 0.4419, acc_val: 0.8387, recall_val: 0.8333, auc_val: 0.8590\n"
          ]
        },
        {
          "output_type": "stream",
          "name": "stderr",
          "text": [
            " 75%|███████▌  | 45/60 [00:10<00:02,  5.76it/s]"
          ]
        },
        {
          "output_type": "stream",
          "name": "stdout",
          "text": [
            "loss_train: 0.2756, acc_train: 0.9355, recall_train: 0.9231, auc_train: 0.9797, loss_val: 0.4308, acc_val: 0.8387, recall_val: 0.8333, auc_val: 0.8632\n",
            "loss_train: 0.2619, acc_train: 0.9355, recall_train: 0.9231, auc_train: 0.9808, loss_val: 0.4270, acc_val: 0.8387, recall_val: 0.8333, auc_val: 0.8632\n"
          ]
        },
        {
          "output_type": "stream",
          "name": "stderr",
          "text": [
            " 78%|███████▊  | 47/60 [00:11<00:02,  5.50it/s]"
          ]
        },
        {
          "output_type": "stream",
          "name": "stdout",
          "text": [
            "loss_train: 0.2490, acc_train: 0.9355, recall_train: 0.9231, auc_train: 0.9829, loss_val: 0.4211, acc_val: 0.8387, recall_val: 0.8333, auc_val: 0.8632\n",
            "loss_train: 0.2366, acc_train: 0.9677, recall_train: 0.9615, auc_train: 0.9840, loss_val: 0.4151, acc_val: 0.8387, recall_val: 0.8333, auc_val: 0.8675\n"
          ]
        },
        {
          "output_type": "stream",
          "name": "stderr",
          "text": [
            " 82%|████████▏ | 49/60 [00:11<00:01,  5.61it/s]"
          ]
        },
        {
          "output_type": "stream",
          "name": "stdout",
          "text": [
            "loss_train: 0.2250, acc_train: 0.9677, recall_train: 0.9615, auc_train: 0.9840, loss_val: 0.4139, acc_val: 0.8387, recall_val: 0.8333, auc_val: 0.8675\n",
            "loss_train: 0.2139, acc_train: 0.9677, recall_train: 0.9615, auc_train: 0.9850, loss_val: 0.4051, acc_val: 0.8387, recall_val: 0.8333, auc_val: 0.8632\n"
          ]
        },
        {
          "output_type": "stream",
          "name": "stderr",
          "text": [
            " 85%|████████▌ | 51/60 [00:11<00:01,  5.70it/s]"
          ]
        },
        {
          "output_type": "stream",
          "name": "stdout",
          "text": [
            "loss_train: 0.2037, acc_train: 0.9839, recall_train: 1.0000, auc_train: 0.9882, loss_val: 0.4115, acc_val: 0.8387, recall_val: 0.8333, auc_val: 0.8675\n",
            "loss_train: 0.1945, acc_train: 0.9677, recall_train: 0.9615, auc_train: 0.9904, loss_val: 0.3974, acc_val: 0.8387, recall_val: 0.8333, auc_val: 0.8590\n"
          ]
        },
        {
          "output_type": "stream",
          "name": "stderr",
          "text": [
            " 88%|████████▊ | 53/60 [00:12<00:01,  5.52it/s]"
          ]
        },
        {
          "output_type": "stream",
          "name": "stdout",
          "text": [
            "loss_train: 0.1860, acc_train: 0.9677, recall_train: 1.0000, auc_train: 0.9915, loss_val: 0.4052, acc_val: 0.8387, recall_val: 0.8333, auc_val: 0.8675\n",
            "loss_train: 0.1769, acc_train: 0.9839, recall_train: 1.0000, auc_train: 0.9915, loss_val: 0.3965, acc_val: 0.8387, recall_val: 0.8333, auc_val: 0.8718\n"
          ]
        },
        {
          "output_type": "stream",
          "name": "stderr",
          "text": [
            " 92%|█████████▏| 55/60 [00:12<00:00,  5.66it/s]"
          ]
        },
        {
          "output_type": "stream",
          "name": "stdout",
          "text": [
            "loss_train: 0.1682, acc_train: 0.9839, recall_train: 1.0000, auc_train: 0.9925, loss_val: 0.3910, acc_val: 0.8387, recall_val: 0.8333, auc_val: 0.8632\n",
            "loss_train: 0.1616, acc_train: 0.9839, recall_train: 1.0000, auc_train: 0.9936, loss_val: 0.3992, acc_val: 0.8387, recall_val: 0.8333, auc_val: 0.8803\n"
          ]
        },
        {
          "output_type": "stream",
          "name": "stderr",
          "text": [
            " 95%|█████████▌| 57/60 [00:12<00:00,  5.80it/s]"
          ]
        },
        {
          "output_type": "stream",
          "name": "stdout",
          "text": [
            "loss_train: 0.1549, acc_train: 0.9839, recall_train: 1.0000, auc_train: 0.9936, loss_val: 0.3894, acc_val: 0.8387, recall_val: 0.8333, auc_val: 0.8761\n",
            "loss_train: 0.1477, acc_train: 0.9839, recall_train: 1.0000, auc_train: 0.9936, loss_val: 0.3860, acc_val: 0.8387, recall_val: 0.8333, auc_val: 0.8718\n"
          ]
        },
        {
          "output_type": "stream",
          "name": "stderr",
          "text": [
            " 98%|█████████▊| 59/60 [00:13<00:00,  5.90it/s]"
          ]
        },
        {
          "output_type": "stream",
          "name": "stdout",
          "text": [
            "loss_train: 0.1422, acc_train: 0.9839, recall_train: 1.0000, auc_train: 0.9957, loss_val: 0.3936, acc_val: 0.8387, recall_val: 0.8333, auc_val: 0.8803\n",
            "loss_train: 0.1371, acc_train: 0.9839, recall_train: 1.0000, auc_train: 0.9947, loss_val: 0.3845, acc_val: 0.8387, recall_val: 0.8333, auc_val: 0.8761\n"
          ]
        },
        {
          "output_type": "stream",
          "name": "stderr",
          "text": [
            "100%|██████████| 60/60 [00:13<00:00,  4.45it/s]\n"
          ]
        },
        {
          "output_type": "stream",
          "name": "stdout",
          "text": [
            "loss_train: 0.1313, acc_train: 0.9839, recall_train: 1.0000, auc_train: 0.9968, loss_val: 0.3817, acc_val: 0.8387, recall_val: 0.8333, auc_val: 0.8761\n",
            "Test set results: acc: 0.8326, f1_macro: 0.8319, f1_micro: 0.8326, precision: 0.8491, recall: 0.8115, auc: 0.8931, ap: 0.9133\n"
          ]
        }
      ]
    },
    {
      "cell_type": "markdown",
      "source": [
        "# **GCN_FN**"
      ],
      "metadata": {
        "id": "UQ07bQbY5DTF"
      }
    },
    {
      "cell_type": "markdown",
      "source": [
        "## **GCN_FN Architecture**"
      ],
      "metadata": {
        "id": "SZPK58TK-673"
      }
    },
    {
      "cell_type": "code",
      "source": [
        "import argparse\n",
        "import time\n",
        "from tqdm import tqdm\n",
        "import copy as cp\n",
        "import torch.nn.functional as F\n",
        "from torch.utils.data import random_split\n",
        "from torch_geometric.data import DataLoader, DataListLoader\n",
        "from torch_geometric.nn import DataParallel\n",
        "from torch.nn import Linear\n",
        "from torch_geometric.nn import global_mean_pool, GATConv\n",
        "\n",
        "\n",
        "class Net(torch.nn.Module):\n",
        "\tdef __init__(self, concat=False):\n",
        "\t\tsuper(Net, self).__init__()\n",
        "\n",
        "\t\tself.num_features = dataset.num_features\n",
        "\t\tself.num_classes = args.num_classes\n",
        "\t\tself.nhid = args.nhid\n",
        "\t\tself.concat = concat\n",
        "\n",
        "\t\tself.conv1 = GATConv(self.num_features, self.nhid * 2)\n",
        "\t\tself.conv2 = GATConv(self.nhid * 2, self.nhid * 2)\n",
        "\n",
        "\t\tself.fc1 = Linear(self.nhid * 2, self.nhid)\n",
        "\n",
        "\t\tif self.concat:\n",
        "\t\t\tself.fc0 = Linear(self.num_features, self.nhid)\n",
        "\t\t\tself.fc1 = Linear(self.nhid * 2, self.nhid)\n",
        "\n",
        "\t\tself.fc2 = Linear(self.nhid, self.num_classes)\n",
        "\n",
        "\n",
        "\tdef forward(self, data):\n",
        "\t\tx, edge_index, batch = data.x, data.edge_index, data.batch\n",
        "\n",
        "\t\tx = F.selu(self.conv1(x, edge_index))\n",
        "\t\tx = F.selu(self.conv2(x, edge_index))\n",
        "\t\tx = F.selu(global_mean_pool(x, batch))\n",
        "\t\tx = F.selu(self.fc1(x))\n",
        "\t\tx = F.dropout(x, p=0.5, training=self.training)\n",
        "\n",
        "\t\tif self.concat:\n",
        "\t\t\tnews = torch.stack([data.x[(data.batch == idx).nonzero().squeeze()[0]] for idx in range(data.num_graphs)])\n",
        "\t\t\tnews = F.relu(self.fc0(news))\n",
        "\t\t\tx = torch.cat([x, news], dim=1)\n",
        "\t\t\tx = F.relu(self.fc1(x))\n",
        "\n",
        "\t\tx = F.log_softmax(self.fc2(x), dim=-1)\n",
        "\n",
        "\t\treturn x"
      ],
      "metadata": {
        "id": "2cj1wxE3pdbg"
      },
      "execution_count": null,
      "outputs": []
    },
    {
      "cell_type": "markdown",
      "source": [
        "## **GCN_FN Model Performance**"
      ],
      "metadata": {
        "id": "EJox7a2O_VN4"
      }
    },
    {
      "cell_type": "code",
      "source": [
        "@torch.no_grad()\n",
        "def compute_test(loader, verbose=False):\n",
        "\tmodel.eval()\n",
        "\tloss_test = 0.0\n",
        "\tout_log = []\n",
        "\tfor data in loader:\n",
        "\t\tif not args.multi_gpu:\n",
        "\t\t\tdata = data.to(args.device)\n",
        "\t\tout = model(data)\n",
        "\t\tif args.multi_gpu:\n",
        "\t\t\ty = torch.cat([d.y.unsqueeze(0) for d in data]).squeeze().to(out.device)\n",
        "\t\telse:\n",
        "\t\t\ty = data.y\n",
        "\t\tif verbose:\n",
        "\t\t\tprint(F.softmax(out, dim=1).cpu().numpy())\n",
        "\t\tout_log.append([F.softmax(out, dim=1), y])\n",
        "\t\tloss_test += F.nll_loss(out, y).item()\n",
        "\treturn eval_deep(out_log, loader), loss_test"
      ],
      "metadata": {
        "id": "wU58z-dJ_Dl5"
      },
      "execution_count": null,
      "outputs": []
    },
    {
      "cell_type": "markdown",
      "source": [
        "## **GCN_FN Run Model**"
      ],
      "metadata": {
        "id": "ZlgtR9Uo_JZ0"
      }
    },
    {
      "cell_type": "code",
      "source": [
        "parser = argparse.ArgumentParser()\n",
        "\n",
        "# original model parameters\n",
        "parser.add_argument('--seed', type=int, default=777, help='random seed')\n",
        "parser.add_argument('--device', type=str, default='cpu', help='specify cuda devices')\n",
        "\n",
        "# hyper-parameters\n",
        "parser.add_argument('--dataset', type=str, default='politifact', help='[politifact, gossipcop]')\n",
        "parser.add_argument('--batch_size', type=int, default=128, help='batch size')\n",
        "parser.add_argument('--lr', type=float, default=0.001, help='learning rate')\n",
        "parser.add_argument('--weight_decay', type=float, default=0.01, help='weight decay')\n",
        "parser.add_argument('--nhid', type=int, default=128, help='hidden size')\n",
        "parser.add_argument('--epochs', type=int, default=50, help='maximum number of epochs')\n",
        "parser.add_argument('--concat', type=bool, default=False, help='whether concat news embedding and graph embedding')\n",
        "parser.add_argument('--multi_gpu', type=bool, default=False, help='multi-gpu mode')\n",
        "parser.add_argument('--feature', type=str, default='spacy', help='feature type, [profile, spacy, bert, content]')\n",
        "\n",
        "args, _ = parser.parse_known_args()\n",
        "torch.manual_seed(args.seed)\n",
        "if torch.cuda.is_available():\n",
        "\ttorch.cuda.manual_seed(args.seed)\n",
        "\n",
        "dataset = FNNDataset(root='/content/drive/MyDrive', feature=args.feature, empty=False, name=args.dataset, transform=ToUndirected())\n",
        "\n",
        "args.num_classes = dataset.num_classes\n",
        "args.num_features = dataset.num_features\n",
        "\n",
        "print(args)\n",
        "\n",
        "num_training = int(len(dataset) * 0.2)\n",
        "num_val = int(len(dataset) * 0.1)\n",
        "num_test = len(dataset) - (num_training + num_val)\n",
        "training_set, validation_set, test_set = random_split(dataset, [num_training, num_val, num_test])\n",
        "\n",
        "if args.multi_gpu:\n",
        "\tloader = DataListLoader\n",
        "else:\n",
        "\tloader = DataLoader\n",
        "\n",
        "train_loader = loader(training_set, batch_size=args.batch_size, shuffle=True)\n",
        "val_loader = loader(validation_set, batch_size=args.batch_size, shuffle=False)\n",
        "test_loader = loader(test_set, batch_size=args.batch_size, shuffle=False)\n",
        "\n",
        "model = Net(concat=args.concat).to(args.device)\n",
        "if args.multi_gpu:\n",
        "\tmodel = DataParallel(model)\n",
        "model = model.to(args.device)\n",
        "optimizer = torch.optim.Adam(model.parameters(), lr=args.lr, weight_decay=args.weight_decay)"
      ],
      "metadata": {
        "colab": {
          "base_uri": "https://localhost:8080/"
        },
        "id": "SiPiEiIl_DcN",
        "outputId": "09ab4db3-59fd-411e-d3b6-43f45188e2d9"
      },
      "execution_count": null,
      "outputs": [
        {
          "output_type": "stream",
          "name": "stdout",
          "text": [
            "Namespace(seed=777, device='cpu', dataset='politifact', batch_size=128, lr=0.001, weight_decay=0.01, nhid=128, epochs=50, concat=False, multi_gpu=False, feature='spacy', num_classes=2, num_features=300)\n"
          ]
        },
        {
          "output_type": "stream",
          "name": "stderr",
          "text": [
            "/usr/local/lib/python3.10/dist-packages/torch_geometric/deprecation.py:26: UserWarning: 'data.DataLoader' is deprecated, use 'loader.DataLoader' instead\n",
            "  warnings.warn(out)\n"
          ]
        }
      ]
    },
    {
      "cell_type": "code",
      "source": [
        "# Model training\n",
        "t = time.time()\n",
        "model.train()\n",
        "for epoch in tqdm(range(args.epochs)):\n",
        "\tout_log = []\n",
        "\tloss_train = 0.0\n",
        "\tfor i, data in enumerate(train_loader):\n",
        "\t\toptimizer.zero_grad()\n",
        "\t\tif not args.multi_gpu:\n",
        "\t\t\tdata = data.to(args.device)\n",
        "\t\tout = model(data)\n",
        "\t\tif args.multi_gpu:\n",
        "\t\t\ty = torch.cat([d.y.unsqueeze(0) for d in data]).squeeze().to(out.device)\n",
        "\t\telse:\n",
        "\t\t\ty = data.y\n",
        "\t\tloss = F.nll_loss(out, y)\n",
        "\t\tloss.backward()\n",
        "\t\toptimizer.step()\n",
        "\t\tloss_train += loss.item()\n",
        "\t\tout_log.append([F.softmax(out, dim=1), y])\n",
        "\tacc_train, _, _, _, recall_train, auc_train, _ = eval_deep(out_log, train_loader)\n",
        "\t[acc_val, _, _, _, recall_val, auc_val, _], loss_val = compute_test(val_loader)\n",
        "\tprint(f'loss_train: {loss_train:.4f}, acc_train: {acc_train:.4f},'\n",
        "\t\t\t  f' recall_train: {recall_train:.4f}, auc_train: {auc_train:.4f},'\n",
        "\t\t\t  f' loss_val: {loss_val:.4f}, acc_val: {acc_val:.4f},'\n",
        "\t\t\t  f' recall_val: {recall_val:.4f}, auc_val: {auc_val:.4f}')\n",
        "\n",
        "[acc, f1_macro, f1_micro, precision, recall, auc, ap], test_loss = compute_test(test_loader, verbose=False)\n",
        "print(f'Test set results: acc: {acc:.4f}, f1_macro: {f1_macro:.4f}, f1_micro: {f1_micro:.4f}, '\n",
        "\t\t  f'precision: {precision:.4f}, recall: {recall:.4f}, auc: {auc:.4f}, ap: {ap:.4f}')\n",
        "acc_GCN_FN = acc\n",
        "f1_GCN_FN = f1_micro\n",
        "auc_GCN_FN = auc"
      ],
      "metadata": {
        "colab": {
          "base_uri": "https://localhost:8080/"
        },
        "id": "p0TPttex_DXp",
        "outputId": "754b2b9f-e59b-4b7d-823e-71606e5e1c1a"
      },
      "execution_count": null,
      "outputs": [
        {
          "output_type": "stream",
          "name": "stderr",
          "text": [
            "  2%|▏         | 1/50 [00:00<00:26,  1.87it/s]"
          ]
        },
        {
          "output_type": "stream",
          "name": "stdout",
          "text": [
            "loss_train: 0.6980, acc_train: 0.4355, recall_train: 0.2308, auc_train: 0.4263, loss_val: 0.8374, acc_val: 0.4194, recall_val: 0.0000, auc_val: 0.5641\n"
          ]
        },
        {
          "output_type": "stream",
          "name": "stderr",
          "text": [
            "\r  4%|▍         | 2/50 [00:01<00:25,  1.85it/s]"
          ]
        },
        {
          "output_type": "stream",
          "name": "stdout",
          "text": [
            "loss_train: 0.7037, acc_train: 0.5806, recall_train: 0.0000, auc_train: 0.6271, loss_val: 0.7363, acc_val: 0.4194, recall_val: 0.0000, auc_val: 0.7607\n"
          ]
        },
        {
          "output_type": "stream",
          "name": "stderr",
          "text": [
            "\r  6%|▌         | 3/50 [00:01<00:24,  1.88it/s]"
          ]
        },
        {
          "output_type": "stream",
          "name": "stdout",
          "text": [
            "loss_train: 0.6684, acc_train: 0.5806, recall_train: 0.0000, auc_train: 0.7778, loss_val: 0.6763, acc_val: 0.5484, recall_val: 0.3333, auc_val: 0.8419\n"
          ]
        },
        {
          "output_type": "stream",
          "name": "stderr",
          "text": [
            "\r  8%|▊         | 4/50 [00:02<00:25,  1.83it/s]"
          ]
        },
        {
          "output_type": "stream",
          "name": "stdout",
          "text": [
            "loss_train: 0.6701, acc_train: 0.8065, recall_train: 0.5385, auc_train: 0.9145, loss_val: 0.6719, acc_val: 0.4839, recall_val: 0.1111, auc_val: 0.8590\n"
          ]
        },
        {
          "output_type": "stream",
          "name": "stderr",
          "text": [
            "\r 10%|█         | 5/50 [00:02<00:24,  1.84it/s]"
          ]
        },
        {
          "output_type": "stream",
          "name": "stdout",
          "text": [
            "loss_train: 0.6609, acc_train: 0.6935, recall_train: 0.2692, auc_train: 0.9220, loss_val: 0.6993, acc_val: 0.4194, recall_val: 0.0000, auc_val: 0.8462\n"
          ]
        },
        {
          "output_type": "stream",
          "name": "stderr",
          "text": [
            "\r 12%|█▏        | 6/50 [00:03<00:23,  1.87it/s]"
          ]
        },
        {
          "output_type": "stream",
          "name": "stdout",
          "text": [
            "loss_train: 0.6466, acc_train: 0.5968, recall_train: 0.0385, auc_train: 0.9081, loss_val: 0.7298, acc_val: 0.4194, recall_val: 0.0000, auc_val: 0.8462\n"
          ]
        },
        {
          "output_type": "stream",
          "name": "stderr",
          "text": [
            "\r 14%|█▍        | 7/50 [00:03<00:22,  1.93it/s]"
          ]
        },
        {
          "output_type": "stream",
          "name": "stdout",
          "text": [
            "loss_train: 0.6456, acc_train: 0.5806, recall_train: 0.0000, auc_train: 0.9028, loss_val: 0.7155, acc_val: 0.4194, recall_val: 0.0000, auc_val: 0.8718\n"
          ]
        },
        {
          "output_type": "stream",
          "name": "stderr",
          "text": [
            "\r 16%|█▌        | 8/50 [00:04<00:19,  2.12it/s]"
          ]
        },
        {
          "output_type": "stream",
          "name": "stdout",
          "text": [
            "loss_train: 0.6358, acc_train: 0.5968, recall_train: 0.0385, auc_train: 0.9156, loss_val: 0.6691, acc_val: 0.4194, recall_val: 0.0000, auc_val: 0.8803\n"
          ]
        },
        {
          "output_type": "stream",
          "name": "stderr",
          "text": [
            "\r 18%|█▊        | 9/50 [00:04<00:18,  2.26it/s]"
          ]
        },
        {
          "output_type": "stream",
          "name": "stdout",
          "text": [
            "loss_train: 0.6222, acc_train: 0.5968, recall_train: 0.0385, auc_train: 0.9209, loss_val: 0.6356, acc_val: 0.7097, recall_val: 0.5556, auc_val: 0.8932\n"
          ]
        },
        {
          "output_type": "stream",
          "name": "stderr",
          "text": [
            "\r 20%|██        | 10/50 [00:04<00:17,  2.34it/s]"
          ]
        },
        {
          "output_type": "stream",
          "name": "stdout",
          "text": [
            "loss_train: 0.6176, acc_train: 0.8226, recall_train: 0.6538, auc_train: 0.9231, loss_val: 0.6287, acc_val: 0.6452, recall_val: 0.4444, auc_val: 0.8932\n"
          ]
        },
        {
          "output_type": "stream",
          "name": "stderr",
          "text": [
            "\r 22%|██▏       | 11/50 [00:05<00:16,  2.38it/s]"
          ]
        },
        {
          "output_type": "stream",
          "name": "stdout",
          "text": [
            "loss_train: 0.6042, acc_train: 0.8065, recall_train: 0.6154, auc_train: 0.9231, loss_val: 0.6481, acc_val: 0.4516, recall_val: 0.0556, auc_val: 0.8932\n"
          ]
        },
        {
          "output_type": "stream",
          "name": "stderr",
          "text": [
            "\r 24%|██▍       | 12/50 [00:05<00:15,  2.41it/s]"
          ]
        },
        {
          "output_type": "stream",
          "name": "stdout",
          "text": [
            "loss_train: 0.5899, acc_train: 0.6129, recall_train: 0.0769, auc_train: 0.9188, loss_val: 0.6550, acc_val: 0.4516, recall_val: 0.0556, auc_val: 0.8932\n"
          ]
        },
        {
          "output_type": "stream",
          "name": "stderr",
          "text": [
            "\r 26%|██▌       | 13/50 [00:06<00:15,  2.40it/s]"
          ]
        },
        {
          "output_type": "stream",
          "name": "stdout",
          "text": [
            "loss_train: 0.5798, acc_train: 0.5968, recall_train: 0.0385, auc_train: 0.9199, loss_val: 0.6145, acc_val: 0.6452, recall_val: 0.3889, auc_val: 0.8974\n"
          ]
        },
        {
          "output_type": "stream",
          "name": "stderr",
          "text": [
            "\r 28%|██▊       | 14/50 [00:06<00:15,  2.39it/s]"
          ]
        },
        {
          "output_type": "stream",
          "name": "stdout",
          "text": [
            "loss_train: 0.5616, acc_train: 0.7581, recall_train: 0.4615, auc_train: 0.9199, loss_val: 0.5738, acc_val: 0.7742, recall_val: 0.7222, auc_val: 0.8932\n"
          ]
        },
        {
          "output_type": "stream",
          "name": "stderr",
          "text": [
            "\r 30%|███       | 15/50 [00:06<00:14,  2.36it/s]"
          ]
        },
        {
          "output_type": "stream",
          "name": "stdout",
          "text": [
            "loss_train: 0.5490, acc_train: 0.8710, recall_train: 0.8846, auc_train: 0.9263, loss_val: 0.5686, acc_val: 0.7419, recall_val: 0.6111, auc_val: 0.8974\n"
          ]
        },
        {
          "output_type": "stream",
          "name": "stderr",
          "text": [
            "\r 32%|███▏      | 16/50 [00:07<00:14,  2.35it/s]"
          ]
        },
        {
          "output_type": "stream",
          "name": "stdout",
          "text": [
            "loss_train: 0.5280, acc_train: 0.8548, recall_train: 0.7308, auc_train: 0.9284, loss_val: 0.5850, acc_val: 0.6129, recall_val: 0.3889, auc_val: 0.8932\n"
          ]
        },
        {
          "output_type": "stream",
          "name": "stderr",
          "text": [
            "\r 34%|███▍      | 17/50 [00:07<00:14,  2.34it/s]"
          ]
        },
        {
          "output_type": "stream",
          "name": "stdout",
          "text": [
            "loss_train: 0.5110, acc_train: 0.8065, recall_train: 0.5769, auc_train: 0.9263, loss_val: 0.5420, acc_val: 0.7419, recall_val: 0.6111, auc_val: 0.8932\n"
          ]
        },
        {
          "output_type": "stream",
          "name": "stderr",
          "text": [
            "\r 36%|███▌      | 18/50 [00:08<00:13,  2.34it/s]"
          ]
        },
        {
          "output_type": "stream",
          "name": "stdout",
          "text": [
            "loss_train: 0.4875, acc_train: 0.8387, recall_train: 0.7308, auc_train: 0.9295, loss_val: 0.5027, acc_val: 0.7742, recall_val: 0.7778, auc_val: 0.8889\n"
          ]
        },
        {
          "output_type": "stream",
          "name": "stderr",
          "text": [
            "\r 38%|███▊      | 19/50 [00:08<00:13,  2.36it/s]"
          ]
        },
        {
          "output_type": "stream",
          "name": "stdout",
          "text": [
            "loss_train: 0.4708, acc_train: 0.8548, recall_train: 0.8846, auc_train: 0.9295, loss_val: 0.5222, acc_val: 0.7419, recall_val: 0.6111, auc_val: 0.8889\n"
          ]
        },
        {
          "output_type": "stream",
          "name": "stderr",
          "text": [
            "\r 40%|████      | 20/50 [00:09<00:13,  2.21it/s]"
          ]
        },
        {
          "output_type": "stream",
          "name": "stdout",
          "text": [
            "loss_train: 0.4488, acc_train: 0.8548, recall_train: 0.7308, auc_train: 0.9316, loss_val: 0.5029, acc_val: 0.7419, recall_val: 0.6111, auc_val: 0.8974\n"
          ]
        },
        {
          "output_type": "stream",
          "name": "stderr",
          "text": [
            "\r 42%|████▏     | 21/50 [00:09<00:15,  1.88it/s]"
          ]
        },
        {
          "output_type": "stream",
          "name": "stdout",
          "text": [
            "loss_train: 0.4283, acc_train: 0.8548, recall_train: 0.7692, auc_train: 0.9327, loss_val: 0.4551, acc_val: 0.7742, recall_val: 0.7778, auc_val: 0.8974\n"
          ]
        },
        {
          "output_type": "stream",
          "name": "stderr",
          "text": [
            "\r 44%|████▍     | 22/50 [00:10<00:14,  1.97it/s]"
          ]
        },
        {
          "output_type": "stream",
          "name": "stdout",
          "text": [
            "loss_train: 0.4116, acc_train: 0.8548, recall_train: 0.8846, auc_train: 0.9391, loss_val: 0.4912, acc_val: 0.7419, recall_val: 0.6111, auc_val: 0.8974\n"
          ]
        },
        {
          "output_type": "stream",
          "name": "stderr",
          "text": [
            "\r 46%|████▌     | 23/50 [00:10<00:12,  2.12it/s]"
          ]
        },
        {
          "output_type": "stream",
          "name": "stdout",
          "text": [
            "loss_train: 0.3915, acc_train: 0.8387, recall_train: 0.7308, auc_train: 0.9402, loss_val: 0.4412, acc_val: 0.8065, recall_val: 0.7222, auc_val: 0.9017\n"
          ]
        },
        {
          "output_type": "stream",
          "name": "stderr",
          "text": [
            "\r 48%|████▊     | 24/50 [00:11<00:11,  2.23it/s]"
          ]
        },
        {
          "output_type": "stream",
          "name": "stdout",
          "text": [
            "loss_train: 0.3698, acc_train: 0.8710, recall_train: 0.8462, auc_train: 0.9423, loss_val: 0.4371, acc_val: 0.8065, recall_val: 0.7222, auc_val: 0.9017\n"
          ]
        },
        {
          "output_type": "stream",
          "name": "stderr",
          "text": [
            "\r 50%|█████     | 25/50 [00:11<00:11,  2.27it/s]"
          ]
        },
        {
          "output_type": "stream",
          "name": "stdout",
          "text": [
            "loss_train: 0.3510, acc_train: 0.8710, recall_train: 0.8462, auc_train: 0.9444, loss_val: 0.4556, acc_val: 0.8065, recall_val: 0.7222, auc_val: 0.9060\n"
          ]
        },
        {
          "output_type": "stream",
          "name": "stderr",
          "text": [
            "\r 52%|█████▏    | 26/50 [00:11<00:10,  2.32it/s]"
          ]
        },
        {
          "output_type": "stream",
          "name": "stdout",
          "text": [
            "loss_train: 0.3357, acc_train: 0.8871, recall_train: 0.8077, auc_train: 0.9476, loss_val: 0.3918, acc_val: 0.8065, recall_val: 0.8333, auc_val: 0.9103\n"
          ]
        },
        {
          "output_type": "stream",
          "name": "stderr",
          "text": [
            "\r 54%|█████▍    | 27/50 [00:12<00:10,  2.24it/s]"
          ]
        },
        {
          "output_type": "stream",
          "name": "stdout",
          "text": [
            "loss_train: 0.3275, acc_train: 0.8387, recall_train: 0.8846, auc_train: 0.9487, loss_val: 0.5162, acc_val: 0.7097, recall_val: 0.5556, auc_val: 0.9103\n"
          ]
        },
        {
          "output_type": "stream",
          "name": "stderr",
          "text": [
            "\r 56%|█████▌    | 28/50 [00:12<00:10,  2.15it/s]"
          ]
        },
        {
          "output_type": "stream",
          "name": "stdout",
          "text": [
            "loss_train: 0.3275, acc_train: 0.8871, recall_train: 0.7308, auc_train: 0.9530, loss_val: 0.3740, acc_val: 0.8387, recall_val: 0.8889, auc_val: 0.9103\n"
          ]
        },
        {
          "output_type": "stream",
          "name": "stderr",
          "text": [
            "\r 58%|█████▊    | 29/50 [00:13<00:09,  2.12it/s]"
          ]
        },
        {
          "output_type": "stream",
          "name": "stdout",
          "text": [
            "loss_train: 0.3089, acc_train: 0.8226, recall_train: 0.8846, auc_train: 0.9541, loss_val: 0.4109, acc_val: 0.8065, recall_val: 0.7222, auc_val: 0.9145\n"
          ]
        },
        {
          "output_type": "stream",
          "name": "stderr",
          "text": [
            "\r 60%|██████    | 30/50 [00:13<00:09,  2.02it/s]"
          ]
        },
        {
          "output_type": "stream",
          "name": "stdout",
          "text": [
            "loss_train: 0.2759, acc_train: 0.9032, recall_train: 0.8462, auc_train: 0.9573, loss_val: 0.4794, acc_val: 0.7419, recall_val: 0.6111, auc_val: 0.9145\n"
          ]
        },
        {
          "output_type": "stream",
          "name": "stderr",
          "text": [
            "\r 62%|██████▏   | 31/50 [00:14<00:09,  1.99it/s]"
          ]
        },
        {
          "output_type": "stream",
          "name": "stdout",
          "text": [
            "loss_train: 0.2807, acc_train: 0.8548, recall_train: 0.7308, auc_train: 0.9605, loss_val: 0.3626, acc_val: 0.8387, recall_val: 0.8889, auc_val: 0.9145\n"
          ]
        },
        {
          "output_type": "stream",
          "name": "stderr",
          "text": [
            "\r 64%|██████▍   | 32/50 [00:15<00:09,  1.92it/s]"
          ]
        },
        {
          "output_type": "stream",
          "name": "stdout",
          "text": [
            "loss_train: 0.2707, acc_train: 0.8710, recall_train: 0.9231, auc_train: 0.9669, loss_val: 0.3989, acc_val: 0.8065, recall_val: 0.7778, auc_val: 0.9145\n"
          ]
        },
        {
          "output_type": "stream",
          "name": "stderr",
          "text": [
            "\r 66%|██████▌   | 33/50 [00:15<00:08,  1.94it/s]"
          ]
        },
        {
          "output_type": "stream",
          "name": "stdout",
          "text": [
            "loss_train: 0.2397, acc_train: 0.9032, recall_train: 0.8462, auc_train: 0.9712, loss_val: 0.4557, acc_val: 0.8065, recall_val: 0.7222, auc_val: 0.9145\n"
          ]
        },
        {
          "output_type": "stream",
          "name": "stderr",
          "text": [
            "\r 68%|██████▊   | 34/50 [00:16<00:08,  1.95it/s]"
          ]
        },
        {
          "output_type": "stream",
          "name": "stdout",
          "text": [
            "loss_train: 0.2424, acc_train: 0.9032, recall_train: 0.8077, auc_train: 0.9722, loss_val: 0.3526, acc_val: 0.8387, recall_val: 0.8889, auc_val: 0.9231\n"
          ]
        },
        {
          "output_type": "stream",
          "name": "stderr",
          "text": [
            "\r 70%|███████   | 35/50 [00:16<00:07,  1.95it/s]"
          ]
        },
        {
          "output_type": "stream",
          "name": "stdout",
          "text": [
            "loss_train: 0.2314, acc_train: 0.9194, recall_train: 0.9231, auc_train: 0.9776, loss_val: 0.3817, acc_val: 0.8065, recall_val: 0.7778, auc_val: 0.9231\n"
          ]
        },
        {
          "output_type": "stream",
          "name": "stderr",
          "text": [
            "\r 72%|███████▏  | 36/50 [00:17<00:07,  1.98it/s]"
          ]
        },
        {
          "output_type": "stream",
          "name": "stdout",
          "text": [
            "loss_train: 0.2056, acc_train: 0.9194, recall_train: 0.8846, auc_train: 0.9797, loss_val: 0.4310, acc_val: 0.8065, recall_val: 0.7222, auc_val: 0.9231\n"
          ]
        },
        {
          "output_type": "stream",
          "name": "stderr",
          "text": [
            "\r 74%|███████▍  | 37/50 [00:17<00:05,  2.20it/s]"
          ]
        },
        {
          "output_type": "stream",
          "name": "stdout",
          "text": [
            "loss_train: 0.2059, acc_train: 0.9032, recall_train: 0.8077, auc_train: 0.9861, loss_val: 0.3387, acc_val: 0.8710, recall_val: 0.8889, auc_val: 0.9231\n"
          ]
        },
        {
          "output_type": "stream",
          "name": "stderr",
          "text": [
            "\r 76%|███████▌  | 38/50 [00:17<00:05,  2.36it/s]"
          ]
        },
        {
          "output_type": "stream",
          "name": "stdout",
          "text": [
            "loss_train: 0.1966, acc_train: 0.9355, recall_train: 0.9615, auc_train: 0.9893, loss_val: 0.3733, acc_val: 0.8065, recall_val: 0.7778, auc_val: 0.9274\n"
          ]
        },
        {
          "output_type": "stream",
          "name": "stderr",
          "text": [
            "\r 78%|███████▊  | 39/50 [00:18<00:04,  2.44it/s]"
          ]
        },
        {
          "output_type": "stream",
          "name": "stdout",
          "text": [
            "loss_train: 0.1740, acc_train: 0.9516, recall_train: 0.9231, auc_train: 0.9904, loss_val: 0.3988, acc_val: 0.8065, recall_val: 0.7222, auc_val: 0.9316\n"
          ]
        },
        {
          "output_type": "stream",
          "name": "stderr",
          "text": [
            "\r 80%|████████  | 40/50 [00:18<00:03,  2.56it/s]"
          ]
        },
        {
          "output_type": "stream",
          "name": "stdout",
          "text": [
            "loss_train: 0.1698, acc_train: 0.9355, recall_train: 0.8846, auc_train: 0.9925, loss_val: 0.3225, acc_val: 0.8710, recall_val: 0.8889, auc_val: 0.9402\n"
          ]
        },
        {
          "output_type": "stream",
          "name": "stderr",
          "text": [
            "\r 82%|████████▏ | 41/50 [00:18<00:03,  2.61it/s]"
          ]
        },
        {
          "output_type": "stream",
          "name": "stdout",
          "text": [
            "loss_train: 0.1669, acc_train: 0.9355, recall_train: 0.9615, auc_train: 0.9925, loss_val: 0.3791, acc_val: 0.8065, recall_val: 0.7222, auc_val: 0.9402\n"
          ]
        },
        {
          "output_type": "stream",
          "name": "stderr",
          "text": [
            "\r 84%|████████▍ | 42/50 [00:19<00:03,  2.60it/s]"
          ]
        },
        {
          "output_type": "stream",
          "name": "stdout",
          "text": [
            "loss_train: 0.1492, acc_train: 0.9516, recall_train: 0.9231, auc_train: 0.9925, loss_val: 0.3575, acc_val: 0.8065, recall_val: 0.7778, auc_val: 0.9402\n"
          ]
        },
        {
          "output_type": "stream",
          "name": "stderr",
          "text": [
            "\r 86%|████████▌ | 43/50 [00:19<00:02,  2.61it/s]"
          ]
        },
        {
          "output_type": "stream",
          "name": "stdout",
          "text": [
            "loss_train: 0.1382, acc_train: 0.9677, recall_train: 0.9615, auc_train: 0.9936, loss_val: 0.3097, acc_val: 0.8710, recall_val: 0.8889, auc_val: 0.9402\n"
          ]
        },
        {
          "output_type": "stream",
          "name": "stderr",
          "text": [
            "\r 88%|████████▊ | 44/50 [00:20<00:02,  2.60it/s]"
          ]
        },
        {
          "output_type": "stream",
          "name": "stdout",
          "text": [
            "loss_train: 0.1389, acc_train: 0.9516, recall_train: 0.9615, auc_train: 0.9947, loss_val: 0.3930, acc_val: 0.8065, recall_val: 0.7222, auc_val: 0.9402\n"
          ]
        },
        {
          "output_type": "stream",
          "name": "stderr",
          "text": [
            "\r 90%|█████████ | 45/50 [00:20<00:01,  2.60it/s]"
          ]
        },
        {
          "output_type": "stream",
          "name": "stdout",
          "text": [
            "loss_train: 0.1320, acc_train: 0.9516, recall_train: 0.9231, auc_train: 0.9968, loss_val: 0.3184, acc_val: 0.8387, recall_val: 0.8333, auc_val: 0.9359\n"
          ]
        },
        {
          "output_type": "stream",
          "name": "stderr",
          "text": [
            "\r 92%|█████████▏| 46/50 [00:20<00:01,  2.57it/s]"
          ]
        },
        {
          "output_type": "stream",
          "name": "stdout",
          "text": [
            "loss_train: 0.1174, acc_train: 0.9677, recall_train: 0.9615, auc_train: 0.9968, loss_val: 0.3106, acc_val: 0.8710, recall_val: 0.8889, auc_val: 0.9359\n"
          ]
        },
        {
          "output_type": "stream",
          "name": "stderr",
          "text": [
            "\r 94%|█████████▍| 47/50 [00:21<00:01,  2.57it/s]"
          ]
        },
        {
          "output_type": "stream",
          "name": "stdout",
          "text": [
            "loss_train: 0.1124, acc_train: 0.9677, recall_train: 0.9615, auc_train: 0.9979, loss_val: 0.3865, acc_val: 0.8065, recall_val: 0.7222, auc_val: 0.9402\n"
          ]
        },
        {
          "output_type": "stream",
          "name": "stderr",
          "text": [
            "\r 96%|█████████▌| 48/50 [00:21<00:00,  2.54it/s]"
          ]
        },
        {
          "output_type": "stream",
          "name": "stdout",
          "text": [
            "loss_train: 0.1130, acc_train: 0.9516, recall_train: 0.9231, auc_train: 0.9979, loss_val: 0.2976, acc_val: 0.8710, recall_val: 0.8889, auc_val: 0.9444\n"
          ]
        },
        {
          "output_type": "stream",
          "name": "stderr",
          "text": [
            "\r 98%|█████████▊| 49/50 [00:21<00:00,  2.51it/s]"
          ]
        },
        {
          "output_type": "stream",
          "name": "stdout",
          "text": [
            "loss_train: 0.1053, acc_train: 0.9839, recall_train: 1.0000, auc_train: 0.9979, loss_val: 0.3351, acc_val: 0.8387, recall_val: 0.8333, auc_val: 0.9444\n"
          ]
        },
        {
          "output_type": "stream",
          "name": "stderr",
          "text": [
            "100%|██████████| 50/50 [00:22<00:00,  2.23it/s]"
          ]
        },
        {
          "output_type": "stream",
          "name": "stdout",
          "text": [
            "loss_train: 0.0943, acc_train: 0.9516, recall_train: 0.9231, auc_train: 0.9979, loss_val: 0.3584, acc_val: 0.7742, recall_val: 0.7222, auc_val: 0.9444\n"
          ]
        },
        {
          "output_type": "stream",
          "name": "stderr",
          "text": [
            "\n"
          ]
        },
        {
          "output_type": "stream",
          "name": "stdout",
          "text": [
            "Test set results: acc: 0.8371, f1_macro: 0.8347, f1_micro: 0.8371, precision: 0.9002, recall: 0.7658, auc: 0.9081, ap: 0.9284\n"
          ]
        }
      ]
    },
    {
      "cell_type": "markdown",
      "source": [
        "# **Hypergraph Neural Networks**"
      ],
      "metadata": {
        "id": "uftUzDtwAgEA"
      }
    },
    {
      "cell_type": "markdown",
      "source": [
        "## **HGFND Architecture**"
      ],
      "metadata": {
        "id": "ALCHdmAiVZm6"
      }
    },
    {
      "cell_type": "code",
      "source": [
        "import math\n",
        "import torch\n",
        "import torch.nn as nn\n",
        "import torch.nn.functional as F\n",
        "from torch.nn.parameter import Parameter\n",
        "\n",
        "class HyperGraphAttentionLayerSparse(nn.Module):\n",
        "    def __init__(self, in_features, out_features, dropout, alpha, transfer, concat=True, bias=False):\n",
        "        super(HyperGraphAttentionLayerSparse, self).__init__()\n",
        "        self.dropout = dropout\n",
        "        self.in_features = in_features\n",
        "        self.out_features = out_features\n",
        "        self.alpha = alpha\n",
        "        self.concat = concat\n",
        "\n",
        "        self.transfer = transfer\n",
        "\n",
        "        if self.transfer:\n",
        "            self.weight = Parameter(torch.Tensor(self.in_features, self.out_features))\n",
        "        else:\n",
        "            self.register_parameter('weight', None)\n",
        "\n",
        "        self.weight2 = Parameter(torch.Tensor(self.in_features, self.out_features))\n",
        "        self.weight3 = Parameter(torch.Tensor(self.out_features, self.out_features))\n",
        "\n",
        "        if bias:\n",
        "            self.bias = Parameter(torch.Tensor(self.out_features))\n",
        "        else:\n",
        "            self.register_parameter('bias', None)\n",
        "\n",
        "        self.word_context = nn.Embedding(1, self.out_features)\n",
        "\n",
        "        self.a = nn.Parameter(torch.zeros(size=(2 * out_features, 1)))\n",
        "        self.a2 = nn.Parameter(torch.zeros(size=(2 * out_features, 1)))\n",
        "        self.leakyrelu = nn.LeakyReLU(self.alpha)\n",
        "\n",
        "        self.reset_parameters()\n",
        "\n",
        "    def reset_parameters(self):\n",
        "        stdv = 1. / math.sqrt(self.out_features)\n",
        "        if self.weight is not None:\n",
        "            self.weight.data.uniform_(-stdv, stdv)\n",
        "        self.weight2.data.uniform_(-stdv, stdv)\n",
        "        self.weight3.data.uniform_(-stdv, stdv)\n",
        "        if self.bias is not None:\n",
        "            self.bias.data.uniform_(-stdv, stdv)\n",
        "\n",
        "        nn.init.uniform_(self.a.data, -stdv, stdv)\n",
        "        nn.init.uniform_(self.a2.data, -stdv, stdv)\n",
        "        nn.init.uniform_(self.word_context.weight.data, -stdv, stdv)\n",
        "\n",
        "    def forward(self, x, adj):\n",
        "        x_4att = x.matmul(self.weight2)\n",
        "\n",
        "        if self.transfer:\n",
        "            x = x.matmul(self.weight)\n",
        "            if self.bias is not None:\n",
        "                x = x + self.bias\n",
        "\n",
        "        N1 = adj.shape[1]  # number of edge\n",
        "        N2 = adj.shape[2]  # number of node\n",
        "\n",
        "        pair = adj.nonzero().t()\n",
        "\n",
        "        get = lambda i: x_4att[i][adj[i].nonzero().t()[1]]\n",
        "        x1 = torch.cat([get(i) for i in torch.arange(x.shape[0]).long()])\n",
        "\n",
        "        q1 = self.word_context.weight[0:].view(1, -1).repeat(x1.shape[0], 1).view(x1.shape[0], self.out_features)\n",
        "\n",
        "        pair_h = torch.cat((q1, x1), dim=-1)\n",
        "        pair_e = self.leakyrelu(torch.matmul(pair_h, self.a).squeeze()).t()\n",
        "        assert not torch.isnan(pair_e).any()\n",
        "        pair_e = F.dropout(pair_e, self.dropout, training=self.training)\n",
        "\n",
        "        e = torch.sparse_coo_tensor(pair, pair_e, torch.Size([x.shape[0], N1, N2])).to_dense()\n",
        "\n",
        "        zero_vec = -9e15 * torch.ones_like(e)\n",
        "        attention = torch.where(adj > 0, e, zero_vec)\n",
        "\n",
        "        attention_edge = F.softmax(attention, dim=2)\n",
        "\n",
        "        edge = torch.matmul(attention_edge, x)\n",
        "\n",
        "        edge = F.dropout(edge, self.dropout, training=self.training)\n",
        "\n",
        "        edge_4att = edge.matmul(self.weight3)\n",
        "\n",
        "        get = lambda i: edge_4att[i][adj[i].nonzero().t()[0]]\n",
        "        y1 = torch.cat([get(i) for i in torch.arange(x.shape[0]).long()])\n",
        "\n",
        "        get = lambda i: x_4att[i][adj[i].nonzero().t()[1]]\n",
        "        q1 = torch.cat([get(i) for i in torch.arange(x.shape[0]).long()])\n",
        "\n",
        "        pair_h = torch.cat((q1, y1), dim=-1)\n",
        "        pair_e = self.leakyrelu(torch.matmul(pair_h, self.a2).squeeze()).t()\n",
        "        assert not torch.isnan(pair_e).any()\n",
        "        pair_e = F.dropout(pair_e, self.dropout, training=self.training)\n",
        "\n",
        "        e = torch.sparse_coo_tensor(pair, pair_e, torch.Size([x.shape[0], N1, N2])).to_dense()\n",
        "\n",
        "        zero_vec = -9e15 * torch.ones_like(e)\n",
        "        attention = torch.where(adj > 0, e, zero_vec)\n",
        "\n",
        "        attention_node = F.softmax(attention.transpose(1, 2), dim=2)\n",
        "\n",
        "        node = torch.matmul(attention_node, edge)\n",
        "\n",
        "        if self.concat:\n",
        "            node = F.elu(node)\n",
        "\n",
        "        return node, edge  # edge_4att\n",
        "\n",
        "    def __repr__(self):\n",
        "        return self.__class__.__name__ + ' (' + str(self.in_features) + ' -> ' + str(self.out_features) + ')'"
      ],
      "metadata": {
        "id": "wnQGUv8LA5dT"
      },
      "execution_count": null,
      "outputs": []
    },
    {
      "cell_type": "code",
      "source": [
        "import torch\n",
        "import torch.nn.functional as F\n",
        "import torch.nn as nn\n",
        "from torch.nn import Module\n",
        "from torch_geometric.nn import SAGEConv, global_max_pool\n",
        "# from gnn_model.layers import HyperGraphAttentionLayerSparse\n",
        "import math\n",
        "\n",
        "\n",
        "class PropagationEncoder(nn.Module):\n",
        "    def __init__(self, args, hypergraph_model):\n",
        "        super().__init__()\n",
        "        self.out_channels = args.num_classes\n",
        "        self.hidden_channels = args.hiddenSize\n",
        "        self.in_channels = args.num_features\n",
        "        self.hypergraph_model = hypergraph_model\n",
        "        self.conv1 = SAGEConv(self.in_channels, self.hidden_channels)\n",
        "        self.lin0 = nn.Linear(self.in_channels, self.hidden_channels)\n",
        "        self.lin1 = nn.Linear(2 * self.hidden_channels, self.hidden_channels)\n",
        "        self.cls = nn.Linear(self.hidden_channels, self.out_channels, bias=True)\n",
        "\n",
        "    def forward(self, x, edge_index, HT, batch, slices):\n",
        "        # Get the root node (tweet) features of each graph:\n",
        "        root = (batch[1:] - batch[:-1]).nonzero(as_tuple=False).view(-1)\n",
        "        root = torch.cat([root.new_zeros(1), root + 1], dim=0)\n",
        "        news = x[root]\n",
        "        news = self.lin0(news).relu()\n",
        "\n",
        "        p = self.conv1(x, edge_index).relu()\n",
        "        p = global_max_pool(p, batch)\n",
        "        p = self.lin1(torch.cat([news, p], dim=-1)).relu()\n",
        "\n",
        "        v = p.unsqueeze(0)\n",
        "        v, e = self.hypergraph_model(v, HT)\n",
        "        result = v.squeeze(0)[slices]\n",
        "        return result, e\n",
        "\n",
        "    def compute_scores(self, target):\n",
        "        pred = self.cls(target)\n",
        "        return F.log_softmax(pred, dim=-1)\n",
        "\n",
        "\n",
        "class HGFND(nn.Module):\n",
        "    def __init__(self, args):\n",
        "        super(HGFND, self).__init__()\n",
        "        self.hidden_size = args.hiddenSize\n",
        "        self.out_channels = args.num_classes\n",
        "        self.hypergraph_embedding = NewsHypergraph(args, self.hidden_size, self.out_channels)\n",
        "        self.reset_parameters()\n",
        "\n",
        "    def forward(self, nodes_embedding, HT):\n",
        "        hypergraph_embedding, edge_att = self.hypergraph_embedding(nodes_embedding, HT)\n",
        "        return hypergraph_embedding, edge_att\n",
        "\n",
        "    def reset_parameters(self):\n",
        "        stdv = 1.0 / math.sqrt(self.hidden_size)\n",
        "        for weight in self.parameters():\n",
        "            weight.data.uniform_(-stdv, stdv)\n",
        "\n",
        "\n",
        "class NewsHypergraph(Module):\n",
        "    def __init__(self, args, initialFeatureSize, n_categories):\n",
        "        super(NewsHypergraph, self).__init__()\n",
        "        self.initial_feature = initialFeatureSize\n",
        "        self.hidden_size = args.hiddenSize\n",
        "        self.n_categories = n_categories\n",
        "        self.dropout = args.dropout\n",
        "\n",
        "        self.cls = nn.Linear(self.hidden_size, self.n_categories, bias=True)\n",
        "        self.hgnn = HGNN_ATT(self.initial_feature, self.initial_feature, self.hidden_size, dropout=self.dropout)\n",
        "\n",
        "        self.reset_parameters()\n",
        "\n",
        "    def reset_parameters(self):\n",
        "        stdv = 1.0 / math.sqrt(self.hidden_size)\n",
        "        for weight in self.parameters():\n",
        "            weight.data.uniform_(-stdv, stdv)\n",
        "\n",
        "    def forward(self, nodes, HT):\n",
        "        hypergraph, edge_att = self.hgnn(nodes, HT)  # documents are nodes and inputs\n",
        "        return hypergraph, edge_att\n",
        "\n",
        "class HGNN_ATT(nn.Module):\n",
        "    def __init__(self, input_size, n_hid, output_size, dropout=0.3):\n",
        "        super(HGNN_ATT, self).__init__()\n",
        "        self.dropout = dropout\n",
        "        self.gat1 = HyperGraphAttentionLayerSparse(input_size, n_hid, dropout=self.dropout, alpha=0.2, transfer=False,\n",
        "                                                   concat=True)\n",
        "        self.gat2 = HyperGraphAttentionLayerSparse(n_hid, output_size, dropout=self.dropout, alpha=0.2, transfer=True,\n",
        "                                                   concat=False)\n",
        "\n",
        "    def forward(self, x, H):\n",
        "        x, e = self.gat1(x, H)\n",
        "        x = F.dropout(x, self.dropout, training=self.training)\n",
        "\n",
        "        x, e = self.gat2(x, H)\n",
        "\n",
        "        return x, e"
      ],
      "metadata": {
        "id": "sJutFkbPA9aF"
      },
      "execution_count": null,
      "outputs": []
    },
    {
      "cell_type": "code",
      "source": [
        "import numpy as np\n",
        "import scipy.sparse as sp\n",
        "import torch\n",
        "import pickle\n",
        "\n",
        "\n",
        "class Hypergraph:\n",
        "    def __init__(self, opt):\n",
        "        self.dataset = opt.dataset\n",
        "\n",
        "\n",
        "    def get_hyperedges(self):\n",
        "        dirname = \"/content/drive/MyDrive/\"\n",
        "        if self.dataset == \"politifact\":\n",
        "            filename = \"hypergraph_politifact.pkl\"\n",
        "        elif self.dataset == \"gossipcop\":\n",
        "            filename = \"hypergraph_gossipcop.pkl\"\n",
        "\n",
        "        with open(dirname + filename, 'rb') as handle:\n",
        "            result = pickle.load(handle)\n",
        "\n",
        "        return result\n",
        "\n",
        "\n",
        "\n",
        "    def get_adj_matrix(self, hyperedges, nodes_seq):\n",
        "        items, n_node, HT, alias_inputs, node_masks, node_dic = [], [], [], [], [], []\n",
        "\n",
        "        node_list = nodes_seq\n",
        "        node_set = list(set(node_list))\n",
        "        node_dic = {node_set[i]: i for i in range(len(node_set))}\n",
        "\n",
        "        rows = []\n",
        "        cols = []\n",
        "        vals = []\n",
        "        max_n_node = len(node_set)\n",
        "        max_n_edge = len(hyperedges)\n",
        "        total_num_node = len(node_set)\n",
        "\n",
        "        # num_hypergraphs can be used for batching different size of hypergraphs for training\n",
        "        num_hypergraphs = 1\n",
        "        for idx in range(num_hypergraphs):\n",
        "            for hyperedge_seq, hyperedge in enumerate(hyperedges):\n",
        "                for node_id in hyperedge:\n",
        "                    rows.append(node_dic[node_id])\n",
        "                    cols.append(hyperedge_seq)\n",
        "                    vals.append(1)\n",
        "            u_H = sp.coo_matrix((vals, (rows, cols)), shape=(max_n_node, max_n_edge))\n",
        "            HT.append(np.asarray(u_H.T.todense()))\n",
        "            alias_inputs.append([j for j in range(max_n_node)])\n",
        "            node_masks.append([1 for j in range(total_num_node)] + (max_n_node - total_num_node) * [0])\n",
        "\n",
        "        return alias_inputs, HT, node_masks"
      ],
      "metadata": {
        "id": "F_keg8b9ZjqG"
      },
      "execution_count": null,
      "outputs": []
    },
    {
      "cell_type": "markdown",
      "source": [
        "## **HGFND Run Model**"
      ],
      "metadata": {
        "id": "oHiQaxeDVMuN"
      }
    },
    {
      "cell_type": "code",
      "source": [
        "import argparse\n",
        "import copy\n",
        "\n",
        "from torch.utils.data import random_split\n",
        "import torch.nn.functional as F\n",
        "from torch_geometric.data import DataLoader\n",
        "\n",
        "from sklearn import metrics\n",
        "# from utils.hypergraph import Hypergraph\n",
        "# from gnn_model.model import HGFND, PropagationEncoder\n",
        "# from utils.data_loader import *\n",
        "import warnings\n",
        "\n",
        "warnings.filterwarnings('ignore')\n",
        "device = torch.device('cuda' if torch.cuda.is_available() else 'cpu')\n",
        "\n",
        "parser = argparse.ArgumentParser()\n",
        "parser.add_argument('--dataset', type=str, default='politifact',\n",
        "                    choices=['politifact', 'gossipcop'])\n",
        "parser.add_argument('--hiddenSize', type=int, default=128, help='hidden state size for propagation encoding')\n",
        "parser.add_argument('--dropout', type=float, default=0.3, help='dropout rate')\n",
        "parser.add_argument('--lr', type=float, default=0.001, help='learning rate')\n",
        "parser.add_argument('--weight_decay', type=float, default=0.01, help='weight_decay penalty')\n",
        "parser.add_argument('--batchSize', type=int, default=128, help='input batch size')\n",
        "parser.add_argument('--epoch', type=int, default=200, help='epoch size')\n",
        "parser.add_argument('--shuffle', type=bool, default=True, help='shuffling training index')\n",
        "parser.add_argument('--seed', type=int, default=777, help='random seed')\n",
        "\n",
        "# args = parser.parse_args()\n",
        "args, _ = parser.parse_known_args()\n",
        "print(args)\n",
        "\n",
        "torch.manual_seed(args.seed)\n",
        "if torch.cuda.is_available():\n",
        "    torch.cuda.manual_seed(args.seed)\n",
        "\n",
        "dataset = FNNDataset(root='/content/drive/MyDrive', feature=\"bert\", empty=False, name=args.dataset, transform=ToUndirected())\n",
        "\n",
        "args.num_classes = dataset.num_classes\n",
        "args.num_features = dataset.num_features\n",
        "\n",
        "num_train = int(len(dataset) * 0.2)\n",
        "num_val = int(len(dataset) * 0.1)\n",
        "num_test = len(dataset) - (num_train + num_val)\n",
        "training_set, validation_set, test_set = random_split(dataset, [num_train, num_val, num_test])\n",
        "\n",
        "loader = DataLoader\n",
        "\n",
        "all_loader = loader(dataset, batch_size=len(dataset), shuffle=False)\n",
        "train_loader = loader(training_set, batch_size=args.batchSize, shuffle=True)\n",
        "val_loader = loader(validation_set, batch_size=args.batchSize, shuffle=False)\n",
        "test_loader = loader(test_set, batch_size=args.batchSize, shuffle=False)\n",
        "\n",
        "all_dataset = all_loader.dataset\n",
        "train_dataset = train_loader.dataset\n",
        "val_dataset = val_loader.dataset\n",
        "test_dataset = test_loader.dataset\n",
        "\n",
        "for data in all_loader:\n",
        "    data = data.to(device)\n",
        "    data_batch = data.batch\n",
        "    data_edge_index = data.edge_index\n",
        "    data_nodes = data.x\n",
        "    data_labels = data.y\n",
        "\n",
        "train_idx = train_dataset.indices\n",
        "num_train = len(train_idx)\n",
        "val_idx = val_dataset.indices\n",
        "test_idx = test_dataset.indices\n",
        "nodes_seq = np.arange(len(data_labels))\n",
        "\n",
        "builder = Hypergraph(args)\n",
        "hypergraph = builder.get_hyperedges()\n",
        "alias_inputs, HT, node_masks = builder.get_adj_matrix(hypergraph, nodes_seq)\n",
        "\n",
        "HT = torch.Tensor(np.array(HT)).float().to(device)\n",
        "\n",
        "hypergraph_model = HGFND(args)\n",
        "model = PropagationEncoder(args, hypergraph_model).to(device)\n",
        "optimizer = torch.optim.Adam(model.parameters(), lr=args.lr, weight_decay=args.weight_decay)\n",
        "\n",
        "\n",
        "def train(train_idx):\n",
        "    model.train()\n",
        "\n",
        "    total_loss = 0\n",
        "    for idx in range(0, num_train, args.batchSize):\n",
        "        slices = train_idx[idx:min(idx + args.batchSize, num_train)]\n",
        "        optimizer.zero_grad()\n",
        "        out, _ = model(data_nodes, data_edge_index, HT, data_batch, slices)\n",
        "        scores = model.compute_scores(out)\n",
        "        labels = data_labels[slices]\n",
        "        loss = F.nll_loss(scores, labels)\n",
        "        loss.backward()\n",
        "        optimizer.step()\n",
        "        total_loss += float(loss) * len(slices)\n",
        "\n",
        "    return total_loss / num_train\n",
        "\n",
        "\n",
        "@torch.no_grad()\n",
        "def test(test_idx, verbose=False):\n",
        "    model.eval()\n",
        "\n",
        "    num_samples = len(test_idx)\n",
        "    test_preds = []\n",
        "    out_log = []\n",
        "    for idx in range(0, num_samples, args.batchSize):\n",
        "        slices = test_idx[idx:min(idx + args.batchSize, num_samples)]\n",
        "        output, _ = model(data_nodes, data_edge_index, HT, data_batch, slices)\n",
        "        scores = model.compute_scores(output)\n",
        "        pred = scores.argmax(dim=-1)\n",
        "        test_preds += list(pred.detach().cpu().numpy())\n",
        "        temp_labels = data_labels[slices]\n",
        "        out_log.append([scores, temp_labels.view(-1, 1)])\n",
        "\n",
        "    test_labels = data_labels[test_idx]\n",
        "    test_labels = list(test_labels.detach().cpu().numpy())\n",
        "    acc = metrics.accuracy_score(test_labels, test_preds)\n",
        "    details = []\n",
        "    if verbose:\n",
        "        f1_macro, f1_micro, precision, recall = 0, 0, 0, 0\n",
        "        f1_macro += metrics.f1_score(test_labels, test_preds, average='macro')\n",
        "        f1_micro += metrics.f1_score(test_labels, test_preds, average='micro')\n",
        "        precision += metrics.precision_score(test_labels, test_preds, zero_division=0)\n",
        "        recall += metrics.recall_score(test_labels, test_preds, zero_division=0)\n",
        "        details = [f1_macro, f1_micro, precision, recall]\n",
        "    return acc, details\n",
        "\n",
        "\n",
        "best_val_acc = 0\n",
        "for epoch in range(1, args.epoch):\n",
        "    loss = train(train_idx)\n",
        "    print(f'Epoch: {epoch:02d}, Loss: {loss:.4f}')\n",
        "\n",
        "    val_acc, _ = test(val_idx, verbose=False)\n",
        "    print(f'Val Accuracy: {val_acc:.4f}')\n",
        "    if best_val_acc < val_acc:\n",
        "        best_val_acc = val_acc\n",
        "        state_dict = copy.deepcopy(model.state_dict())\n",
        "\n",
        "print(\"**Loading The Best model on Validation Dataset: \")\n",
        "model.load_state_dict(state_dict)\n",
        "\n",
        "acc, [f1_macro, f1_micro, precision, recall] = test(test_idx, verbose=True)\n",
        "print(\"Test result: \", acc, f1_macro, f1_micro, precision, recall)\n",
        "acc_HGFND = acc\n",
        "f1_HGFND = f1_macro"
      ],
      "metadata": {
        "colab": {
          "base_uri": "https://localhost:8080/"
        },
        "id": "O4DF30uoBC3h",
        "outputId": "95b6e002-97a6-45b0-d71f-a4d564de887f"
      },
      "execution_count": null,
      "outputs": [
        {
          "output_type": "stream",
          "name": "stdout",
          "text": [
            "Namespace(dataset='politifact', hiddenSize=128, dropout=0.3, lr=0.001, weight_decay=0.01, batchSize=128, epoch=200, shuffle=True, seed=777)\n",
            "Epoch: 01, Loss: 0.6905\n",
            "Val Accuracy: 0.4194\n",
            "Epoch: 02, Loss: 0.6801\n",
            "Val Accuracy: 0.4194\n",
            "Epoch: 03, Loss: 0.6773\n",
            "Val Accuracy: 0.4194\n",
            "Epoch: 04, Loss: 0.6803\n",
            "Val Accuracy: 0.4194\n",
            "Epoch: 05, Loss: 0.6788\n",
            "Val Accuracy: 0.4194\n",
            "Epoch: 06, Loss: 0.6779\n",
            "Val Accuracy: 0.4194\n",
            "Epoch: 07, Loss: 0.6751\n",
            "Val Accuracy: 0.4194\n",
            "Epoch: 08, Loss: 0.6746\n",
            "Val Accuracy: 0.4194\n",
            "Epoch: 09, Loss: 0.6741\n",
            "Val Accuracy: 0.4194\n",
            "Epoch: 10, Loss: 0.6746\n",
            "Val Accuracy: 0.4194\n",
            "Epoch: 11, Loss: 0.6729\n",
            "Val Accuracy: 0.4194\n",
            "Epoch: 12, Loss: 0.6703\n",
            "Val Accuracy: 0.4194\n",
            "Epoch: 13, Loss: 0.6675\n",
            "Val Accuracy: 0.4194\n",
            "Epoch: 14, Loss: 0.6666\n",
            "Val Accuracy: 0.4194\n",
            "Epoch: 15, Loss: 0.6648\n",
            "Val Accuracy: 0.4194\n",
            "Epoch: 16, Loss: 0.6586\n",
            "Val Accuracy: 0.4194\n",
            "Epoch: 17, Loss: 0.6554\n",
            "Val Accuracy: 0.4194\n",
            "Epoch: 18, Loss: 0.6491\n",
            "Val Accuracy: 0.4194\n",
            "Epoch: 19, Loss: 0.6444\n",
            "Val Accuracy: 0.4194\n",
            "Epoch: 20, Loss: 0.6365\n",
            "Val Accuracy: 0.4194\n",
            "Epoch: 21, Loss: 0.6307\n",
            "Val Accuracy: 0.4194\n",
            "Epoch: 22, Loss: 0.6144\n",
            "Val Accuracy: 0.4194\n",
            "Epoch: 23, Loss: 0.6030\n",
            "Val Accuracy: 0.4516\n",
            "Epoch: 24, Loss: 0.5851\n",
            "Val Accuracy: 0.4516\n",
            "Epoch: 25, Loss: 0.5631\n",
            "Val Accuracy: 0.7097\n",
            "Epoch: 26, Loss: 0.5460\n",
            "Val Accuracy: 0.6129\n",
            "Epoch: 27, Loss: 0.5200\n",
            "Val Accuracy: 0.8387\n",
            "Epoch: 28, Loss: 0.4884\n",
            "Val Accuracy: 0.6129\n",
            "Epoch: 29, Loss: 0.4792\n",
            "Val Accuracy: 0.8387\n",
            "Epoch: 30, Loss: 0.4758\n",
            "Val Accuracy: 0.8387\n",
            "Epoch: 31, Loss: 0.4210\n",
            "Val Accuracy: 0.7419\n",
            "Epoch: 32, Loss: 0.3991\n",
            "Val Accuracy: 0.8710\n",
            "Epoch: 33, Loss: 0.4025\n",
            "Val Accuracy: 0.9032\n",
            "Epoch: 34, Loss: 0.3409\n",
            "Val Accuracy: 0.9032\n",
            "Epoch: 35, Loss: 0.3299\n",
            "Val Accuracy: 0.9032\n",
            "Epoch: 36, Loss: 0.3122\n",
            "Val Accuracy: 0.9032\n",
            "Epoch: 37, Loss: 0.2914\n",
            "Val Accuracy: 0.8710\n",
            "Epoch: 38, Loss: 0.2773\n",
            "Val Accuracy: 0.8710\n",
            "Epoch: 39, Loss: 0.2899\n",
            "Val Accuracy: 0.6452\n",
            "Epoch: 40, Loss: 0.4995\n",
            "Val Accuracy: 0.8065\n",
            "Epoch: 41, Loss: 0.3103\n",
            "Val Accuracy: 0.8065\n",
            "Epoch: 42, Loss: 0.3119\n",
            "Val Accuracy: 0.8065\n",
            "Epoch: 43, Loss: 0.2533\n",
            "Val Accuracy: 0.7742\n",
            "Epoch: 44, Loss: 0.2824\n",
            "Val Accuracy: 0.9032\n",
            "Epoch: 45, Loss: 0.1965\n",
            "Val Accuracy: 0.8065\n",
            "Epoch: 46, Loss: 0.3048\n",
            "Val Accuracy: 0.9032\n",
            "Epoch: 47, Loss: 0.2231\n",
            "Val Accuracy: 0.8065\n",
            "Epoch: 48, Loss: 0.2393\n",
            "Val Accuracy: 0.8065\n",
            "Epoch: 49, Loss: 0.2162\n",
            "Val Accuracy: 0.8710\n",
            "Epoch: 50, Loss: 0.2039\n",
            "Val Accuracy: 0.9032\n",
            "Epoch: 51, Loss: 0.2093\n",
            "Val Accuracy: 0.8710\n",
            "Epoch: 52, Loss: 0.1725\n",
            "Val Accuracy: 0.8387\n",
            "Epoch: 53, Loss: 0.2455\n",
            "Val Accuracy: 0.8710\n",
            "Epoch: 54, Loss: 0.1731\n",
            "Val Accuracy: 0.9032\n",
            "Epoch: 55, Loss: 0.1748\n",
            "Val Accuracy: 0.9032\n",
            "Epoch: 56, Loss: 0.1994\n",
            "Val Accuracy: 0.8387\n",
            "Epoch: 57, Loss: 0.2006\n",
            "Val Accuracy: 0.8710\n",
            "Epoch: 58, Loss: 0.1623\n",
            "Val Accuracy: 0.8710\n",
            "Epoch: 59, Loss: 0.1487\n",
            "Val Accuracy: 0.9032\n",
            "Epoch: 60, Loss: 0.1400\n",
            "Val Accuracy: 0.8387\n",
            "Epoch: 61, Loss: 0.1493\n",
            "Val Accuracy: 0.8387\n",
            "Epoch: 62, Loss: 0.1564\n",
            "Val Accuracy: 0.8710\n",
            "Epoch: 63, Loss: 0.1556\n",
            "Val Accuracy: 0.9032\n",
            "Epoch: 64, Loss: 0.1300\n",
            "Val Accuracy: 0.8387\n",
            "Epoch: 65, Loss: 0.1443\n",
            "Val Accuracy: 0.8710\n",
            "Epoch: 66, Loss: 0.0735\n",
            "Val Accuracy: 0.8710\n",
            "Epoch: 67, Loss: 0.1477\n",
            "Val Accuracy: 0.8710\n",
            "Epoch: 68, Loss: 0.0865\n",
            "Val Accuracy: 0.8387\n",
            "Epoch: 69, Loss: 0.1295\n",
            "Val Accuracy: 0.9032\n",
            "Epoch: 70, Loss: 0.1058\n",
            "Val Accuracy: 0.8710\n",
            "Epoch: 71, Loss: 0.1737\n",
            "Val Accuracy: 0.8387\n",
            "Epoch: 72, Loss: 0.2491\n",
            "Val Accuracy: 0.8710\n",
            "Epoch: 73, Loss: 0.0580\n",
            "Val Accuracy: 0.8387\n",
            "Epoch: 74, Loss: 0.2016\n",
            "Val Accuracy: 0.8387\n",
            "Epoch: 75, Loss: 0.0923\n",
            "Val Accuracy: 0.8387\n",
            "Epoch: 76, Loss: 0.1042\n",
            "Val Accuracy: 0.8710\n",
            "Epoch: 77, Loss: 0.1061\n",
            "Val Accuracy: 0.8710\n",
            "Epoch: 78, Loss: 0.0888\n",
            "Val Accuracy: 0.8387\n",
            "Epoch: 79, Loss: 0.0413\n",
            "Val Accuracy: 0.8387\n",
            "Epoch: 80, Loss: 0.0956\n",
            "Val Accuracy: 0.8387\n",
            "Epoch: 81, Loss: 0.0456\n",
            "Val Accuracy: 0.9032\n",
            "Epoch: 82, Loss: 0.0397\n",
            "Val Accuracy: 0.8710\n",
            "Epoch: 83, Loss: 0.0401\n",
            "Val Accuracy: 0.8387\n",
            "Epoch: 84, Loss: 0.0283\n",
            "Val Accuracy: 0.8387\n",
            "Epoch: 85, Loss: 0.0667\n",
            "Val Accuracy: 0.8710\n",
            "Epoch: 86, Loss: 0.0335\n",
            "Val Accuracy: 0.8710\n",
            "Epoch: 87, Loss: 0.0146\n",
            "Val Accuracy: 0.8387\n",
            "Epoch: 88, Loss: 0.0233\n",
            "Val Accuracy: 0.8387\n",
            "Epoch: 89, Loss: 0.0355\n",
            "Val Accuracy: 0.8387\n",
            "Epoch: 90, Loss: 0.0382\n",
            "Val Accuracy: 0.8387\n",
            "Epoch: 91, Loss: 0.0177\n",
            "Val Accuracy: 0.8387\n",
            "Epoch: 92, Loss: 0.1717\n",
            "Val Accuracy: 0.8065\n",
            "Epoch: 93, Loss: 0.1392\n",
            "Val Accuracy: 0.7742\n",
            "Epoch: 94, Loss: 0.5163\n",
            "Val Accuracy: 0.8387\n",
            "Epoch: 95, Loss: 0.0942\n",
            "Val Accuracy: 0.4839\n",
            "Epoch: 96, Loss: 2.2143\n",
            "Val Accuracy: 0.9032\n",
            "Epoch: 97, Loss: 0.0493\n",
            "Val Accuracy: 0.7097\n",
            "Epoch: 98, Loss: 0.4600\n",
            "Val Accuracy: 0.6774\n",
            "Epoch: 99, Loss: 0.8586\n",
            "Val Accuracy: 0.7419\n",
            "Epoch: 100, Loss: 0.2237\n",
            "Val Accuracy: 0.8387\n",
            "Epoch: 101, Loss: 0.0536\n",
            "Val Accuracy: 0.8065\n",
            "Epoch: 102, Loss: 0.2404\n",
            "Val Accuracy: 0.7097\n",
            "Epoch: 103, Loss: 0.3919\n",
            "Val Accuracy: 0.7097\n",
            "Epoch: 104, Loss: 0.4126\n",
            "Val Accuracy: 0.8387\n",
            "Epoch: 105, Loss: 0.1571\n",
            "Val Accuracy: 0.8387\n",
            "Epoch: 106, Loss: 0.1012\n",
            "Val Accuracy: 0.8065\n",
            "Epoch: 107, Loss: 0.1325\n",
            "Val Accuracy: 0.7419\n",
            "Epoch: 108, Loss: 0.2983\n",
            "Val Accuracy: 0.7419\n",
            "Epoch: 109, Loss: 0.3007\n",
            "Val Accuracy: 0.7742\n",
            "Epoch: 110, Loss: 0.2298\n",
            "Val Accuracy: 0.8387\n",
            "Epoch: 111, Loss: 0.0988\n",
            "Val Accuracy: 0.8387\n",
            "Epoch: 112, Loss: 0.0804\n",
            "Val Accuracy: 0.8710\n",
            "Epoch: 113, Loss: 0.1247\n",
            "Val Accuracy: 0.8387\n",
            "Epoch: 114, Loss: 0.1722\n",
            "Val Accuracy: 0.8387\n",
            "Epoch: 115, Loss: 0.1650\n",
            "Val Accuracy: 0.8387\n",
            "Epoch: 116, Loss: 0.1508\n",
            "Val Accuracy: 0.8387\n",
            "Epoch: 117, Loss: 0.0644\n",
            "Val Accuracy: 0.8387\n",
            "Epoch: 118, Loss: 0.0559\n",
            "Val Accuracy: 0.8387\n",
            "Epoch: 119, Loss: 0.0596\n",
            "Val Accuracy: 0.8065\n",
            "Epoch: 120, Loss: 0.0802\n",
            "Val Accuracy: 0.8387\n",
            "Epoch: 121, Loss: 0.0919\n",
            "Val Accuracy: 0.8710\n",
            "Epoch: 122, Loss: 0.0728\n",
            "Val Accuracy: 0.8387\n",
            "Epoch: 123, Loss: 0.0291\n",
            "Val Accuracy: 0.8387\n",
            "Epoch: 124, Loss: 0.0253\n",
            "Val Accuracy: 0.8387\n",
            "Epoch: 125, Loss: 0.0113\n",
            "Val Accuracy: 0.8387\n",
            "Epoch: 126, Loss: 0.0762\n",
            "Val Accuracy: 0.8387\n",
            "Epoch: 127, Loss: 0.0640\n",
            "Val Accuracy: 0.8387\n",
            "Epoch: 128, Loss: 0.0303\n",
            "Val Accuracy: 0.8387\n",
            "Epoch: 129, Loss: 0.0178\n",
            "Val Accuracy: 0.8065\n",
            "Epoch: 130, Loss: 0.0226\n",
            "Val Accuracy: 0.8710\n",
            "Epoch: 131, Loss: 0.0056\n",
            "Val Accuracy: 0.8387\n",
            "Epoch: 132, Loss: 0.0069\n",
            "Val Accuracy: 0.8387\n",
            "Epoch: 133, Loss: 0.0055\n",
            "Val Accuracy: 0.8710\n",
            "Epoch: 134, Loss: 0.0121\n",
            "Val Accuracy: 0.8710\n",
            "Epoch: 135, Loss: 0.0056\n",
            "Val Accuracy: 0.8710\n",
            "Epoch: 136, Loss: 0.0025\n",
            "Val Accuracy: 0.8710\n",
            "Epoch: 137, Loss: 0.0153\n",
            "Val Accuracy: 0.8710\n",
            "Epoch: 138, Loss: 0.0325\n",
            "Val Accuracy: 0.8710\n",
            "Epoch: 139, Loss: 0.0026\n",
            "Val Accuracy: 0.8710\n",
            "Epoch: 140, Loss: 0.0069\n",
            "Val Accuracy: 0.8710\n",
            "Epoch: 141, Loss: 0.0025\n",
            "Val Accuracy: 0.8710\n",
            "Epoch: 142, Loss: 0.0090\n",
            "Val Accuracy: 0.8387\n",
            "Epoch: 143, Loss: 0.0029\n",
            "Val Accuracy: 0.8387\n",
            "Epoch: 144, Loss: 0.0292\n",
            "Val Accuracy: 0.8710\n",
            "Epoch: 145, Loss: 0.0070\n",
            "Val Accuracy: 0.8387\n",
            "Epoch: 146, Loss: 0.0027\n",
            "Val Accuracy: 0.8065\n",
            "Epoch: 147, Loss: 0.0054\n",
            "Val Accuracy: 0.8065\n",
            "Epoch: 148, Loss: 0.0036\n",
            "Val Accuracy: 0.8065\n",
            "Epoch: 149, Loss: 0.0039\n",
            "Val Accuracy: 0.8065\n",
            "Epoch: 150, Loss: 0.0037\n",
            "Val Accuracy: 0.8065\n",
            "Epoch: 151, Loss: 0.0097\n",
            "Val Accuracy: 0.8065\n",
            "Epoch: 152, Loss: 0.0077\n",
            "Val Accuracy: 0.8065\n",
            "Epoch: 153, Loss: 0.0058\n",
            "Val Accuracy: 0.8710\n",
            "Epoch: 154, Loss: 0.0208\n",
            "Val Accuracy: 0.8065\n",
            "Epoch: 155, Loss: 0.0425\n",
            "Val Accuracy: 0.8065\n",
            "Epoch: 156, Loss: 0.0315\n",
            "Val Accuracy: 0.8387\n",
            "Epoch: 157, Loss: 0.0035\n",
            "Val Accuracy: 0.8387\n",
            "Epoch: 158, Loss: 0.0052\n",
            "Val Accuracy: 0.8387\n",
            "Epoch: 159, Loss: 0.0067\n",
            "Val Accuracy: 0.8387\n",
            "Epoch: 160, Loss: 0.0070\n",
            "Val Accuracy: 0.8387\n",
            "Epoch: 161, Loss: 0.0026\n",
            "Val Accuracy: 0.8387\n",
            "Epoch: 162, Loss: 0.0061\n",
            "Val Accuracy: 0.8387\n",
            "Epoch: 163, Loss: 0.0095\n",
            "Val Accuracy: 0.8710\n",
            "Epoch: 164, Loss: 0.0041\n",
            "Val Accuracy: 0.8710\n",
            "Epoch: 165, Loss: 0.0043\n",
            "Val Accuracy: 0.8710\n",
            "Epoch: 166, Loss: 0.0045\n",
            "Val Accuracy: 0.8387\n",
            "Epoch: 167, Loss: 0.0046\n",
            "Val Accuracy: 0.8387\n",
            "Epoch: 168, Loss: 0.0043\n",
            "Val Accuracy: 0.8387\n",
            "Epoch: 169, Loss: 0.0283\n",
            "Val Accuracy: 0.8387\n",
            "Epoch: 170, Loss: 0.0033\n",
            "Val Accuracy: 0.8387\n",
            "Epoch: 171, Loss: 0.0037\n",
            "Val Accuracy: 0.8387\n",
            "Epoch: 172, Loss: 0.0033\n",
            "Val Accuracy: 0.8387\n",
            "Epoch: 173, Loss: 0.0329\n",
            "Val Accuracy: 0.8387\n",
            "Epoch: 174, Loss: 0.0035\n",
            "Val Accuracy: 0.8387\n",
            "Epoch: 175, Loss: 0.0179\n",
            "Val Accuracy: 0.8387\n",
            "Epoch: 176, Loss: 0.0043\n",
            "Val Accuracy: 0.8387\n",
            "Epoch: 177, Loss: 0.0038\n",
            "Val Accuracy: 0.8387\n",
            "Epoch: 178, Loss: 0.0027\n",
            "Val Accuracy: 0.8387\n",
            "Epoch: 179, Loss: 0.0392\n",
            "Val Accuracy: 0.8710\n",
            "Epoch: 180, Loss: 0.0075\n",
            "Val Accuracy: 0.8710\n",
            "Epoch: 181, Loss: 0.0350\n",
            "Val Accuracy: 0.8710\n",
            "Epoch: 182, Loss: 0.0057\n",
            "Val Accuracy: 0.8710\n",
            "Epoch: 183, Loss: 0.0169\n",
            "Val Accuracy: 0.8710\n",
            "Epoch: 184, Loss: 0.0078\n",
            "Val Accuracy: 0.8710\n",
            "Epoch: 185, Loss: 0.0033\n",
            "Val Accuracy: 0.8710\n",
            "Epoch: 186, Loss: 0.0050\n",
            "Val Accuracy: 0.8710\n",
            "Epoch: 187, Loss: 0.0203\n",
            "Val Accuracy: 0.8710\n",
            "Epoch: 188, Loss: 0.0041\n",
            "Val Accuracy: 0.8710\n",
            "Epoch: 189, Loss: 0.0368\n",
            "Val Accuracy: 0.8710\n",
            "Epoch: 190, Loss: 0.0768\n",
            "Val Accuracy: 0.8387\n",
            "Epoch: 191, Loss: 0.0038\n",
            "Val Accuracy: 0.8387\n",
            "Epoch: 192, Loss: 0.0115\n",
            "Val Accuracy: 0.8387\n",
            "Epoch: 193, Loss: 0.0081\n",
            "Val Accuracy: 0.8387\n",
            "Epoch: 194, Loss: 0.0048\n",
            "Val Accuracy: 0.8387\n",
            "Epoch: 195, Loss: 0.0162\n",
            "Val Accuracy: 0.8387\n",
            "Epoch: 196, Loss: 0.0062\n",
            "Val Accuracy: 0.8387\n",
            "Epoch: 197, Loss: 0.0039\n",
            "Val Accuracy: 0.8387\n",
            "Epoch: 198, Loss: 0.0043\n",
            "Val Accuracy: 0.8710\n",
            "Epoch: 199, Loss: 0.0058\n",
            "Val Accuracy: 0.8710\n",
            "**Loading The Best model on Validation Dataset: \n",
            "Test result:  0.9276018099547512 0.9275884665792923 0.9276018099547512 0.9619047619047619 0.8938053097345132\n"
          ]
        }
      ]
    },
    {
      "cell_type": "code",
      "source": [],
      "metadata": {
        "id": "hdeD3_xYgcBm"
      },
      "execution_count": null,
      "outputs": []
    },
    {
      "cell_type": "markdown",
      "source": [
        "# **Visualization**"
      ],
      "metadata": {
        "id": "MXAvzUkrSRgG"
      }
    },
    {
      "cell_type": "code",
      "source": [
        "import matplotlib.pyplot as plt\n",
        "\n",
        "# Dữ liệu\n",
        "categories = ['GCN', 'GraphSAGE','GAT', 'GCN_FN', 'BiGCN','HGFND']\n",
        "values = [acc_GCN, acc_GraphSAGE, acc_GAT, acc_GCN_FN, acc_BiGCN, acc_HGFND]\n",
        "\n",
        "plt.figure(figsize=(6, 4))\n",
        "plt.bar(categories, values, color=['blue', 'green', 'red','purple', 'yellow','pink'])\n",
        "plt.xlabel('Model')\n",
        "plt.ylabel('Values')\n",
        "plt.title('Accuracy')\n",
        "\n",
        "# Hiển thị giá trị trên cột\n",
        "for i in range(len(categories)):\n",
        "     plt.text(i, values[i], '{:.2}'.format(values[i]), ha='center', va='bottom')\n",
        "\n",
        "# Hiển thị biểu đồ\n",
        "plt.tight_layout()\n",
        "plt.show()"
      ],
      "metadata": {
        "colab": {
          "base_uri": "https://localhost:8080/"
        },
        "id": "2Di8jaA0Qb4s",
        "outputId": "dfcfcf1e-a946-45d5-9503-7c5ac89e0b8a"
      },
      "execution_count": null,
      "outputs": [
        {
          "output_type": "display_data",
          "data": {
            "text/plain": [
              "<Figure size 600x400 with 1 Axes>"
            ],
            "image/png": "[encoded data removed]"
          },
          "metadata": {}
        }
      ]
    },
    {
      "cell_type": "code",
      "source": [
        "# Dữ liệu\n",
        "categories = ['GCN', 'GraphSAGE','GAT', 'GCN_FN', 'BiGCN', 'HGFND']\n",
        "values = [f1_GCN, f1_GraphSAGE, f1_GAT, f1_GCN_FN, f1_BiGCN, f1_HGFND]\n",
        "\n",
        "plt.figure(figsize=(6, 4))\n",
        "plt.bar(categories, values, color=['blue', 'green', 'red','purple', 'yellow','pink'])\n",
        "plt.xlabel('Model')\n",
        "plt.ylabel('Values')\n",
        "plt.title('F1 Score')\n",
        "\n",
        "# Hiển thị giá trị trên cột\n",
        "for i in range(len(categories)):\n",
        "     plt.text(i, values[i], '{:.2f}'.format(values[i]), ha='center', va='bottom')\n",
        "\n",
        "plt.tight_layout()\n",
        "plt.show()"
      ],
      "metadata": {
        "id": "FF70l6dsRiew",
        "colab": {
          "base_uri": "https://localhost:8080/"
        },
        "outputId": "fac3dc61-3cc9-4454-88cd-b238e8541d9b"
      },
      "execution_count": null,
      "outputs": [
        {
          "output_type": "display_data",
          "data": {
            "text/plain": [
              "<Figure size 600x400 with 1 Axes>"
            ],
            "image/png": "[encoded data removed]"
          },
          "metadata": {}
        }
      ]
    }
  ]
}